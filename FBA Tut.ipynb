{
 "cells": [
  {
   "cell_type": "code",
   "execution_count": 1,
   "id": "470727ae",
   "metadata": {},
   "outputs": [],
   "source": [
    "import cobra"
   ]
  },
  {
   "cell_type": "code",
   "execution_count": 2,
   "id": "bc2b1003",
   "metadata": {},
   "outputs": [],
   "source": [
    "cobra_config = cobra.Configuration()"
   ]
  },
  {
   "cell_type": "code",
   "execution_count": 3,
   "id": "6def8673",
   "metadata": {},
   "outputs": [
    {
     "data": {
      "text/plain": [
       "-1000.0"
      ]
     },
     "execution_count": 3,
     "metadata": {},
     "output_type": "execute_result"
    }
   ],
   "source": [
    "cobra_config.lower_bound"
   ]
  },
  {
   "cell_type": "code",
   "execution_count": 4,
   "id": "5225505f",
   "metadata": {},
   "outputs": [
    {
     "data": {
      "text/plain": [
       "(-1000.0, 1000.0)"
      ]
     },
     "execution_count": 4,
     "metadata": {},
     "output_type": "execute_result"
    }
   ],
   "source": [
    "cobra_config.bounds"
   ]
  },
  {
   "cell_type": "code",
   "execution_count": 5,
   "id": "f7a5cd9a",
   "metadata": {},
   "outputs": [],
   "source": [
    "cobra_config.bounds = -10,20"
   ]
  },
  {
   "cell_type": "code",
   "execution_count": 6,
   "id": "51f746d7",
   "metadata": {},
   "outputs": [
    {
     "data": {
      "text/plain": [
       "(-10, 20)"
      ]
     },
     "execution_count": 6,
     "metadata": {},
     "output_type": "execute_result"
    }
   ],
   "source": [
    "cobra_config.bounds"
   ]
  },
  {
   "cell_type": "code",
   "execution_count": 7,
   "id": "321f5c78",
   "metadata": {},
   "outputs": [
    {
     "data": {
      "text/html": [
       "\n",
       "        <table>\n",
       "            <tr>\n",
       "                <td><strong>Reaction identifier</strong></td><td>R1</td>\n",
       "            </tr><tr>\n",
       "                <td><strong>Name</strong></td><td></td>\n",
       "            </tr><tr>\n",
       "                <td><strong>Memory address</strong></td>\n",
       "                <td>0x02a50f70f220</td>\n",
       "            </tr><tr>\n",
       "                <td><strong>Stoichiometry</strong></td>\n",
       "                <td>\n",
       "                    <p style='text-align:right'>--></p>\n",
       "                    <p style='text-align:right'>--></p>\n",
       "                </td>\n",
       "            </tr><tr>\n",
       "                <td><strong>GPR</strong></td><td></td>\n",
       "            </tr><tr>\n",
       "                <td><strong>Lower bound</strong></td><td>0.0</td>\n",
       "            </tr><tr>\n",
       "                <td><strong>Upper bound</strong></td><td>20</td>\n",
       "            </tr>\n",
       "        </table>\n",
       "        "
      ],
      "text/plain": [
       "<Reaction R1 at 0x2a50f70f220>"
      ]
     },
     "execution_count": 7,
     "metadata": {},
     "output_type": "execute_result"
    }
   ],
   "source": [
    "cobra.Reaction(\"R1\")"
   ]
  },
  {
   "cell_type": "code",
   "execution_count": 8,
   "id": "c8ebfd89",
   "metadata": {},
   "outputs": [
    {
     "data": {
      "text/html": [
       "\n",
       "        <table>\n",
       "            <tr>\n",
       "                <td><strong>Reaction identifier</strong></td><td>R2</td>\n",
       "            </tr><tr>\n",
       "                <td><strong>Name</strong></td><td></td>\n",
       "            </tr><tr>\n",
       "                <td><strong>Memory address</strong></td>\n",
       "                <td>0x02a50f70f670</td>\n",
       "            </tr><tr>\n",
       "                <td><strong>Stoichiometry</strong></td>\n",
       "                <td>\n",
       "                    <p style='text-align:right'>--></p>\n",
       "                    <p style='text-align:right'>--></p>\n",
       "                </td>\n",
       "            </tr><tr>\n",
       "                <td><strong>GPR</strong></td><td></td>\n",
       "            </tr><tr>\n",
       "                <td><strong>Lower bound</strong></td><td>0.0</td>\n",
       "            </tr><tr>\n",
       "                <td><strong>Upper bound</strong></td><td>20</td>\n",
       "            </tr>\n",
       "        </table>\n",
       "        "
      ],
      "text/plain": [
       "<Reaction R2 at 0x2a50f70f670>"
      ]
     },
     "execution_count": 8,
     "metadata": {},
     "output_type": "execute_result"
    }
   ],
   "source": [
    "cobra.Reaction(\"R2\")"
   ]
  },
  {
   "cell_type": "code",
   "execution_count": 11,
   "id": "a1c221d5",
   "metadata": {},
   "outputs": [
    {
     "data": {
      "text/html": [
       "\n",
       "<table>\n",
       "  <thead>\n",
       "    <tr>\n",
       "      <td><strong>Attribute</strong></td>\n",
       "      <td><strong>Description</strong></td>\n",
       "      <td><strong>Value</strong></td>\n",
       "    </tr>\n",
       "  </thead>\n",
       "  <tbody>\n",
       "    <tr>\n",
       "      <td><pre>solver</pre></td>\n",
       "      <td>Mathematical optimization solver</td>\n",
       "      <td>glpk</td>\n",
       "    </tr>\n",
       "    <tr>\n",
       "        <td><pre>tolerance</pre></td>\n",
       "        <td>General solver tolerance (feasibility, integrality, etc.)</td>\n",
       "        <td>1e-07</td>\n",
       "    </tr>\n",
       "    <tr>\n",
       "        <td><pre>lower_bound</pre></td>\n",
       "        <td>Default reaction lower bound</td>\n",
       "        <td>-10</td>\n",
       "    </tr>\n",
       "    <tr>\n",
       "        <td><pre>upper_bound</pre></td>\n",
       "        <td>Default reaction upper bound</td>\n",
       "        <td>20</td>\n",
       "    </tr>\n",
       "    <tr>\n",
       "        <td><pre>processes</pre></td>\n",
       "        <td>Number of parallel processes</td>\n",
       "        <td>11</td>\n",
       "    </tr>\n",
       "    <tr>\n",
       "        <td><pre>cache_directory</pre></td>\n",
       "        <td>Path for the model cache</td>\n",
       "        <td>C:\\Users\\koush\\AppData\\Local\\opencobra\\cobrapy\\Cache</td>\n",
       "    </tr>\n",
       "    <tr>\n",
       "        <td><pre>max_cache_size</pre></td>\n",
       "        <td>Maximum cache size in bytes</td>\n",
       "        <td>104857600</td>\n",
       "    </tr>\n",
       "    <tr>\n",
       "        <td><pre>cache_expiration</pre></td>\n",
       "        <td>Model cache expiration time in seconds (if any)</td>\n",
       "        <td>None</td>\n",
       "    </tr>\n",
       "  </tbody>\n",
       "</table>\n"
      ],
      "text/plain": [
       "\n",
       "solver: glpk\n",
       "tolerance: 1e-07\n",
       "lower_bound: -10\n",
       "upper_bound: 20\n",
       "processes: 11\n",
       "cache_directory: C:\\Users\\koush\\AppData\\Local\\opencobra\\cobrapy\\Cache\n",
       "max_cache_size: 104857600\n",
       "cache_expiration: None"
      ]
     },
     "execution_count": 11,
     "metadata": {},
     "output_type": "execute_result"
    }
   ],
   "source": [
    "cobra_config"
   ]
  },
  {
   "cell_type": "code",
   "execution_count": 12,
   "id": "4bc22145",
   "metadata": {},
   "outputs": [
    {
     "data": {
      "text/plain": [
       "<module 'cobra' from 'C:\\\\Users\\\\koush\\\\anaconda3\\\\envs\\\\FBA\\\\lib\\\\site-packages\\\\cobra\\\\__init__.py'>"
      ]
     },
     "execution_count": 12,
     "metadata": {},
     "output_type": "execute_result"
    }
   ],
   "source": [
    "cobra"
   ]
  },
  {
   "cell_type": "code",
   "execution_count": 13,
   "id": "5e17ba91",
   "metadata": {},
   "outputs": [
    {
     "data": {
      "text/html": [
       "\n",
       "        <table>\n",
       "            <tr>\n",
       "                <td><strong>Reaction identifier</strong></td><td>R2</td>\n",
       "            </tr><tr>\n",
       "                <td><strong>Name</strong></td><td></td>\n",
       "            </tr><tr>\n",
       "                <td><strong>Memory address</strong></td>\n",
       "                <td>0x02a50f70f8b0</td>\n",
       "            </tr><tr>\n",
       "                <td><strong>Stoichiometry</strong></td>\n",
       "                <td>\n",
       "                    <p style='text-align:right'><=></p>\n",
       "                    <p style='text-align:right'><=></p>\n",
       "                </td>\n",
       "            </tr><tr>\n",
       "                <td><strong>GPR</strong></td><td></td>\n",
       "            </tr><tr>\n",
       "                <td><strong>Lower bound</strong></td><td>-10</td>\n",
       "            </tr><tr>\n",
       "                <td><strong>Upper bound</strong></td><td>20</td>\n",
       "            </tr>\n",
       "        </table>\n",
       "        "
      ],
      "text/plain": [
       "<Reaction R2 at 0x2a50f70f8b0>"
      ]
     },
     "execution_count": 13,
     "metadata": {},
     "output_type": "execute_result"
    }
   ],
   "source": [
    "cobra.Reaction(\"R2\", lower_bound = None)"
   ]
  },
  {
   "cell_type": "code",
   "execution_count": 26,
   "id": "d3594645",
   "metadata": {},
   "outputs": [],
   "source": [
    "from cobra.test import create_test_model"
   ]
  },
  {
   "cell_type": "code",
   "execution_count": 27,
   "id": "6635ece8",
   "metadata": {},
   "outputs": [],
   "source": [
    "model = create_test_model(\"textbook\")"
   ]
  },
  {
   "cell_type": "code",
   "execution_count": 32,
   "id": "ff95af9d",
   "metadata": {},
   "outputs": [
    {
     "data": {
      "text/html": [
       "\n",
       "        <table>\n",
       "            <tr>\n",
       "                <td><strong>Name</strong></td>\n",
       "                <td>e_coli_core</td>\n",
       "            </tr><tr>\n",
       "                <td><strong>Memory address</strong></td>\n",
       "                <td>0x02223d2131f0</td>\n",
       "            </tr><tr>\n",
       "                <td><strong>Number of metabolites</strong></td>\n",
       "                <td>72</td>\n",
       "            </tr><tr>\n",
       "                <td><strong>Number of reactions</strong></td>\n",
       "                <td>95</td>\n",
       "            </tr><tr>\n",
       "                <td><strong>Number of groups</strong></td>\n",
       "                <td>0</td>\n",
       "            </tr><tr>\n",
       "                <td><strong>Objective expression</strong></td>\n",
       "                <td>1.0*Biomass_Ecoli_core - 1.0*Biomass_Ecoli_core_reverse_2cdba</td>\n",
       "            </tr><tr>\n",
       "                <td><strong>Compartments</strong></td>\n",
       "                <td>cytosol, extracellular</td>\n",
       "            </tr>\n",
       "          </table>"
      ],
      "text/plain": [
       "<Model e_coli_core at 0x2223d2131f0>"
      ]
     },
     "execution_count": 32,
     "metadata": {},
     "output_type": "execute_result"
    }
   ],
   "source": [
    "model"
   ]
  },
  {
   "cell_type": "code",
   "execution_count": 33,
   "id": "4fd0ab02",
   "metadata": {},
   "outputs": [
    {
     "data": {
      "text/plain": [
       "<module 'cobra' from 'C:\\\\Users\\\\koush\\\\anaconda3\\\\envs\\\\FBA\\\\lib\\\\site-packages\\\\cobra\\\\__init__.py'>"
      ]
     },
     "execution_count": 33,
     "metadata": {},
     "output_type": "execute_result"
    }
   ],
   "source": [
    "cobra"
   ]
  },
  {
   "cell_type": "code",
   "execution_count": 30,
   "id": "d0bb7d10",
   "metadata": {},
   "outputs": [
    {
     "data": {
      "text/html": [
       "\n",
       "        <table>\n",
       "            <tr>\n",
       "                <td><strong>Reaction identifier</strong></td><td>ACt2r</td>\n",
       "            </tr><tr>\n",
       "                <td><strong>Name</strong></td><td></td>\n",
       "            </tr><tr>\n",
       "                <td><strong>Memory address</strong></td>\n",
       "                <td>0x02223d51db50</td>\n",
       "            </tr><tr>\n",
       "                <td><strong>Stoichiometry</strong></td>\n",
       "                <td>\n",
       "                    <p style='text-align:right'>--></p>\n",
       "                    <p style='text-align:right'>--></p>\n",
       "                </td>\n",
       "            </tr><tr>\n",
       "                <td><strong>GPR</strong></td><td></td>\n",
       "            </tr><tr>\n",
       "                <td><strong>Lower bound</strong></td><td>0</td>\n",
       "            </tr><tr>\n",
       "                <td><strong>Upper bound</strong></td><td>1000.0</td>\n",
       "            </tr>\n",
       "        </table>\n",
       "        "
      ],
      "text/plain": [
       "<Reaction ACt2r at 0x2223d51db50>"
      ]
     },
     "execution_count": 30,
     "metadata": {},
     "output_type": "execute_result"
    }
   ],
   "source": [
    "cobra.Reaction(\"ACt2r\",lower_bound = 0)"
   ]
  },
  {
   "cell_type": "code",
   "execution_count": 36,
   "id": "77308c9b",
   "metadata": {},
   "outputs": [],
   "source": [
    "model.reactions.ACt2r.lower_bound = -1000"
   ]
  },
  {
   "cell_type": "code",
   "execution_count": 37,
   "id": "2c3cd373",
   "metadata": {},
   "outputs": [
    {
     "data": {
      "text/html": [
       "\n",
       "        <table>\n",
       "            <tr>\n",
       "                <td><strong>Reaction identifier</strong></td><td>ACt2r</td>\n",
       "            </tr><tr>\n",
       "                <td><strong>Name</strong></td><td>R acetate reversible transport via proton - symport</td>\n",
       "            </tr><tr>\n",
       "                <td><strong>Memory address</strong></td>\n",
       "                <td>0x02223d47f910</td>\n",
       "            </tr><tr>\n",
       "                <td><strong>Stoichiometry</strong></td>\n",
       "                <td>\n",
       "                    <p style='text-align:right'>ac_e + h_e <=> ac_c + h_c</p>\n",
       "                    <p style='text-align:right'>Acetate + H+ <=> Acetate + H+</p>\n",
       "                </td>\n",
       "            </tr><tr>\n",
       "                <td><strong>GPR</strong></td><td></td>\n",
       "            </tr><tr>\n",
       "                <td><strong>Lower bound</strong></td><td>-1000</td>\n",
       "            </tr><tr>\n",
       "                <td><strong>Upper bound</strong></td><td>1000.0</td>\n",
       "            </tr>\n",
       "        </table>\n",
       "        "
      ],
      "text/plain": [
       "<Reaction ACt2r at 0x2223d47f910>"
      ]
     },
     "execution_count": 37,
     "metadata": {},
     "output_type": "execute_result"
    }
   ],
   "source": [
    "model.reactions.ACt2r"
   ]
  },
  {
   "cell_type": "code",
   "execution_count": 17,
   "id": "ab7f61e9",
   "metadata": {},
   "outputs": [
    {
     "data": {
      "text/plain": [
       "[<Reaction ACALD at 0x2a50f78aac0>,\n",
       " <Reaction ACALDt at 0x2a50f78aaf0>,\n",
       " <Reaction ACKr at 0x2a50f78adf0>,\n",
       " <Reaction ACONTa at 0x2a50f78ae50>,\n",
       " <Reaction ACONTb at 0x2a50f78ad60>,\n",
       " <Reaction ACt2r at 0x2a50f78aa90>,\n",
       " <Reaction ADK1 at 0x2a50f78aee0>,\n",
       " <Reaction AKGDH at 0x2a50f78ab80>,\n",
       " <Reaction AKGt2r at 0x2a50f7988e0>,\n",
       " <Reaction ALCD2x at 0x2a50f798f40>,\n",
       " <Reaction ATPM at 0x2a50f798d90>,\n",
       " <Reaction ATPS4r at 0x2a50f78ad30>,\n",
       " <Reaction Biomass_Ecoli_core at 0x2a50f78ad90>,\n",
       " <Reaction CO2t at 0x2a50f7b3670>,\n",
       " <Reaction CS at 0x2a50f798850>,\n",
       " <Reaction CYTBD at 0x2a50f7b3220>,\n",
       " <Reaction D_LACt2 at 0x2a50f7a8c70>,\n",
       " <Reaction ENO at 0x2a50f798b20>,\n",
       " <Reaction ETOHt2r at 0x2a50f798d60>,\n",
       " <Reaction EX_ac_e at 0x2a50f7b31f0>,\n",
       " <Reaction EX_acald_e at 0x2a50f7bdb20>,\n",
       " <Reaction EX_akg_e at 0x2a50f7a8880>,\n",
       " <Reaction EX_co2_e at 0x2a50f7bdd00>,\n",
       " <Reaction EX_etoh_e at 0x2a50f7a8640>,\n",
       " <Reaction EX_for_e at 0x2a50f7bde50>,\n",
       " <Reaction EX_fru_e at 0x2a50f78aca0>,\n",
       " <Reaction EX_fum_e at 0x2a50f78ae20>,\n",
       " <Reaction EX_glc__D_e at 0x2a50f7bdfa0>,\n",
       " <Reaction EX_gln__L_e at 0x2a50f7c84c0>,\n",
       " <Reaction EX_glu__L_e at 0x2a50f7c8640>,\n",
       " <Reaction EX_h_e at 0x2a50f7c83a0>,\n",
       " <Reaction EX_h2o_e at 0x2a50f7c87f0>,\n",
       " <Reaction EX_lac__D_e at 0x2a50f7c88b0>,\n",
       " <Reaction EX_mal__L_e at 0x2a50f7c8970>,\n",
       " <Reaction EX_nh4_e at 0x2a50f7c8a30>,\n",
       " <Reaction EX_o2_e at 0x2a50f7c8af0>,\n",
       " <Reaction EX_pi_e at 0x2a50f7c8bb0>,\n",
       " <Reaction EX_pyr_e at 0x2a50f7c8c70>,\n",
       " <Reaction EX_succ_e at 0x2a50f7c8d30>,\n",
       " <Reaction FBA at 0x2a50f7c8df0>,\n",
       " <Reaction FBP at 0x2a50f7c8fa0>,\n",
       " <Reaction FORt2 at 0x2a50f7bdc40>,\n",
       " <Reaction FORti at 0x2a50f7c8cd0>,\n",
       " <Reaction FRD7 at 0x2a50f7c8ee0>,\n",
       " <Reaction FRUpts2 at 0x2a50f798ac0>,\n",
       " <Reaction FUM at 0x2a50f7d4e20>,\n",
       " <Reaction FUMt2_2 at 0x2a50f7d4ac0>,\n",
       " <Reaction G6PDH2r at 0x2a50f7c89d0>,\n",
       " <Reaction GAPD at 0x2a50f7c8d90>,\n",
       " <Reaction GLCpts at 0x2a50f7d4eb0>,\n",
       " <Reaction GLNS at 0x2a50f7dfe80>,\n",
       " <Reaction GLNabc at 0x2a50f7d4ee0>,\n",
       " <Reaction GLUDy at 0x2a50f7bdb80>,\n",
       " <Reaction GLUN at 0x2a50f7ebca0>,\n",
       " <Reaction GLUSy at 0x2a50f7ebfd0>,\n",
       " <Reaction GLUt2r at 0x2a50f7eb160>,\n",
       " <Reaction GND at 0x2a50f7eb250>,\n",
       " <Reaction H2Ot at 0x2a50f7dff10>,\n",
       " <Reaction ICDHyr at 0x2a50f7d4340>,\n",
       " <Reaction ICL at 0x2a50f7d4820>,\n",
       " <Reaction LDH_D at 0x2a50f7d4f40>,\n",
       " <Reaction MALS at 0x2a50f7dfee0>,\n",
       " <Reaction MALt2_2 at 0x2a50f7d44c0>,\n",
       " <Reaction MDH at 0x2a50f7f5820>,\n",
       " <Reaction ME1 at 0x2a50f7d4f10>,\n",
       " <Reaction ME2 at 0x2a50f7f5d90>,\n",
       " <Reaction NADH16 at 0x2a50f7dfd30>,\n",
       " <Reaction NADTRHD at 0x2a50f7dfb20>,\n",
       " <Reaction NH4t at 0x2a50f80be20>,\n",
       " <Reaction O2t at 0x2a50f80b1f0>,\n",
       " <Reaction PDH at 0x2a50f80ba00>,\n",
       " <Reaction PFK at 0x2a50f7d4af0>,\n",
       " <Reaction PFL at 0x2a50f7c8f70>,\n",
       " <Reaction PGI at 0x2a50f801760>,\n",
       " <Reaction PGK at 0x2a50f801c70>,\n",
       " <Reaction PGL at 0x2a50f8173d0>,\n",
       " <Reaction PGM at 0x2a50f80bca0>,\n",
       " <Reaction PIt2r at 0x2a50f7f5dc0>,\n",
       " <Reaction PPC at 0x2a50f801d60>,\n",
       " <Reaction PPCK at 0x2a50f801e50>,\n",
       " <Reaction PPS at 0x2a50f81eee0>,\n",
       " <Reaction PTAr at 0x2a50f81e9a0>,\n",
       " <Reaction PYK at 0x2a50f817f40>,\n",
       " <Reaction PYRt2 at 0x2a50f81ec40>,\n",
       " <Reaction RPE at 0x2a50f81ec10>,\n",
       " <Reaction RPI at 0x2a50f8012e0>,\n",
       " <Reaction SUCCt2_2 at 0x2a50f817cd0>,\n",
       " <Reaction SUCCt3 at 0x2a50f82aca0>,\n",
       " <Reaction SUCDi at 0x2a50f80b7c0>,\n",
       " <Reaction SUCOAS at 0x2a50f82a940>,\n",
       " <Reaction TALA at 0x2a50f817f10>,\n",
       " <Reaction THD2 at 0x2a50f835bb0>,\n",
       " <Reaction TKT1 at 0x2a50f835a00>,\n",
       " <Reaction TKT2 at 0x2a50f835c70>,\n",
       " <Reaction TPI at 0x2a50f835f40>]"
      ]
     },
     "execution_count": 17,
     "metadata": {},
     "output_type": "execute_result"
    }
   ],
   "source": [
    "model.reactions"
   ]
  },
  {
   "cell_type": "code",
   "execution_count": 19,
   "id": "956e482b",
   "metadata": {},
   "outputs": [
    {
     "data": {
      "text/plain": [
       "<optlang.glpk_interface.Model at 0x2a50f70fe80>"
      ]
     },
     "execution_count": 19,
     "metadata": {},
     "output_type": "execute_result"
    }
   ],
   "source": [
    "model.solver"
   ]
  },
  {
   "cell_type": "code",
   "execution_count": 22,
   "id": "ac44b204",
   "metadata": {},
   "outputs": [],
   "source": [
    "cobra_config.solver = \"glpk_exact\""
   ]
  },
  {
   "cell_type": "code",
   "execution_count": 24,
   "id": "0ee3ed59",
   "metadata": {},
   "outputs": [],
   "source": [
    "new_model = create_test_model(\"textbook\")"
   ]
  },
  {
   "cell_type": "code",
   "execution_count": 25,
   "id": "c0869481",
   "metadata": {},
   "outputs": [
    {
     "data": {
      "text/plain": [
       "<optlang.glpk_exact_interface.Model at 0x2a50f70fc40>"
      ]
     },
     "execution_count": 25,
     "metadata": {},
     "output_type": "execute_result"
    }
   ],
   "source": [
    "new_model.solver"
   ]
  },
  {
   "cell_type": "code",
   "execution_count": 27,
   "id": "c7c29474",
   "metadata": {},
   "outputs": [
    {
     "data": {
      "text/plain": [
       "<optlang.glpk_interface.Model at 0x2a50f9adc40>"
      ]
     },
     "execution_count": 27,
     "metadata": {},
     "output_type": "execute_result"
    }
   ],
   "source": [
    "cobra_config.solver=\"glpk\"\n",
    "model2 = create_test_model(\"textbook\")\n",
    "model2.solver"
   ]
  },
  {
   "cell_type": "code",
   "execution_count": 30,
   "id": "f25804d4",
   "metadata": {},
   "outputs": [],
   "source": [
    "from cobra import Model,Reaction,Metabolite\n",
    "model = Model('new_model')\n",
    "reaction = Reaction('R_3OAS140')\n",
    "reaction.name = '3 oxoacyl acyl carrier protein synthase n C140'\n",
    "reaction.subsystem = 'Cell Envelope Biosynthesis'\n",
    "reaction.lower_bound = 0\n",
    "reaction.upper_bound = 1000"
   ]
  },
  {
   "cell_type": "code",
   "execution_count": 31,
   "id": "c9df76c0",
   "metadata": {},
   "outputs": [
    {
     "data": {
      "text/html": [
       "\n",
       "        <table>\n",
       "            <tr>\n",
       "                <td><strong>Name</strong></td>\n",
       "                <td>new_model</td>\n",
       "            </tr><tr>\n",
       "                <td><strong>Memory address</strong></td>\n",
       "                <td>0x02a50fa7a4c0</td>\n",
       "            </tr><tr>\n",
       "                <td><strong>Number of metabolites</strong></td>\n",
       "                <td>0</td>\n",
       "            </tr><tr>\n",
       "                <td><strong>Number of reactions</strong></td>\n",
       "                <td>0</td>\n",
       "            </tr><tr>\n",
       "                <td><strong>Number of groups</strong></td>\n",
       "                <td>0</td>\n",
       "            </tr><tr>\n",
       "                <td><strong>Objective expression</strong></td>\n",
       "                <td>0</td>\n",
       "            </tr><tr>\n",
       "                <td><strong>Compartments</strong></td>\n",
       "                <td></td>\n",
       "            </tr>\n",
       "          </table>"
      ],
      "text/plain": [
       "<Model new_model at 0x2a50fa7a4c0>"
      ]
     },
     "execution_count": 31,
     "metadata": {},
     "output_type": "execute_result"
    }
   ],
   "source": [
    "model"
   ]
  },
  {
   "cell_type": "code",
   "execution_count": 32,
   "id": "bd5d3049",
   "metadata": {},
   "outputs": [
    {
     "data": {
      "text/html": [
       "\n",
       "        <table>\n",
       "            <tr>\n",
       "                <td><strong>Reaction identifier</strong></td><td>R_3OAS140</td>\n",
       "            </tr><tr>\n",
       "                <td><strong>Name</strong></td><td>3 oxoacyl acyl carrier protein synthase n C140</td>\n",
       "            </tr><tr>\n",
       "                <td><strong>Memory address</strong></td>\n",
       "                <td>0x02a50fa5da30</td>\n",
       "            </tr><tr>\n",
       "                <td><strong>Stoichiometry</strong></td>\n",
       "                <td>\n",
       "                    <p style='text-align:right'>--></p>\n",
       "                    <p style='text-align:right'>--></p>\n",
       "                </td>\n",
       "            </tr><tr>\n",
       "                <td><strong>GPR</strong></td><td></td>\n",
       "            </tr><tr>\n",
       "                <td><strong>Lower bound</strong></td><td>0</td>\n",
       "            </tr><tr>\n",
       "                <td><strong>Upper bound</strong></td><td>1000</td>\n",
       "            </tr>\n",
       "        </table>\n",
       "        "
      ],
      "text/plain": [
       "<Reaction R_3OAS140 at 0x2a50fa5da30>"
      ]
     },
     "execution_count": 32,
     "metadata": {},
     "output_type": "execute_result"
    }
   ],
   "source": [
    "reaction"
   ]
  },
  {
   "cell_type": "code",
   "execution_count": 34,
   "id": "9bf44c2c",
   "metadata": {},
   "outputs": [],
   "source": [
    "ACP_c = Metabolite(\n",
    "    'ACP_c',\n",
    "    formula='C11H21N2O7PRS',\n",
    "    name='acyl-carrier-protein',\n",
    "    compartment='c')\n",
    "omrsACP_c = Metabolite(\n",
    "    'M3omrsACP_c',\n",
    "    formula='C25H45N2O9PRS',\n",
    "    name='3-Oxotetradecanoyl-acyl-carrier-protein',\n",
    "    compartment='c')\n",
    "co2_c = Metabolite('co2_c', formula='CO2', name='CO2', compartment='c')\n",
    "malACP_c = Metabolite(\n",
    "    'malACP_c',\n",
    "    formula='C14H22N2O10PRS',\n",
    "    name='Malonyl-acyl-carrier-protein',\n",
    "    compartment='c')\n",
    "h_c = Metabolite('h_c', formula='H', name='H', compartment='c')\n",
    "ddcaACP_c = Metabolite(\n",
    "    'ddcaACP_c',\n",
    "    formula='C23H43N2O8PRS',\n",
    "    name='Dodecanoyl-ACP-n-C120ACP',\n",
    "    compartment='c')"
   ]
  },
  {
   "cell_type": "code",
   "execution_count": 35,
   "id": "230c25ac",
   "metadata": {},
   "outputs": [
    {
     "data": {
      "text/plain": [
       "'ddcaACP_c + h_c + malACP_c --> ACP_c + M3omrsACP_c + co2_c'"
      ]
     },
     "execution_count": 35,
     "metadata": {},
     "output_type": "execute_result"
    }
   ],
   "source": [
    "reaction.add_metabolites({\n",
    "    malACP_c: -1.0,\n",
    "    h_c: -1.0,\n",
    "    ddcaACP_c: -1.0,\n",
    "    co2_c: 1.0,\n",
    "    ACP_c: 1.0,\n",
    "    omrsACP_c: 1.0\n",
    "})\n",
    "\n",
    "reaction.reaction  # This gives a string representation of the reaction"
   ]
  },
  {
   "cell_type": "code",
   "execution_count": 36,
   "id": "c6028c20",
   "metadata": {},
   "outputs": [
    {
     "data": {
      "text/plain": [
       "frozenset({<Gene STM1197 at 0x2a50fa85070>, <Gene STM2378 at 0x2a50fa85550>})"
      ]
     },
     "execution_count": 36,
     "metadata": {},
     "output_type": "execute_result"
    }
   ],
   "source": [
    "reaction.gene_reaction_rule = '(STM2378 or STM1197)'\n",
    "reaction.genes"
   ]
  },
  {
   "cell_type": "code",
   "execution_count": 38,
   "id": "ba9ebfc3",
   "metadata": {},
   "outputs": [
    {
     "name": "stdout",
     "output_type": "stream",
     "text": [
      "0 reactions initially\n",
      "0 metabolites initially\n",
      "0 genes initially\n"
     ]
    }
   ],
   "source": [
    "print(f'{len(model.reactions)} reactions initially')\n",
    "print(f'{len(model.metabolites)} metabolites initially')\n",
    "print(f'{len(model.genes)} genes initially')"
   ]
  },
  {
   "cell_type": "code",
   "execution_count": 40,
   "id": "fbc22d47",
   "metadata": {},
   "outputs": [
    {
     "name": "stdout",
     "output_type": "stream",
     "text": [
      "1 reactions initially\n",
      "6 metabolites initially\n",
      "2 genes initially\n"
     ]
    }
   ],
   "source": [
    "model.add_reactions([reaction])\n",
    "\n",
    "print(f'{len(model.reactions)} reactions initially')\n",
    "print(f'{len(model.metabolites)} metabolites initially')\n",
    "print(f'{len(model.genes)} genes initially')"
   ]
  },
  {
   "cell_type": "code",
   "execution_count": 41,
   "id": "25cd3ce1",
   "metadata": {},
   "outputs": [
    {
     "name": "stdout",
     "output_type": "stream",
     "text": [
      "Reactions\n",
      "---------\n",
      "R_3OAS140 : ddcaACP_c + h_c + malACP_c --> ACP_c + M3omrsACP_c + co2_c\n",
      "\n",
      "Metabolites\n",
      "-----------\n",
      " malACP_c : C14H22N2O10PRS\n",
      "      h_c : H\n",
      "ddcaACP_c : C23H43N2O8PRS\n",
      "    co2_c : CO2\n",
      "    ACP_c : C11H21N2O7PRS\n",
      "M3omrsACP_c : C25H45N2O9PRS\n",
      "\n",
      "Genes\n",
      "-----\n",
      "STM2378 is associated with reactions: {R_3OAS140}\n",
      "STM1197 is associated with reactions: {R_3OAS140}\n"
     ]
    }
   ],
   "source": [
    "# Iterate through the objects in the model\n",
    "print(\"Reactions\")\n",
    "print(\"---------\")\n",
    "for x in model.reactions:\n",
    "    print(\"%s : %s\" % (x.id, x.reaction))\n",
    "\n",
    "print(\"\")\n",
    "print(\"Metabolites\")\n",
    "print(\"-----------\")\n",
    "for x in model.metabolites:\n",
    "    print('%9s : %s' % (x.id, x.formula))\n",
    "\n",
    "print(\"\")\n",
    "print(\"Genes\")\n",
    "print(\"-----\")\n",
    "for x in model.genes:\n",
    "    associated_ids = (i.id for i in x.reactions)\n",
    "    print(\"%s is associated with reactions: %s\" %\n",
    "          (x.id, \"{\" + \", \".join(associated_ids) + \"}\"))"
   ]
  },
  {
   "cell_type": "code",
   "execution_count": 43,
   "id": "6a251ee6",
   "metadata": {},
   "outputs": [
    {
     "name": "stdout",
     "output_type": "stream",
     "text": [
      "1.0*R_3OAS140 - 1.0*R_3OAS140_reverse_60acb\n",
      "max\n"
     ]
    }
   ],
   "source": [
    "model.objective = 'R_3OAS140'\n",
    "print(model.objective.expression)\n",
    "print(model.objective.direction)"
   ]
  },
  {
   "cell_type": "code",
   "execution_count": 44,
   "id": "aab67f7a",
   "metadata": {},
   "outputs": [
    {
     "name": "stdout",
     "output_type": "stream",
     "text": [
      "(None,\n",
      " {'COBRA_CHECK': [],\n",
      "  'COBRA_ERROR': ['No SBML model detected in file.'],\n",
      "  'COBRA_FATAL': [],\n",
      "  'COBRA_WARNING': [],\n",
      "  'SBML_ERROR': ['E0 (Error): Operating system (core, L1); File unreadable; '\n",
      "                 'File unreadable. '\n",
      "                 'C:\\\\Users\\\\koush\\\\AppData\\\\Local\\\\Temp\\\\tmpjn87pmq0.xml\\n'],\n",
      "  'SBML_FATAL': [],\n",
      "  'SBML_SCHEMA_ERROR': [],\n",
      "  'SBML_WARNING': []})\n"
     ]
    }
   ],
   "source": [
    "import tempfile\n",
    "from pprint import pprint\n",
    "from cobra.io import write_sbml_model, validate_sbml_model\n",
    "with tempfile.NamedTemporaryFile(suffix='.xml') as f_sbml:\n",
    "    write_sbml_model(model, filename=f_sbml.name)\n",
    "    report = validate_sbml_model(filename=f_sbml.name)\n",
    "\n",
    "pprint(report)"
   ]
  },
  {
   "cell_type": "code",
   "execution_count": 45,
   "id": "c40abeb8",
   "metadata": {},
   "outputs": [
    {
     "name": "stderr",
     "output_type": "stream",
     "text": [
      "There are no boundary reactions in this model. Therefore specific types of boundary reactions such as 'exchanges', 'demands' or 'sinks' cannot be identified.\n"
     ]
    },
    {
     "name": "stdout",
     "output_type": "stream",
     "text": [
      "exchanges []\n"
     ]
    },
    {
     "name": "stderr",
     "output_type": "stream",
     "text": [
      "There are no boundary reactions in this model. Therefore specific types of boundary reactions such as 'exchanges', 'demands' or 'sinks' cannot be identified.\n"
     ]
    },
    {
     "name": "stdout",
     "output_type": "stream",
     "text": [
      "demands []\n"
     ]
    },
    {
     "name": "stderr",
     "output_type": "stream",
     "text": [
      "There are no boundary reactions in this model. Therefore specific types of boundary reactions such as 'exchanges', 'demands' or 'sinks' cannot be identified.\n"
     ]
    },
    {
     "name": "stdout",
     "output_type": "stream",
     "text": [
      "sinks []\n"
     ]
    }
   ],
   "source": [
    "print(\"exchanges\",model.exchanges)\n",
    "print(\"demands\",model.demands)\n",
    "print(\"sinks\",model.sinks)"
   ]
  },
  {
   "cell_type": "code",
   "execution_count": 46,
   "id": "730047ed",
   "metadata": {},
   "outputs": [
    {
     "data": {
      "text/html": [
       "\n",
       "        <table>\n",
       "            <tr>\n",
       "                <td><strong>Reaction identifier</strong></td><td>EX_co2_e</td>\n",
       "            </tr><tr>\n",
       "                <td><strong>Name</strong></td><td>CO2 exchange</td>\n",
       "            </tr><tr>\n",
       "                <td><strong>Memory address</strong></td>\n",
       "                <td>0x02a50f992fa0</td>\n",
       "            </tr><tr>\n",
       "                <td><strong>Stoichiometry</strong></td>\n",
       "                <td>\n",
       "                    <p style='text-align:right'>co2_e <=></p>\n",
       "                    <p style='text-align:right'>CO2 <=></p>\n",
       "                </td>\n",
       "            </tr><tr>\n",
       "                <td><strong>GPR</strong></td><td></td>\n",
       "            </tr><tr>\n",
       "                <td><strong>Lower bound</strong></td><td>-10</td>\n",
       "            </tr><tr>\n",
       "                <td><strong>Upper bound</strong></td><td>20</td>\n",
       "            </tr>\n",
       "        </table>\n",
       "        "
      ],
      "text/plain": [
       "<Reaction EX_co2_e at 0x2a50f992fa0>"
      ]
     },
     "execution_count": 46,
     "metadata": {},
     "output_type": "execute_result"
    }
   ],
   "source": [
    "model.add_metabolites([    \n",
    "    Metabolite(\n",
    "    'glycogen_c',\n",
    "    name='glycogen',\n",
    "    compartment='c'\n",
    "    ),\n",
    "    Metabolite(\n",
    "    'co2_e',\n",
    "    name='CO2',\n",
    "    compartment='e'\n",
    "    ),\n",
    "])\n",
    "model.add_boundary(model.metabolites.get_by_id(\"co2_e\"), type=\"exchange\")"
   ]
  },
  {
   "cell_type": "code",
   "execution_count": 47,
   "id": "30982297",
   "metadata": {},
   "outputs": [
    {
     "data": {
      "text/html": [
       "\n",
       "        <table>\n",
       "            <tr>\n",
       "                <td><strong>Reaction identifier</strong></td><td>SK_glycogen_c</td>\n",
       "            </tr><tr>\n",
       "                <td><strong>Name</strong></td><td>glycogen sink</td>\n",
       "            </tr><tr>\n",
       "                <td><strong>Memory address</strong></td>\n",
       "                <td>0x02a50fa7af70</td>\n",
       "            </tr><tr>\n",
       "                <td><strong>Stoichiometry</strong></td>\n",
       "                <td>\n",
       "                    <p style='text-align:right'>glycogen_c <=></p>\n",
       "                    <p style='text-align:right'>glycogen <=></p>\n",
       "                </td>\n",
       "            </tr><tr>\n",
       "                <td><strong>GPR</strong></td><td></td>\n",
       "            </tr><tr>\n",
       "                <td><strong>Lower bound</strong></td><td>-10</td>\n",
       "            </tr><tr>\n",
       "                <td><strong>Upper bound</strong></td><td>20</td>\n",
       "            </tr>\n",
       "        </table>\n",
       "        "
      ],
      "text/plain": [
       "<Reaction SK_glycogen_c at 0x2a50fa7af70>"
      ]
     },
     "execution_count": 47,
     "metadata": {},
     "output_type": "execute_result"
    }
   ],
   "source": [
    "# create exchange reaction\n",
    "model.add_boundary(model.metabolites.get_by_id(\"glycogen_c\"), type=\"sink\")"
   ]
  },
  {
   "cell_type": "code",
   "execution_count": 48,
   "id": "93828623",
   "metadata": {},
   "outputs": [
    {
     "name": "stdout",
     "output_type": "stream",
     "text": [
      "exchanges [<Reaction EX_co2_e at 0x2a50f992fa0>]\n",
      "sinks [<Reaction SK_glycogen_c at 0x2a50fa7af70>]\n",
      "demands []\n"
     ]
    }
   ],
   "source": [
    "print(\"exchanges\", model.exchanges)\n",
    "print(\"sinks\", model.sinks)\n",
    "print(\"demands\", model.demands)\n"
   ]
  },
  {
   "cell_type": "code",
   "execution_count": 49,
   "id": "3d5423e1",
   "metadata": {},
   "outputs": [
    {
     "data": {
      "text/plain": [
       "[<Reaction R_3OAS140 at 0x2a50fa5da30>,\n",
       " <Reaction EX_co2_e at 0x2a50f992fa0>,\n",
       " <Reaction SK_glycogen_c at 0x2a50fa7af70>]"
      ]
     },
     "execution_count": 49,
     "metadata": {},
     "output_type": "execute_result"
    }
   ],
   "source": [
    "model.reactions"
   ]
  },
  {
   "cell_type": "code",
   "execution_count": 50,
   "id": "24eb1923",
   "metadata": {},
   "outputs": [
    {
     "data": {
      "text/plain": [
       "[<Reaction EX_co2_e at 0x2a50f992fa0>,\n",
       " <Reaction SK_glycogen_c at 0x2a50fa7af70>]"
      ]
     },
     "execution_count": 50,
     "metadata": {},
     "output_type": "execute_result"
    }
   ],
   "source": [
    "model.boundary"
   ]
  },
  {
   "cell_type": "code",
   "execution_count": 51,
   "id": "720baa89",
   "metadata": {},
   "outputs": [
    {
     "data": {
      "text/plain": [
       "{<Reaction R_3OAS140 at 0x2a50fa5da30>}"
      ]
     },
     "execution_count": 51,
     "metadata": {},
     "output_type": "execute_result"
    }
   ],
   "source": [
    "# metabolic reactions\n",
    "set(model.reactions) - set(model.boundary)"
   ]
  },
  {
   "cell_type": "code",
   "execution_count": 52,
   "id": "07104bbd",
   "metadata": {},
   "outputs": [
    {
     "name": "stdout",
     "output_type": "stream",
     "text": [
      "mini test files: \n",
      "mini.json, mini.mat, mini.pickle, mini.yml, mini_cobra.xml, mini_fbc1.xml, mini_fbc2.xml, mini_fbc2.xml.bz2, mini_fbc2.xml.gz\n"
     ]
    }
   ],
   "source": [
    "import cobra.test\n",
    "import os\n",
    "from os.path import join\n",
    "\n",
    "data_dir = cobra.test.data_dir\n",
    "\n",
    "print(\"mini test files: \")\n",
    "print(\", \".join(i for i in os.listdir(data_dir) if i.startswith(\"mini\")))\n",
    "\n",
    "textbook_model = cobra.test.create_test_model(\"textbook\")\n",
    "ecoli_model = cobra.test.create_test_model(\"ecoli\")\n",
    "salmonella_model = cobra.test.create_test_model(\"salmonella\")"
   ]
  },
  {
   "cell_type": "code",
   "execution_count": 53,
   "id": "8bce9cdf",
   "metadata": {},
   "outputs": [
    {
     "data": {
      "text/html": [
       "\n",
       "        <table>\n",
       "            <tr>\n",
       "                <td><strong>Name</strong></td>\n",
       "                <td>mini_textbook</td>\n",
       "            </tr><tr>\n",
       "                <td><strong>Memory address</strong></td>\n",
       "                <td>0x02a50fa85100</td>\n",
       "            </tr><tr>\n",
       "                <td><strong>Number of metabolites</strong></td>\n",
       "                <td>23</td>\n",
       "            </tr><tr>\n",
       "                <td><strong>Number of reactions</strong></td>\n",
       "                <td>18</td>\n",
       "            </tr><tr>\n",
       "                <td><strong>Number of groups</strong></td>\n",
       "                <td>0</td>\n",
       "            </tr><tr>\n",
       "                <td><strong>Objective expression</strong></td>\n",
       "                <td>1.0*ATPM - 1.0*ATPM_reverse_5b752 + 1.0*PFK - 1.0*PFK_reverse_d24a6</td>\n",
       "            </tr><tr>\n",
       "                <td><strong>Compartments</strong></td>\n",
       "                <td>cytosol, extracellular</td>\n",
       "            </tr>\n",
       "          </table>"
      ],
      "text/plain": [
       "<Model mini_textbook at 0x2a50fa85100>"
      ]
     },
     "execution_count": 53,
     "metadata": {},
     "output_type": "execute_result"
    }
   ],
   "source": [
    "cobra.io.read_sbml_model(join(data_dir,\"mini_fbc2.xml\"))"
   ]
  },
  {
   "cell_type": "code",
   "execution_count": 54,
   "id": "f25869b8",
   "metadata": {},
   "outputs": [],
   "source": [
    "cobra.io.write_sbml_model(textbook_model,\"text_fbc2.xml\")"
   ]
  },
  {
   "cell_type": "code",
   "execution_count": 55,
   "id": "81c1fcd1",
   "metadata": {},
   "outputs": [],
   "source": [
    "cobra.io.load_json_model(join(data_dir, \"mini.json\"))\n",
    "cobra.io.save_json_model(textbook_model, \"test.json\")"
   ]
  },
  {
   "cell_type": "code",
   "execution_count": 1,
   "id": "49f291f0",
   "metadata": {},
   "outputs": [],
   "source": [
    "from cobra.test import create_test_model\n",
    "model = create_test_model(\"textbook\")"
   ]
  },
  {
   "cell_type": "code",
   "execution_count": 2,
   "id": "50cae837",
   "metadata": {},
   "outputs": [
    {
     "name": "stdout",
     "output_type": "stream",
     "text": [
      "<Solution 0.874 at 0x22236c142e0>\n"
     ]
    }
   ],
   "source": [
    "solution = model.optimize()\n",
    "print(solution)"
   ]
  },
  {
   "cell_type": "code",
   "execution_count": 3,
   "id": "458bf431",
   "metadata": {},
   "outputs": [
    {
     "data": {
      "text/plain": [
       "'optimal'"
      ]
     },
     "execution_count": 3,
     "metadata": {},
     "output_type": "execute_result"
    }
   ],
   "source": [
    "solution.status"
   ]
  },
  {
   "cell_type": "code",
   "execution_count": 4,
   "id": "e3562120",
   "metadata": {},
   "outputs": [
    {
     "data": {
      "text/plain": [
       "0.8739215069684307"
      ]
     },
     "execution_count": 4,
     "metadata": {},
     "output_type": "execute_result"
    }
   ],
   "source": [
    "solution.objective_value"
   ]
  },
  {
   "cell_type": "code",
   "execution_count": 5,
   "id": "c9b029c7",
   "metadata": {},
   "outputs": [
    {
     "data": {
      "text/plain": [
       "ACALD     0.000000\n",
       "ACALDt    0.000000\n",
       "ACKr      0.000000\n",
       "ACONTa    6.007250\n",
       "ACONTb    6.007250\n",
       "            ...   \n",
       "TALA      1.496984\n",
       "THD2      0.000000\n",
       "TKT1      1.496984\n",
       "TKT2      1.181498\n",
       "TPI       7.477382\n",
       "Name: fluxes, Length: 95, dtype: float64"
      ]
     },
     "execution_count": 5,
     "metadata": {},
     "output_type": "execute_result"
    }
   ],
   "source": [
    "solution.fluxes"
   ]
  },
  {
   "cell_type": "code",
   "execution_count": 9,
   "id": "27a8aa4c",
   "metadata": {},
   "outputs": [
    {
     "name": "stdout",
     "output_type": "stream",
     "text": [
      "Wall time: 7.97 ms\n"
     ]
    },
    {
     "data": {
      "text/plain": [
       "0.8739215069684304"
      ]
     },
     "execution_count": 9,
     "metadata": {},
     "output_type": "execute_result"
    }
   ],
   "source": [
    "%%time\n",
    "model.optimize().objective_value"
   ]
  },
  {
   "cell_type": "code",
   "execution_count": 7,
   "id": "6917de9a",
   "metadata": {},
   "outputs": [
    {
     "name": "stdout",
     "output_type": "stream",
     "text": [
      "Wall time: 0 ns\n"
     ]
    },
    {
     "data": {
      "text/plain": [
       "0.8739215069684307"
      ]
     },
     "execution_count": 7,
     "metadata": {},
     "output_type": "execute_result"
    }
   ],
   "source": [
    "%%time\n",
    "model.slim_optimize()"
   ]
  },
  {
   "cell_type": "code",
   "execution_count": 10,
   "id": "9390b734",
   "metadata": {},
   "outputs": [
    {
     "data": {
      "text/html": [
       "<h3>Objective</h3><p>1.0 Biomass_Ecoli_core = 0.8739215069684312</p><h4>Uptake</h4><table border=\"1\" class=\"dataframe\">\n",
       "  <thead>\n",
       "    <tr style=\"text-align: right;\">\n",
       "      <th>Metabolite</th>\n",
       "      <th>Reaction</th>\n",
       "      <th>Flux</th>\n",
       "      <th>C-Number</th>\n",
       "      <th>C-Flux</th>\n",
       "    </tr>\n",
       "  </thead>\n",
       "  <tbody>\n",
       "    <tr>\n",
       "      <td>glc__D_e</td>\n",
       "      <td>EX_glc__D_e</td>\n",
       "      <td>10</td>\n",
       "      <td>6</td>\n",
       "      <td>100.00%</td>\n",
       "    </tr>\n",
       "    <tr>\n",
       "      <td>nh4_e</td>\n",
       "      <td>EX_nh4_e</td>\n",
       "      <td>4.765</td>\n",
       "      <td>0</td>\n",
       "      <td>0.00%</td>\n",
       "    </tr>\n",
       "    <tr>\n",
       "      <td>o2_e</td>\n",
       "      <td>EX_o2_e</td>\n",
       "      <td>21.8</td>\n",
       "      <td>0</td>\n",
       "      <td>0.00%</td>\n",
       "    </tr>\n",
       "    <tr>\n",
       "      <td>pi_e</td>\n",
       "      <td>EX_pi_e</td>\n",
       "      <td>3.215</td>\n",
       "      <td>0</td>\n",
       "      <td>0.00%</td>\n",
       "    </tr>\n",
       "  </tbody>\n",
       "</table><h4>Secretion</h4><table border=\"1\" class=\"dataframe\">\n",
       "  <thead>\n",
       "    <tr style=\"text-align: right;\">\n",
       "      <th>Metabolite</th>\n",
       "      <th>Reaction</th>\n",
       "      <th>Flux</th>\n",
       "      <th>C-Number</th>\n",
       "      <th>C-Flux</th>\n",
       "    </tr>\n",
       "  </thead>\n",
       "  <tbody>\n",
       "    <tr>\n",
       "      <td>co2_e</td>\n",
       "      <td>EX_co2_e</td>\n",
       "      <td>-22.81</td>\n",
       "      <td>1</td>\n",
       "      <td>100.00%</td>\n",
       "    </tr>\n",
       "    <tr>\n",
       "      <td>h2o_e</td>\n",
       "      <td>EX_h2o_e</td>\n",
       "      <td>-29.18</td>\n",
       "      <td>0</td>\n",
       "      <td>0.00%</td>\n",
       "    </tr>\n",
       "    <tr>\n",
       "      <td>h_e</td>\n",
       "      <td>EX_h_e</td>\n",
       "      <td>-17.53</td>\n",
       "      <td>0</td>\n",
       "      <td>0.00%</td>\n",
       "    </tr>\n",
       "  </tbody>\n",
       "</table>"
      ],
      "text/plain": [
       "<cobra.summary.model_summary.ModelSummary at 0x22236c03e80>"
      ]
     },
     "execution_count": 10,
     "metadata": {},
     "output_type": "execute_result"
    }
   ],
   "source": [
    "model.summary()"
   ]
  },
  {
   "cell_type": "code",
   "execution_count": 11,
   "id": "ddc93177",
   "metadata": {},
   "outputs": [
    {
     "data": {
      "text/html": [
       "<h3>nadh_c</h3><p>C21H27N7O14P2</p><h4>Producing Reactions</h4><table border=\"1\" class=\"dataframe\">\n",
       "  <thead>\n",
       "    <tr style=\"text-align: right;\">\n",
       "      <th>Percent</th>\n",
       "      <th>Flux</th>\n",
       "      <th>Reaction</th>\n",
       "      <th>Definition</th>\n",
       "    </tr>\n",
       "  </thead>\n",
       "  <tbody>\n",
       "    <tr>\n",
       "      <td>13.14%</td>\n",
       "      <td>5.064</td>\n",
       "      <td>AKGDH</td>\n",
       "      <td>akg_c + coa_c + nad_c --&gt; co2_c + nadh_c + succoa_c</td>\n",
       "    </tr>\n",
       "    <tr>\n",
       "      <td>8.04%</td>\n",
       "      <td>3.1</td>\n",
       "      <td>Biomass_Ecoli_core</td>\n",
       "      <td>1.496 3pg_c + 3.7478 accoa_c + 59.81 atp_c + 0.361 e4p_c + 0.0709 f6p_c + 0.129 g3p_c + 0.205 g6p_c + 0.2557 gln__L_c + 4.9414 glu__L_c + 59.81 h2o_c + 3.547 nad_c + 13.0279 nadph_c + 1.7867 oaa_c + 0.5191 pep_c + 2.8328 pyr_c + 0.8977 r5p_c --&gt; 59.81 adp_c + 4.1182 akg_c + 3.7478 coa_c + 59.81 h_c + 3.547 nadh_c + 13.0279 nadp_c + 59.81 pi_c</td>\n",
       "    </tr>\n",
       "    <tr>\n",
       "      <td>41.58%</td>\n",
       "      <td>16.02</td>\n",
       "      <td>GAPD</td>\n",
       "      <td>g3p_c + nad_c + pi_c &lt;=&gt; 13dpg_c + h_c + nadh_c</td>\n",
       "    </tr>\n",
       "    <tr>\n",
       "      <td>13.14%</td>\n",
       "      <td>5.064</td>\n",
       "      <td>MDH</td>\n",
       "      <td>mal__L_c + nad_c &lt;=&gt; h_c + nadh_c + oaa_c</td>\n",
       "    </tr>\n",
       "    <tr>\n",
       "      <td>24.09%</td>\n",
       "      <td>9.283</td>\n",
       "      <td>PDH</td>\n",
       "      <td>coa_c + nad_c + pyr_c --&gt; accoa_c + co2_c + nadh_c</td>\n",
       "    </tr>\n",
       "  </tbody>\n",
       "</table><h4>Consuming Reactions</h4><table border=\"1\" class=\"dataframe\">\n",
       "  <thead>\n",
       "    <tr style=\"text-align: right;\">\n",
       "      <th>Percent</th>\n",
       "      <th>Flux</th>\n",
       "      <th>Reaction</th>\n",
       "      <th>Definition</th>\n",
       "    </tr>\n",
       "  </thead>\n",
       "  <tbody>\n",
       "    <tr>\n",
       "      <td>100.00%</td>\n",
       "      <td>-38.53</td>\n",
       "      <td>NADH16</td>\n",
       "      <td>4.0 h_c + nadh_c + q8_c --&gt; 3.0 h_e + nad_c + q8h2_c</td>\n",
       "    </tr>\n",
       "  </tbody>\n",
       "</table>"
      ],
      "text/plain": [
       "<cobra.summary.metabolite_summary.MetaboliteSummary at 0x2223d05bdc0>"
      ]
     },
     "execution_count": 11,
     "metadata": {},
     "output_type": "execute_result"
    }
   ],
   "source": [
    "model.metabolites.nadh_c.summary()"
   ]
  },
  {
   "cell_type": "code",
   "execution_count": 12,
   "id": "a0c5f851",
   "metadata": {},
   "outputs": [
    {
     "data": {
      "text/html": [
       "<h3>atp_c</h3><p>C10H12N5O13P3</p><h4>Producing Reactions</h4><table border=\"1\" class=\"dataframe\">\n",
       "  <thead>\n",
       "    <tr style=\"text-align: right;\">\n",
       "      <th>Percent</th>\n",
       "      <th>Flux</th>\n",
       "      <th>Reaction</th>\n",
       "      <th>Definition</th>\n",
       "    </tr>\n",
       "  </thead>\n",
       "  <tbody>\n",
       "    <tr>\n",
       "      <td>66.58%</td>\n",
       "      <td>45.51</td>\n",
       "      <td>ATPS4r</td>\n",
       "      <td>adp_c + 4.0 h_e + pi_c &lt;=&gt; atp_c + h2o_c + 3.0 h_c</td>\n",
       "    </tr>\n",
       "    <tr>\n",
       "      <td>23.44%</td>\n",
       "      <td>16.02</td>\n",
       "      <td>PGK</td>\n",
       "      <td>3pg_c + atp_c &lt;=&gt; 13dpg_c + adp_c</td>\n",
       "    </tr>\n",
       "    <tr>\n",
       "      <td>2.57%</td>\n",
       "      <td>1.758</td>\n",
       "      <td>PYK</td>\n",
       "      <td>adp_c + h_c + pep_c --&gt; atp_c + pyr_c</td>\n",
       "    </tr>\n",
       "    <tr>\n",
       "      <td>7.41%</td>\n",
       "      <td>5.064</td>\n",
       "      <td>SUCOAS</td>\n",
       "      <td>atp_c + coa_c + succ_c &lt;=&gt; adp_c + pi_c + succoa_c</td>\n",
       "    </tr>\n",
       "  </tbody>\n",
       "</table><h4>Consuming Reactions</h4><table border=\"1\" class=\"dataframe\">\n",
       "  <thead>\n",
       "    <tr style=\"text-align: right;\">\n",
       "      <th>Percent</th>\n",
       "      <th>Flux</th>\n",
       "      <th>Reaction</th>\n",
       "      <th>Definition</th>\n",
       "    </tr>\n",
       "  </thead>\n",
       "  <tbody>\n",
       "    <tr>\n",
       "      <td>12.27%</td>\n",
       "      <td>-8.39</td>\n",
       "      <td>ATPM</td>\n",
       "      <td>atp_c + h2o_c --&gt; adp_c + h_c + pi_c</td>\n",
       "    </tr>\n",
       "    <tr>\n",
       "      <td>76.46%</td>\n",
       "      <td>-52.27</td>\n",
       "      <td>Biomass_Ecoli_core</td>\n",
       "      <td>1.496 3pg_c + 3.7478 accoa_c + 59.81 atp_c + 0.361 e4p_c + 0.0709 f6p_c + 0.129 g3p_c + 0.205 g6p_c + 0.2557 gln__L_c + 4.9414 glu__L_c + 59.81 h2o_c + 3.547 nad_c + 13.0279 nadph_c + 1.7867 oaa_c + 0.5191 pep_c + 2.8328 pyr_c + 0.8977 r5p_c --&gt; 59.81 adp_c + 4.1182 akg_c + 3.7478 coa_c + 59.81 h_c + 3.547 nadh_c + 13.0279 nadp_c + 59.81 pi_c</td>\n",
       "    </tr>\n",
       "    <tr>\n",
       "      <td>0.33%</td>\n",
       "      <td>-0.2235</td>\n",
       "      <td>GLNS</td>\n",
       "      <td>atp_c + glu__L_c + nh4_c --&gt; adp_c + gln__L_c + h_c + pi_c</td>\n",
       "    </tr>\n",
       "    <tr>\n",
       "      <td>10.94%</td>\n",
       "      <td>-7.477</td>\n",
       "      <td>PFK</td>\n",
       "      <td>atp_c + f6p_c --&gt; adp_c + fdp_c + h_c</td>\n",
       "    </tr>\n",
       "  </tbody>\n",
       "</table>"
      ],
      "text/plain": [
       "<cobra.summary.metabolite_summary.MetaboliteSummary at 0x2223cff8340>"
      ]
     },
     "execution_count": 12,
     "metadata": {},
     "output_type": "execute_result"
    }
   ],
   "source": [
    "model.metabolites.atp_c.summary()"
   ]
  },
  {
   "cell_type": "code",
   "execution_count": 13,
   "id": "7365ca5a",
   "metadata": {},
   "outputs": [],
   "source": [
    "biomass_r = model.reactions.get_by_id(\"Biomass_Ecoli_core\")"
   ]
  },
  {
   "cell_type": "code",
   "execution_count": 14,
   "id": "9a65eb45",
   "metadata": {},
   "outputs": [
    {
     "data": {
      "text/plain": [
       "{<Reaction Biomass_Ecoli_core at 0x2223cf3dc40>: 1.0}"
      ]
     },
     "execution_count": 14,
     "metadata": {},
     "output_type": "execute_result"
    }
   ],
   "source": [
    "from cobra.util.solver import linear_reaction_coefficients\n",
    "linear_reaction_coefficients(model)"
   ]
  },
  {
   "cell_type": "code",
   "execution_count": 15,
   "id": "558ca460",
   "metadata": {},
   "outputs": [
    {
     "data": {
      "text/plain": [
       "{<Reaction ATPM at 0x2223cf29bb0>: 1.0}"
      ]
     },
     "execution_count": 15,
     "metadata": {},
     "output_type": "execute_result"
    }
   ],
   "source": [
    "model.objective = \"ATPM\"\n",
    "\n",
    "model.reactions.get_by_id(\"ATPM\").upper_bound = 1000.\n",
    "linear_reaction_coefficients(model)"
   ]
  },
  {
   "cell_type": "code",
   "execution_count": 16,
   "id": "51194ee1",
   "metadata": {
    "scrolled": true
   },
   "outputs": [
    {
     "data": {
      "text/html": [
       "<strong><em>Optimal</em> solution with objective value 175.000</strong><br><div>\n",
       "<style scoped>\n",
       "    .dataframe tbody tr th:only-of-type {\n",
       "        vertical-align: middle;\n",
       "    }\n",
       "\n",
       "    .dataframe tbody tr th {\n",
       "        vertical-align: top;\n",
       "    }\n",
       "\n",
       "    .dataframe thead th {\n",
       "        text-align: right;\n",
       "    }\n",
       "</style>\n",
       "<table border=\"1\" class=\"dataframe\">\n",
       "  <thead>\n",
       "    <tr style=\"text-align: right;\">\n",
       "      <th></th>\n",
       "      <th>fluxes</th>\n",
       "      <th>reduced_costs</th>\n",
       "    </tr>\n",
       "  </thead>\n",
       "  <tbody>\n",
       "    <tr>\n",
       "      <th>ACALD</th>\n",
       "      <td>0.000000e+00</td>\n",
       "      <td>-3.552714e-15</td>\n",
       "    </tr>\n",
       "    <tr>\n",
       "      <th>ACALDt</th>\n",
       "      <td>0.000000e+00</td>\n",
       "      <td>0.000000e+00</td>\n",
       "    </tr>\n",
       "    <tr>\n",
       "      <th>ACKr</th>\n",
       "      <td>0.000000e+00</td>\n",
       "      <td>-8.881784e-16</td>\n",
       "    </tr>\n",
       "    <tr>\n",
       "      <th>ACONTa</th>\n",
       "      <td>2.000000e+01</td>\n",
       "      <td>0.000000e+00</td>\n",
       "    </tr>\n",
       "    <tr>\n",
       "      <th>ACONTb</th>\n",
       "      <td>2.000000e+01</td>\n",
       "      <td>0.000000e+00</td>\n",
       "    </tr>\n",
       "    <tr>\n",
       "      <th>...</th>\n",
       "      <td>...</td>\n",
       "      <td>...</td>\n",
       "    </tr>\n",
       "    <tr>\n",
       "      <th>TALA</th>\n",
       "      <td>-5.921189e-16</td>\n",
       "      <td>-3.552714e-15</td>\n",
       "    </tr>\n",
       "    <tr>\n",
       "      <th>THD2</th>\n",
       "      <td>0.000000e+00</td>\n",
       "      <td>-1.000000e+00</td>\n",
       "    </tr>\n",
       "    <tr>\n",
       "      <th>TKT1</th>\n",
       "      <td>-5.921189e-16</td>\n",
       "      <td>-0.000000e+00</td>\n",
       "    </tr>\n",
       "    <tr>\n",
       "      <th>TKT2</th>\n",
       "      <td>-5.921189e-16</td>\n",
       "      <td>-0.000000e+00</td>\n",
       "    </tr>\n",
       "    <tr>\n",
       "      <th>TPI</th>\n",
       "      <td>1.000000e+01</td>\n",
       "      <td>0.000000e+00</td>\n",
       "    </tr>\n",
       "  </tbody>\n",
       "</table>\n",
       "<p>95 rows × 2 columns</p>\n",
       "</div>"
      ],
      "text/plain": [
       "<Solution 175.000 at 0x2223d0cf4c0>"
      ]
     },
     "execution_count": 16,
     "metadata": {},
     "output_type": "execute_result"
    }
   ],
   "source": [
    "model.optimize()"
   ]
  },
  {
   "cell_type": "code",
   "execution_count": 18,
   "id": "bba11749",
   "metadata": {},
   "outputs": [
    {
     "data": {
      "text/html": [
       "<div>\n",
       "<style scoped>\n",
       "    .dataframe tbody tr th:only-of-type {\n",
       "        vertical-align: middle;\n",
       "    }\n",
       "\n",
       "    .dataframe tbody tr th {\n",
       "        vertical-align: top;\n",
       "    }\n",
       "\n",
       "    .dataframe thead th {\n",
       "        text-align: right;\n",
       "    }\n",
       "</style>\n",
       "<table border=\"1\" class=\"dataframe\">\n",
       "  <thead>\n",
       "    <tr style=\"text-align: right;\">\n",
       "      <th></th>\n",
       "      <th>minimum</th>\n",
       "      <th>maximum</th>\n",
       "    </tr>\n",
       "  </thead>\n",
       "  <tbody>\n",
       "    <tr>\n",
       "      <th>RPI</th>\n",
       "      <td>-11.538462</td>\n",
       "      <td>0.000000</td>\n",
       "    </tr>\n",
       "    <tr>\n",
       "      <th>SUCCt2_2</th>\n",
       "      <td>0.000000</td>\n",
       "      <td>23.333333</td>\n",
       "    </tr>\n",
       "    <tr>\n",
       "      <th>SUCCt3</th>\n",
       "      <td>0.000000</td>\n",
       "      <td>23.333333</td>\n",
       "    </tr>\n",
       "    <tr>\n",
       "      <th>SUCDi</th>\n",
       "      <td>8.461538</td>\n",
       "      <td>1000.000000</td>\n",
       "    </tr>\n",
       "    <tr>\n",
       "      <th>SUCOAS</th>\n",
       "      <td>-20.000000</td>\n",
       "      <td>-2.500000</td>\n",
       "    </tr>\n",
       "    <tr>\n",
       "      <th>TALA</th>\n",
       "      <td>-0.016628</td>\n",
       "      <td>11.538462</td>\n",
       "    </tr>\n",
       "    <tr>\n",
       "      <th>THD2</th>\n",
       "      <td>0.000000</td>\n",
       "      <td>35.000000</td>\n",
       "    </tr>\n",
       "    <tr>\n",
       "      <th>TKT1</th>\n",
       "      <td>-0.016628</td>\n",
       "      <td>11.538462</td>\n",
       "    </tr>\n",
       "    <tr>\n",
       "      <th>TKT2</th>\n",
       "      <td>-0.050181</td>\n",
       "      <td>11.538462</td>\n",
       "    </tr>\n",
       "    <tr>\n",
       "      <th>TPI</th>\n",
       "      <td>-1.538462</td>\n",
       "      <td>10.000000</td>\n",
       "    </tr>\n",
       "  </tbody>\n",
       "</table>\n",
       "</div>"
      ],
      "text/plain": [
       "            minimum      maximum\n",
       "RPI      -11.538462     0.000000\n",
       "SUCCt2_2   0.000000    23.333333\n",
       "SUCCt3     0.000000    23.333333\n",
       "SUCDi      8.461538  1000.000000\n",
       "SUCOAS   -20.000000    -2.500000\n",
       "TALA      -0.016628    11.538462\n",
       "THD2       0.000000    35.000000\n",
       "TKT1      -0.016628    11.538462\n",
       "TKT2      -0.050181    11.538462\n",
       "TPI       -1.538462    10.000000"
      ]
     },
     "execution_count": 18,
     "metadata": {},
     "output_type": "execute_result"
    }
   ],
   "source": [
    "from cobra.flux_analysis import flux_variability_analysis\n",
    "flux_variability_analysis(model, model.reactions[-10:],fraction_of_optimum = 0.9)"
   ]
  },
  {
   "cell_type": "code",
   "execution_count": 19,
   "id": "6485fc0c",
   "metadata": {},
   "outputs": [
    {
     "data": {
      "text/html": [
       "<div>\n",
       "<style scoped>\n",
       "    .dataframe tbody tr th:only-of-type {\n",
       "        vertical-align: middle;\n",
       "    }\n",
       "\n",
       "    .dataframe tbody tr th {\n",
       "        vertical-align: top;\n",
       "    }\n",
       "\n",
       "    .dataframe thead th {\n",
       "        text-align: right;\n",
       "    }\n",
       "</style>\n",
       "<table border=\"1\" class=\"dataframe\">\n",
       "  <thead>\n",
       "    <tr style=\"text-align: right;\">\n",
       "      <th></th>\n",
       "      <th>minimum</th>\n",
       "      <th>maximum</th>\n",
       "    </tr>\n",
       "  </thead>\n",
       "  <tbody>\n",
       "    <tr>\n",
       "      <th>FRD7</th>\n",
       "      <td>0.0</td>\n",
       "      <td>980.0</td>\n",
       "    </tr>\n",
       "    <tr>\n",
       "      <th>SUCDi</th>\n",
       "      <td>20.0</td>\n",
       "      <td>1000.0</td>\n",
       "    </tr>\n",
       "  </tbody>\n",
       "</table>\n",
       "</div>"
      ],
      "text/plain": [
       "       minimum  maximum\n",
       "FRD7       0.0    980.0\n",
       "SUCDi     20.0   1000.0"
      ]
     },
     "execution_count": 19,
     "metadata": {},
     "output_type": "execute_result"
    }
   ],
   "source": [
    "loop_reactions = [model.reactions.FRD7, model.reactions.SUCDi]\n",
    "flux_variability_analysis(model, reaction_list=loop_reactions, loopless=False)"
   ]
  },
  {
   "cell_type": "code",
   "execution_count": 20,
   "id": "395d4da0",
   "metadata": {},
   "outputs": [
    {
     "data": {
      "text/html": [
       "<div>\n",
       "<style scoped>\n",
       "    .dataframe tbody tr th:only-of-type {\n",
       "        vertical-align: middle;\n",
       "    }\n",
       "\n",
       "    .dataframe tbody tr th {\n",
       "        vertical-align: top;\n",
       "    }\n",
       "\n",
       "    .dataframe thead th {\n",
       "        text-align: right;\n",
       "    }\n",
       "</style>\n",
       "<table border=\"1\" class=\"dataframe\">\n",
       "  <thead>\n",
       "    <tr style=\"text-align: right;\">\n",
       "      <th></th>\n",
       "      <th>minimum</th>\n",
       "      <th>maximum</th>\n",
       "    </tr>\n",
       "  </thead>\n",
       "  <tbody>\n",
       "    <tr>\n",
       "      <th>FRD7</th>\n",
       "      <td>0.0</td>\n",
       "      <td>0.0</td>\n",
       "    </tr>\n",
       "    <tr>\n",
       "      <th>SUCDi</th>\n",
       "      <td>20.0</td>\n",
       "      <td>20.0</td>\n",
       "    </tr>\n",
       "  </tbody>\n",
       "</table>\n",
       "</div>"
      ],
      "text/plain": [
       "       minimum  maximum\n",
       "FRD7       0.0      0.0\n",
       "SUCDi     20.0     20.0"
      ]
     },
     "execution_count": 20,
     "metadata": {},
     "output_type": "execute_result"
    }
   ],
   "source": [
    "flux_variability_analysis(model, reaction_list=loop_reactions, loopless=True)"
   ]
  },
  {
   "cell_type": "code",
   "execution_count": 21,
   "id": "074fa234",
   "metadata": {},
   "outputs": [
    {
     "data": {
      "text/html": [
       "<h3>Objective</h3><p>1.0 ATPM = 175.0</p><h4>Uptake</h4><table border=\"1\" class=\"dataframe\">\n",
       "  <thead>\n",
       "    <tr style=\"text-align: right;\">\n",
       "      <th>Metabolite</th>\n",
       "      <th>Reaction</th>\n",
       "      <th>Flux</th>\n",
       "      <th>Range</th>\n",
       "      <th>C-Number</th>\n",
       "      <th>C-Flux</th>\n",
       "    </tr>\n",
       "  </thead>\n",
       "  <tbody>\n",
       "    <tr>\n",
       "      <td>glc__D_e</td>\n",
       "      <td>EX_glc__D_e</td>\n",
       "      <td>10</td>\n",
       "      <td>[9.5;  10]</td>\n",
       "      <td>6</td>\n",
       "      <td>100.00%</td>\n",
       "    </tr>\n",
       "    <tr>\n",
       "      <td>o2_e</td>\n",
       "      <td>EX_o2_e</td>\n",
       "      <td>60</td>\n",
       "      <td>[55.88;  60]</td>\n",
       "      <td>0</td>\n",
       "      <td>0.00%</td>\n",
       "    </tr>\n",
       "  </tbody>\n",
       "</table><h4>Secretion</h4><table border=\"1\" class=\"dataframe\">\n",
       "  <thead>\n",
       "    <tr style=\"text-align: right;\">\n",
       "      <th>Metabolite</th>\n",
       "      <th>Reaction</th>\n",
       "      <th>Flux</th>\n",
       "      <th>Range</th>\n",
       "      <th>C-Number</th>\n",
       "      <th>C-Flux</th>\n",
       "    </tr>\n",
       "  </thead>\n",
       "  <tbody>\n",
       "    <tr>\n",
       "      <td>ac_e</td>\n",
       "      <td>EX_ac_e</td>\n",
       "      <td>0</td>\n",
       "      <td>[-2.059;  0]</td>\n",
       "      <td>2</td>\n",
       "      <td>0.00%</td>\n",
       "    </tr>\n",
       "    <tr>\n",
       "      <td>acald_e</td>\n",
       "      <td>EX_acald_e</td>\n",
       "      <td>0</td>\n",
       "      <td>[-1.346;  0]</td>\n",
       "      <td>2</td>\n",
       "      <td>0.00%</td>\n",
       "    </tr>\n",
       "    <tr>\n",
       "      <td>akg_e</td>\n",
       "      <td>EX_akg_e</td>\n",
       "      <td>0</td>\n",
       "      <td>[-0.7447;  0]</td>\n",
       "      <td>5</td>\n",
       "      <td>0.00%</td>\n",
       "    </tr>\n",
       "    <tr>\n",
       "      <td>co2_e</td>\n",
       "      <td>EX_co2_e</td>\n",
       "      <td>-60</td>\n",
       "      <td>[-60;  -54.17]</td>\n",
       "      <td>1</td>\n",
       "      <td>100.00%</td>\n",
       "    </tr>\n",
       "    <tr>\n",
       "      <td>etoh_e</td>\n",
       "      <td>EX_etoh_e</td>\n",
       "      <td>0</td>\n",
       "      <td>[-1.167;  0]</td>\n",
       "      <td>2</td>\n",
       "      <td>0.00%</td>\n",
       "    </tr>\n",
       "    <tr>\n",
       "      <td>for_e</td>\n",
       "      <td>EX_for_e</td>\n",
       "      <td>0</td>\n",
       "      <td>[-5.833;  0]</td>\n",
       "      <td>1</td>\n",
       "      <td>0.00%</td>\n",
       "    </tr>\n",
       "    <tr>\n",
       "      <td>glu__L_e</td>\n",
       "      <td>EX_glu__L_e</td>\n",
       "      <td>0</td>\n",
       "      <td>[-0.6731;  0]</td>\n",
       "      <td>5</td>\n",
       "      <td>0.00%</td>\n",
       "    </tr>\n",
       "    <tr>\n",
       "      <td>h2o_e</td>\n",
       "      <td>EX_h2o_e</td>\n",
       "      <td>-60</td>\n",
       "      <td>[-60;  -54.17]</td>\n",
       "      <td>0</td>\n",
       "      <td>0.00%</td>\n",
       "    </tr>\n",
       "    <tr>\n",
       "      <td>h_e</td>\n",
       "      <td>EX_h_e</td>\n",
       "      <td>0</td>\n",
       "      <td>[-5.833;  0]</td>\n",
       "      <td>0</td>\n",
       "      <td>0.00%</td>\n",
       "    </tr>\n",
       "    <tr>\n",
       "      <td>lac__D_e</td>\n",
       "      <td>EX_lac__D_e</td>\n",
       "      <td>0</td>\n",
       "      <td>[-1.129;  0]</td>\n",
       "      <td>3</td>\n",
       "      <td>0.00%</td>\n",
       "    </tr>\n",
       "    <tr>\n",
       "      <td>nh4_e</td>\n",
       "      <td>EX_nh4_e</td>\n",
       "      <td>0</td>\n",
       "      <td>[0;  0.6731]</td>\n",
       "      <td>0</td>\n",
       "      <td>0.00%</td>\n",
       "    </tr>\n",
       "    <tr>\n",
       "      <td>pi_e</td>\n",
       "      <td>EX_pi_e</td>\n",
       "      <td>0</td>\n",
       "      <td>[0;  0.171]</td>\n",
       "      <td>0</td>\n",
       "      <td>0.00%</td>\n",
       "    </tr>\n",
       "    <tr>\n",
       "      <td>pyr_e</td>\n",
       "      <td>EX_pyr_e</td>\n",
       "      <td>0</td>\n",
       "      <td>[-1.346;  0]</td>\n",
       "      <td>3</td>\n",
       "      <td>0.00%</td>\n",
       "    </tr>\n",
       "    <tr>\n",
       "      <td>succ_e</td>\n",
       "      <td>EX_succ_e</td>\n",
       "      <td>0</td>\n",
       "      <td>[-0.875;  0]</td>\n",
       "      <td>4</td>\n",
       "      <td>0.00%</td>\n",
       "    </tr>\n",
       "  </tbody>\n",
       "</table>"
      ],
      "text/plain": [
       "<cobra.summary.model_summary.ModelSummary at 0x2223d2621f0>"
      ]
     },
     "execution_count": 21,
     "metadata": {},
     "output_type": "execute_result"
    }
   ],
   "source": [
    "model.optimize()\n",
    "model.summary(fva=0.95)"
   ]
  },
  {
   "cell_type": "code",
   "execution_count": 22,
   "id": "4253e011",
   "metadata": {},
   "outputs": [
    {
     "data": {
      "text/html": [
       "<h3>pyr_c</h3><p>C3H3O3</p><h4>Producing Reactions</h4><table border=\"1\" class=\"dataframe\">\n",
       "  <thead>\n",
       "    <tr style=\"text-align: right;\">\n",
       "      <th>Percent</th>\n",
       "      <th>Flux</th>\n",
       "      <th>Range</th>\n",
       "      <th>Reaction</th>\n",
       "      <th>Definition</th>\n",
       "    </tr>\n",
       "  </thead>\n",
       "  <tbody>\n",
       "    <tr>\n",
       "      <td>50.00%</td>\n",
       "      <td>10</td>\n",
       "      <td>[9.5;  10]</td>\n",
       "      <td>GLCpts</td>\n",
       "      <td>glc__D_e + pep_c --&gt; g6p_c + pyr_c</td>\n",
       "    </tr>\n",
       "    <tr>\n",
       "      <td>0.00%</td>\n",
       "      <td>0</td>\n",
       "      <td>[-1.129;  0]</td>\n",
       "      <td>LDH_D</td>\n",
       "      <td>lac__D_c + nad_c &lt;=&gt; h_c + nadh_c + pyr_c</td>\n",
       "    </tr>\n",
       "    <tr>\n",
       "      <td>0.00%</td>\n",
       "      <td>0</td>\n",
       "      <td>[0;  8.75]</td>\n",
       "      <td>ME1</td>\n",
       "      <td>mal__L_c + nad_c --&gt; co2_c + nadh_c + pyr_c</td>\n",
       "    </tr>\n",
       "    <tr>\n",
       "      <td>0.00%</td>\n",
       "      <td>0</td>\n",
       "      <td>[0;  8.75]</td>\n",
       "      <td>ME2</td>\n",
       "      <td>mal__L_c + nadp_c --&gt; co2_c + nadph_c + pyr_c</td>\n",
       "    </tr>\n",
       "    <tr>\n",
       "      <td>50.00%</td>\n",
       "      <td>10</td>\n",
       "      <td>[1.25;  18.75]</td>\n",
       "      <td>PYK</td>\n",
       "      <td>adp_c + h_c + pep_c --&gt; atp_c + pyr_c</td>\n",
       "    </tr>\n",
       "    <tr>\n",
       "      <td>0.00%</td>\n",
       "      <td>0</td>\n",
       "      <td>[-1.346;  0]</td>\n",
       "      <td>PYRt2</td>\n",
       "      <td>h_e + pyr_e &lt;=&gt; h_c + pyr_c</td>\n",
       "    </tr>\n",
       "  </tbody>\n",
       "</table><h4>Consuming Reactions</h4><table border=\"1\" class=\"dataframe\">\n",
       "  <thead>\n",
       "    <tr style=\"text-align: right;\">\n",
       "      <th>Percent</th>\n",
       "      <th>Flux</th>\n",
       "      <th>Range</th>\n",
       "      <th>Reaction</th>\n",
       "      <th>Definition</th>\n",
       "    </tr>\n",
       "  </thead>\n",
       "  <tbody>\n",
       "    <tr>\n",
       "      <td>0.00%</td>\n",
       "      <td>0</td>\n",
       "      <td>[-0.1316;  0]</td>\n",
       "      <td>Biomass_Ecoli_core</td>\n",
       "      <td>1.496 3pg_c + 3.7478 accoa_c + 59.81 atp_c + 0.361 e4p_c + 0.0709 f6p_c + 0.129 g3p_c + 0.205 g6p_c + 0.2557 gln__L_c + 4.9414 glu__L_c + 59.81 h2o_c + 3.547 nad_c + 13.0279 nadph_c + 1.7867 oaa_c + 0.5191 pep_c + 2.8328 pyr_c + 0.8977 r5p_c --&gt; 59.81 adp_c + 4.1182 akg_c + 3.7478 coa_c + 59.81 h_c + 3.547 nadh_c + 13.0279 nadp_c + 59.81 pi_c</td>\n",
       "    </tr>\n",
       "    <tr>\n",
       "      <td>100.00%</td>\n",
       "      <td>-20</td>\n",
       "      <td>[-28.75;  -13]</td>\n",
       "      <td>PDH</td>\n",
       "      <td>coa_c + nad_c + pyr_c --&gt; accoa_c + co2_c + nadh_c</td>\n",
       "    </tr>\n",
       "    <tr>\n",
       "      <td>0.00%</td>\n",
       "      <td>0</td>\n",
       "      <td>[-5.833;  0]</td>\n",
       "      <td>PFL</td>\n",
       "      <td>coa_c + pyr_c --&gt; accoa_c + for_c</td>\n",
       "    </tr>\n",
       "    <tr>\n",
       "      <td>0.00%</td>\n",
       "      <td>0</td>\n",
       "      <td>[-8.75;  0]</td>\n",
       "      <td>PPS</td>\n",
       "      <td>atp_c + h2o_c + pyr_c --&gt; amp_c + 2.0 h_c + pep_c + pi_c</td>\n",
       "    </tr>\n",
       "  </tbody>\n",
       "</table>"
      ],
      "text/plain": [
       "<cobra.summary.metabolite_summary.MetaboliteSummary at 0x2223d297550>"
      ]
     },
     "execution_count": 22,
     "metadata": {},
     "output_type": "execute_result"
    }
   ],
   "source": [
    "model.metabolites.pyr_c.summary(fva=0.95)"
   ]
  },
  {
   "cell_type": "code",
   "execution_count": 24,
   "id": "91863e38",
   "metadata": {},
   "outputs": [
    {
     "data": {
      "text/plain": [
       "8.881784197001252e-16"
      ]
     },
     "execution_count": 24,
     "metadata": {},
     "output_type": "execute_result"
    }
   ],
   "source": [
    "import cobra\n",
    "model.objective = 'Biomass_Ecoli_core'\n",
    "fba_solution = model.optimize()\n",
    "pfba_solution = cobra.flux_analysis.pfba(model)\n",
    "abs(fba_solution.fluxes[\"Biomass_Ecoli_core\"] - pfba_solution.fluxes[\n",
    "    \"Biomass_Ecoli_core\"])"
   ]
  },
  {
   "cell_type": "code",
   "execution_count": 25,
   "id": "33ac6afe",
   "metadata": {},
   "outputs": [
    {
     "data": {
      "text/html": [
       "<strong><em>Optimal</em> solution with objective value 0.000</strong><br><div>\n",
       "<style scoped>\n",
       "    .dataframe tbody tr th:only-of-type {\n",
       "        vertical-align: middle;\n",
       "    }\n",
       "\n",
       "    .dataframe tbody tr th {\n",
       "        vertical-align: top;\n",
       "    }\n",
       "\n",
       "    .dataframe thead th {\n",
       "        text-align: right;\n",
       "    }\n",
       "</style>\n",
       "<table border=\"1\" class=\"dataframe\">\n",
       "  <thead>\n",
       "    <tr style=\"text-align: right;\">\n",
       "      <th></th>\n",
       "      <th>fluxes</th>\n",
       "      <th>reduced_costs</th>\n",
       "    </tr>\n",
       "  </thead>\n",
       "  <tbody>\n",
       "    <tr>\n",
       "      <th>ACALD</th>\n",
       "      <td>0.000000e+00</td>\n",
       "      <td>0.0</td>\n",
       "    </tr>\n",
       "    <tr>\n",
       "      <th>ACALDt</th>\n",
       "      <td>0.000000e+00</td>\n",
       "      <td>0.0</td>\n",
       "    </tr>\n",
       "    <tr>\n",
       "      <th>ACKr</th>\n",
       "      <td>7.454685e-15</td>\n",
       "      <td>0.0</td>\n",
       "    </tr>\n",
       "    <tr>\n",
       "      <th>ACONTa</th>\n",
       "      <td>6.007250e+00</td>\n",
       "      <td>0.0</td>\n",
       "    </tr>\n",
       "    <tr>\n",
       "      <th>ACONTb</th>\n",
       "      <td>6.007250e+00</td>\n",
       "      <td>0.0</td>\n",
       "    </tr>\n",
       "    <tr>\n",
       "      <th>...</th>\n",
       "      <td>...</td>\n",
       "      <td>...</td>\n",
       "    </tr>\n",
       "    <tr>\n",
       "      <th>TALA</th>\n",
       "      <td>1.496984e+00</td>\n",
       "      <td>0.0</td>\n",
       "    </tr>\n",
       "    <tr>\n",
       "      <th>THD2</th>\n",
       "      <td>0.000000e+00</td>\n",
       "      <td>0.0</td>\n",
       "    </tr>\n",
       "    <tr>\n",
       "      <th>TKT1</th>\n",
       "      <td>1.496984e+00</td>\n",
       "      <td>0.0</td>\n",
       "    </tr>\n",
       "    <tr>\n",
       "      <th>TKT2</th>\n",
       "      <td>1.181498e+00</td>\n",
       "      <td>0.0</td>\n",
       "    </tr>\n",
       "    <tr>\n",
       "      <th>TPI</th>\n",
       "      <td>7.477382e+00</td>\n",
       "      <td>0.0</td>\n",
       "    </tr>\n",
       "  </tbody>\n",
       "</table>\n",
       "<p>95 rows × 2 columns</p>\n",
       "</div>"
      ],
      "text/plain": [
       "<Solution 0.000 at 0x2223d3fb5b0>"
      ]
     },
     "execution_count": 25,
     "metadata": {},
     "output_type": "execute_result"
    }
   ],
   "source": [
    "geometric_fba_sol = cobra.flux_analysis.geometric_fba(model)\n",
    "geometric_fba_sol"
   ]
  },
  {
   "cell_type": "markdown",
   "id": "26eee520",
   "metadata": {},
   "source": [
    "# Performing FBA on Ecoli model"
   ]
  },
  {
   "cell_type": "code",
   "execution_count": 39,
   "id": "f97a00f5",
   "metadata": {},
   "outputs": [],
   "source": [
    "from cobra.test import create_test_model\n",
    "model = create_test_model(\"ecoli\")"
   ]
  },
  {
   "cell_type": "code",
   "execution_count": 40,
   "id": "ef6e4950",
   "metadata": {},
   "outputs": [
    {
     "data": {
      "text/html": [
       "\n",
       "        <table>\n",
       "            <tr>\n",
       "                <td><strong>Name</strong></td>\n",
       "                <td>iJO1366</td>\n",
       "            </tr><tr>\n",
       "                <td><strong>Memory address</strong></td>\n",
       "                <td>0x02223d394910</td>\n",
       "            </tr><tr>\n",
       "                <td><strong>Number of metabolites</strong></td>\n",
       "                <td>1805</td>\n",
       "            </tr><tr>\n",
       "                <td><strong>Number of reactions</strong></td>\n",
       "                <td>2583</td>\n",
       "            </tr><tr>\n",
       "                <td><strong>Number of groups</strong></td>\n",
       "                <td>37</td>\n",
       "            </tr><tr>\n",
       "                <td><strong>Objective expression</strong></td>\n",
       "                <td>1.0*BIOMASS_Ec_iJO1366_core_53p95M - 1.0*BIOMASS_Ec_iJO1366_core_53p95M_reverse_5c8b1</td>\n",
       "            </tr><tr>\n",
       "                <td><strong>Compartments</strong></td>\n",
       "                <td>cytosol, extracellular space, periplasm</td>\n",
       "            </tr>\n",
       "          </table>"
      ],
      "text/plain": [
       "<Model iJO1366 at 0x2223d394910>"
      ]
     },
     "execution_count": 40,
     "metadata": {},
     "output_type": "execute_result"
    }
   ],
   "source": [
    "model"
   ]
  },
  {
   "cell_type": "code",
   "execution_count": 45,
   "id": "eafbdcfe",
   "metadata": {},
   "outputs": [],
   "source": [
    "model.reactions.EX_glc__D_e.lower_bound = -18.5 "
   ]
  },
  {
   "cell_type": "code",
   "execution_count": 46,
   "id": "297bafad",
   "metadata": {},
   "outputs": [
    {
     "data": {
      "text/html": [
       "\n",
       "        <table>\n",
       "            <tr>\n",
       "                <td><strong>Reaction identifier</strong></td><td>EX_glc__D_e</td>\n",
       "            </tr><tr>\n",
       "                <td><strong>Name</strong></td><td>D-Glucose exchange</td>\n",
       "            </tr><tr>\n",
       "                <td><strong>Memory address</strong></td>\n",
       "                <td>0x022244a7bd60</td>\n",
       "            </tr><tr>\n",
       "                <td><strong>Stoichiometry</strong></td>\n",
       "                <td>\n",
       "                    <p style='text-align:right'>glc__D_e <=></p>\n",
       "                    <p style='text-align:right'>D-Glucose <=></p>\n",
       "                </td>\n",
       "            </tr><tr>\n",
       "                <td><strong>GPR</strong></td><td></td>\n",
       "            </tr><tr>\n",
       "                <td><strong>Lower bound</strong></td><td>-18.5</td>\n",
       "            </tr><tr>\n",
       "                <td><strong>Upper bound</strong></td><td>1000.0</td>\n",
       "            </tr>\n",
       "        </table>\n",
       "        "
      ],
      "text/plain": [
       "<Reaction EX_glc__D_e at 0x22244a7bd60>"
      ]
     },
     "execution_count": 46,
     "metadata": {},
     "output_type": "execute_result"
    }
   ],
   "source": [
    "model.reactions.EX_glc__D_e"
   ]
  },
  {
   "cell_type": "code",
   "execution_count": 48,
   "id": "cbe0f0d0",
   "metadata": {},
   "outputs": [
    {
     "data": {
      "text/html": [
       "\n",
       "        <table>\n",
       "            <tr>\n",
       "                <td><strong>Reaction identifier</strong></td><td>EX_o2_e</td>\n",
       "            </tr><tr>\n",
       "                <td><strong>Name</strong></td><td>O2 exchange</td>\n",
       "            </tr><tr>\n",
       "                <td><strong>Memory address</strong></td>\n",
       "                <td>0x022244ab1d60</td>\n",
       "            </tr><tr>\n",
       "                <td><strong>Stoichiometry</strong></td>\n",
       "                <td>\n",
       "                    <p style='text-align:right'>o2_e <=></p>\n",
       "                    <p style='text-align:right'>O2 O2 <=></p>\n",
       "                </td>\n",
       "            </tr><tr>\n",
       "                <td><strong>GPR</strong></td><td></td>\n",
       "            </tr><tr>\n",
       "                <td><strong>Lower bound</strong></td><td>-1000.0</td>\n",
       "            </tr><tr>\n",
       "                <td><strong>Upper bound</strong></td><td>1000.0</td>\n",
       "            </tr>\n",
       "        </table>\n",
       "        "
      ],
      "text/plain": [
       "<Reaction EX_o2_e at 0x22244ab1d60>"
      ]
     },
     "execution_count": 48,
     "metadata": {},
     "output_type": "execute_result"
    }
   ],
   "source": [
    "model.reactions.EX_o2_e   #aerobic conditions, unlimited O2 uptake"
   ]
  },
  {
   "cell_type": "code",
   "execution_count": 52,
   "id": "95d14831",
   "metadata": {},
   "outputs": [
    {
     "data": {
      "text/latex": [
       "$\\displaystyle 1.0 BIOMASS_{Ec iJO1366 core 53p95M} - 1.0 BIOMASS_{Ec iJO1366 core 53p95M reverse 5c8b1}$"
      ],
      "text/plain": [
       "1.0*BIOMASS_Ec_iJO1366_core_53p95M - 1.0*BIOMASS_Ec_iJO1366_core_53p95M_reverse_5c8b1"
      ]
     },
     "execution_count": 52,
     "metadata": {},
     "output_type": "execute_result"
    }
   ],
   "source": [
    "model.objective.expression\n"
   ]
  },
  {
   "cell_type": "code",
   "execution_count": 51,
   "id": "c95e978b",
   "metadata": {},
   "outputs": [
    {
     "data": {
      "text/plain": [
       "'max'"
      ]
     },
     "execution_count": 51,
     "metadata": {},
     "output_type": "execute_result"
    }
   ],
   "source": [
    "model.objective.direction"
   ]
  },
  {
   "cell_type": "code",
   "execution_count": 53,
   "id": "a5bc7df4",
   "metadata": {},
   "outputs": [
    {
     "data": {
      "text/html": [
       "<strong><em>Optimal</em> solution with objective value 1.828</strong><br><div>\n",
       "<style scoped>\n",
       "    .dataframe tbody tr th:only-of-type {\n",
       "        vertical-align: middle;\n",
       "    }\n",
       "\n",
       "    .dataframe tbody tr th {\n",
       "        vertical-align: top;\n",
       "    }\n",
       "\n",
       "    .dataframe thead th {\n",
       "        text-align: right;\n",
       "    }\n",
       "</style>\n",
       "<table border=\"1\" class=\"dataframe\">\n",
       "  <thead>\n",
       "    <tr style=\"text-align: right;\">\n",
       "      <th></th>\n",
       "      <th>fluxes</th>\n",
       "      <th>reduced_costs</th>\n",
       "    </tr>\n",
       "  </thead>\n",
       "  <tbody>\n",
       "    <tr>\n",
       "      <th>DM_4crsol_c</th>\n",
       "      <td>0.000408</td>\n",
       "      <td>0.000000</td>\n",
       "    </tr>\n",
       "    <tr>\n",
       "      <th>DM_5drib_c</th>\n",
       "      <td>0.000411</td>\n",
       "      <td>0.000000</td>\n",
       "    </tr>\n",
       "    <tr>\n",
       "      <th>DM_aacald_c</th>\n",
       "      <td>0.000000</td>\n",
       "      <td>0.000000</td>\n",
       "    </tr>\n",
       "    <tr>\n",
       "      <th>DM_amob_c</th>\n",
       "      <td>0.000004</td>\n",
       "      <td>0.000000</td>\n",
       "    </tr>\n",
       "    <tr>\n",
       "      <th>DM_mththf_c</th>\n",
       "      <td>0.000819</td>\n",
       "      <td>0.000000</td>\n",
       "    </tr>\n",
       "    <tr>\n",
       "      <th>...</th>\n",
       "      <td>...</td>\n",
       "      <td>...</td>\n",
       "    </tr>\n",
       "    <tr>\n",
       "      <th>ZN2abcpp</th>\n",
       "      <td>0.000000</td>\n",
       "      <td>-0.008295</td>\n",
       "    </tr>\n",
       "    <tr>\n",
       "      <th>ZN2t3pp</th>\n",
       "      <td>0.000000</td>\n",
       "      <td>-0.002074</td>\n",
       "    </tr>\n",
       "    <tr>\n",
       "      <th>ZN2tpp</th>\n",
       "      <td>0.000624</td>\n",
       "      <td>0.000000</td>\n",
       "    </tr>\n",
       "    <tr>\n",
       "      <th>ZNabcpp</th>\n",
       "      <td>0.000000</td>\n",
       "      <td>-0.008295</td>\n",
       "    </tr>\n",
       "    <tr>\n",
       "      <th>Zn2tex</th>\n",
       "      <td>0.000624</td>\n",
       "      <td>0.000000</td>\n",
       "    </tr>\n",
       "  </tbody>\n",
       "</table>\n",
       "<p>2583 rows × 2 columns</p>\n",
       "</div>"
      ],
      "text/plain": [
       "<Solution 1.828 at 0x222447740d0>"
      ]
     },
     "execution_count": 53,
     "metadata": {},
     "output_type": "execute_result"
    }
   ],
   "source": [
    "model.optimize()"
   ]
  },
  {
   "cell_type": "code",
   "execution_count": 54,
   "id": "b7a93f38",
   "metadata": {},
   "outputs": [],
   "source": [
    "##performing same FBA under anaerobic conditions in E coli\n",
    "model.reactions.EX_o2_e.lower_bound = 0 #no oxygen uptake\n"
   ]
  },
  {
   "cell_type": "code",
   "execution_count": 55,
   "id": "1992bd3e",
   "metadata": {},
   "outputs": [
    {
     "data": {
      "text/html": [
       "<strong><em>Optimal</em> solution with objective value 0.476</strong><br><div>\n",
       "<style scoped>\n",
       "    .dataframe tbody tr th:only-of-type {\n",
       "        vertical-align: middle;\n",
       "    }\n",
       "\n",
       "    .dataframe tbody tr th {\n",
       "        vertical-align: top;\n",
       "    }\n",
       "\n",
       "    .dataframe thead th {\n",
       "        text-align: right;\n",
       "    }\n",
       "</style>\n",
       "<table border=\"1\" class=\"dataframe\">\n",
       "  <thead>\n",
       "    <tr style=\"text-align: right;\">\n",
       "      <th></th>\n",
       "      <th>fluxes</th>\n",
       "      <th>reduced_costs</th>\n",
       "    </tr>\n",
       "  </thead>\n",
       "  <tbody>\n",
       "    <tr>\n",
       "      <th>DM_4crsol_c</th>\n",
       "      <td>1.062308e-04</td>\n",
       "      <td>0.000000</td>\n",
       "    </tr>\n",
       "    <tr>\n",
       "      <th>DM_5drib_c</th>\n",
       "      <td>3.196453e-04</td>\n",
       "      <td>0.000000</td>\n",
       "    </tr>\n",
       "    <tr>\n",
       "      <th>DM_aacald_c</th>\n",
       "      <td>0.000000e+00</td>\n",
       "      <td>0.000000</td>\n",
       "    </tr>\n",
       "    <tr>\n",
       "      <th>DM_amob_c</th>\n",
       "      <td>9.527430e-07</td>\n",
       "      <td>0.000000</td>\n",
       "    </tr>\n",
       "    <tr>\n",
       "      <th>DM_mththf_c</th>\n",
       "      <td>2.134144e-04</td>\n",
       "      <td>0.000000</td>\n",
       "    </tr>\n",
       "    <tr>\n",
       "      <th>...</th>\n",
       "      <td>...</td>\n",
       "      <td>...</td>\n",
       "    </tr>\n",
       "    <tr>\n",
       "      <th>ZN2abcpp</th>\n",
       "      <td>0.000000e+00</td>\n",
       "      <td>-0.022105</td>\n",
       "    </tr>\n",
       "    <tr>\n",
       "      <th>ZN2t3pp</th>\n",
       "      <td>0.000000e+00</td>\n",
       "      <td>-0.005526</td>\n",
       "    </tr>\n",
       "    <tr>\n",
       "      <th>ZN2tpp</th>\n",
       "      <td>1.624427e-04</td>\n",
       "      <td>0.000000</td>\n",
       "    </tr>\n",
       "    <tr>\n",
       "      <th>ZNabcpp</th>\n",
       "      <td>0.000000e+00</td>\n",
       "      <td>-0.022105</td>\n",
       "    </tr>\n",
       "    <tr>\n",
       "      <th>Zn2tex</th>\n",
       "      <td>1.624427e-04</td>\n",
       "      <td>0.000000</td>\n",
       "    </tr>\n",
       "  </tbody>\n",
       "</table>\n",
       "<p>2583 rows × 2 columns</p>\n",
       "</div>"
      ],
      "text/plain": [
       "<Solution 0.476 at 0x2223d035cd0>"
      ]
     },
     "execution_count": 55,
     "metadata": {},
     "output_type": "execute_result"
    }
   ],
   "source": [
    "model.optimize()"
   ]
  },
  {
   "cell_type": "markdown",
   "id": "3d1473c7",
   "metadata": {},
   "source": [
    "# Growth on alternate substrates"
   ]
  },
  {
   "cell_type": "code",
   "execution_count": 56,
   "id": "a8b1ee58",
   "metadata": {},
   "outputs": [
    {
     "data": {
      "text/plain": [
       "[<Reaction DM_4crsol_c at 0x222449ce160>,\n",
       " <Reaction DM_5drib_c at 0x222449cedc0>,\n",
       " <Reaction DM_aacald_c at 0x222449cefa0>,\n",
       " <Reaction DM_amob_c at 0x222449cefd0>,\n",
       " <Reaction DM_mththf_c at 0x222449cee80>,\n",
       " <Reaction DM_oxam_c at 0x222449e8040>,\n",
       " <Reaction BIOMASS_Ec_iJO1366_WT_53p95M at 0x222449e8310>,\n",
       " <Reaction BIOMASS_Ec_iJO1366_core_53p95M at 0x222449e81f0>,\n",
       " <Reaction EX_12ppd__R_e at 0x222449e85e0>,\n",
       " <Reaction EX_12ppd__S_e at 0x222449e8580>,\n",
       " <Reaction EX_14glucan_e at 0x222449e8d30>,\n",
       " <Reaction EX_15dap_e at 0x222449e8520>,\n",
       " <Reaction EX_23camp_e at 0x222449fff70>,\n",
       " <Reaction EX_23ccmp_e at 0x22244a0e250>,\n",
       " <Reaction EX_23cgmp_e at 0x222449e84f0>,\n",
       " <Reaction EX_23cump_e at 0x22244a21d30>,\n",
       " <Reaction EX_23dappa_e at 0x22244a21f40>,\n",
       " <Reaction EX_26dap__M_e at 0x22244a21f70>,\n",
       " <Reaction EX_2ddglcn_e at 0x22244a21bb0>,\n",
       " <Reaction EX_34dhpac_e at 0x222449e85b0>,\n",
       " <Reaction EX_3amp_e at 0x22244a21fa0>,\n",
       " <Reaction EX_3cmp_e at 0x22244a21eb0>,\n",
       " <Reaction EX_3gmp_e at 0x22244a2a310>,\n",
       " <Reaction EX_3hcinnm_e at 0x22244a2a370>,\n",
       " <Reaction EX_3hpp_e at 0x22244a2a160>,\n",
       " <Reaction EX_3hpppn_e at 0x22244a2a580>,\n",
       " <Reaction EX_3ump_e at 0x22244a2a640>,\n",
       " <Reaction EX_4abut_e at 0x22244a2a700>,\n",
       " <Reaction EX_4hoxpacd_e at 0x22244a2a7c0>,\n",
       " <Reaction EX_5dglcn_e at 0x22244a2a880>,\n",
       " <Reaction EX_5mtr_e at 0x22244a2a940>,\n",
       " <Reaction EX_LalaDglu_e at 0x22244a2aa00>,\n",
       " <Reaction EX_LalaDgluMdap_e at 0x22244a2aac0>,\n",
       " <Reaction EX_LalaDgluMdapDala_e at 0x22244a2ab80>,\n",
       " <Reaction EX_LalaLglu_e at 0x22244a2aca0>,\n",
       " <Reaction EX_ac_e at 0x22244a2ad60>,\n",
       " <Reaction EX_acac_e at 0x22244a2adc0>,\n",
       " <Reaction EX_acald_e at 0x22244a2af40>,\n",
       " <Reaction EX_acgal_e at 0x22244a2aee0>,\n",
       " <Reaction EX_acgal1p_e at 0x22244a2ae20>,\n",
       " <Reaction EX_acgam_e at 0x22244a2ad00>,\n",
       " <Reaction EX_acgam1p_e at 0x22244a2afa0>,\n",
       " <Reaction EX_acmana_e at 0x22244a2af70>,\n",
       " <Reaction EX_acmum_e at 0x22244a364f0>,\n",
       " <Reaction EX_acnam_e at 0x22244a36370>,\n",
       " <Reaction EX_acolipa_e at 0x22244a36160>,\n",
       " <Reaction EX_acser_e at 0x22244a362b0>,\n",
       " <Reaction EX_ade_e at 0x22244a366a0>,\n",
       " <Reaction EX_adn_e at 0x22244a36700>,\n",
       " <Reaction EX_adocbl_e at 0x22244a367c0>,\n",
       " <Reaction EX_ag_e at 0x22244a36640>,\n",
       " <Reaction EX_agm_e at 0x22244a369a0>,\n",
       " <Reaction EX_akg_e at 0x22244a36a00>,\n",
       " <Reaction EX_ala_B_e at 0x22244a36ac0>,\n",
       " <Reaction EX_ala__D_e at 0x22244a36940>,\n",
       " <Reaction EX_ala__L_e at 0x22244a36c40>,\n",
       " <Reaction EX_alaala_e at 0x22244a36d00>,\n",
       " <Reaction EX_all__D_e at 0x22244a36dc0>,\n",
       " <Reaction EX_alltn_e at 0x22244a36d60>,\n",
       " <Reaction EX_amp_e at 0x22244a36ee0>,\n",
       " <Reaction EX_anhgm_e at 0x22244a36e20>,\n",
       " <Reaction EX_arab__L_e at 0x22244a36f40>,\n",
       " <Reaction EX_arbt_e at 0x22244a36fa0>,\n",
       " <Reaction EX_arbtn_e at 0x22244a36f70>,\n",
       " <Reaction EX_arbtn_fe3_e at 0x22244a452b0>,\n",
       " <Reaction EX_arg__L_e at 0x22244a454c0>,\n",
       " <Reaction EX_ascb__L_e at 0x22244a45160>,\n",
       " <Reaction EX_asn__L_e at 0x22244a45580>,\n",
       " <Reaction EX_aso3_e at 0x22244a45100>,\n",
       " <Reaction EX_asp__L_e at 0x22244a45700>,\n",
       " <Reaction EX_btn_e at 0x22244a457c0>,\n",
       " <Reaction EX_but_e at 0x22244a45880>,\n",
       " <Reaction EX_butso3_e at 0x22244a45940>,\n",
       " <Reaction EX_ca2_e at 0x22244a45a30>,\n",
       " <Reaction EX_cbi_e at 0x22244a458b0>,\n",
       " <Reaction EX_cbl1_e at 0x22244a45b80>,\n",
       " <Reaction EX_cd2_e at 0x22244a45ca0>,\n",
       " <Reaction EX_cgly_e at 0x22244a45ac0>,\n",
       " <Reaction EX_chol_e at 0x22244a45dc0>,\n",
       " <Reaction EX_chtbs_e at 0x22244a45d60>,\n",
       " <Reaction EX_cit_e at 0x22244a45ee0>,\n",
       " <Reaction EX_cl_e at 0x22244a45be0>,\n",
       " <Reaction EX_cm_e at 0x22244a45f40>,\n",
       " <Reaction EX_cmp_e at 0x22244a45fa0>,\n",
       " <Reaction EX_co2_e at 0x22244a45f70>,\n",
       " <Reaction EX_cobalt2_e at 0x22244a532b0>,\n",
       " <Reaction EX_colipa_e at 0x22244a53370>,\n",
       " <Reaction EX_colipap_e at 0x22244a53160>,\n",
       " <Reaction EX_cpgn_e at 0x22244a535e0>,\n",
       " <Reaction EX_cpgn_un_e at 0x22244a536a0>,\n",
       " <Reaction EX_crn_e at 0x22244a53760>,\n",
       " <Reaction EX_crn__D_e at 0x22244a53820>,\n",
       " <Reaction EX_csn_e at 0x22244a53640>,\n",
       " <Reaction EX_cu_e at 0x22244a53700>,\n",
       " <Reaction EX_cu2_e at 0x22244a53580>,\n",
       " <Reaction EX_cyan_e at 0x22244a53ac0>,\n",
       " <Reaction EX_cynt_e at 0x22244a53b80>,\n",
       " <Reaction EX_cys__D_e at 0x22244a53c40>,\n",
       " <Reaction EX_cys__L_e at 0x22244a53d00>,\n",
       " <Reaction EX_cytd_e at 0x22244a53dc0>,\n",
       " <Reaction EX_dad_2_e at 0x22244a53d60>,\n",
       " <Reaction EX_damp_e at 0x22244a53ca0>,\n",
       " <Reaction EX_dca_e at 0x22244a53e20>,\n",
       " <Reaction EX_dcmp_e at 0x22244a53f40>,\n",
       " <Reaction EX_dcyt_e at 0x22244a53fa0>,\n",
       " <Reaction EX_ddca_e at 0x22244a53f70>,\n",
       " <Reaction EX_dgmp_e at 0x22244a5f2b0>,\n",
       " <Reaction EX_dgsn_e at 0x22244a5f4c0>,\n",
       " <Reaction EX_dha_e at 0x22244a5f130>,\n",
       " <Reaction EX_dimp_e at 0x22244a5f580>,\n",
       " <Reaction EX_din_e at 0x22244a5f100>,\n",
       " <Reaction EX_dms_e at 0x22244a5f700>,\n",
       " <Reaction EX_dmso_e at 0x22244a5f7c0>,\n",
       " <Reaction EX_dopa_e at 0x22244a5f880>,\n",
       " <Reaction EX_doxrbcn_e at 0x22244a5f940>,\n",
       " <Reaction EX_dtmp_e at 0x22244a5fa00>,\n",
       " <Reaction EX_dump_e at 0x22244a5fac0>,\n",
       " <Reaction EX_duri_e at 0x22244a5fb80>,\n",
       " <Reaction EX_eca4colipa_e at 0x22244a5fc40>,\n",
       " <Reaction EX_enlipa_e at 0x22244a5fd00>,\n",
       " <Reaction EX_enter_e at 0x22244a5feb0>,\n",
       " <Reaction EX_etha_e at 0x22244a5fd60>,\n",
       " <Reaction EX_ethso3_e at 0x22244a5fee0>,\n",
       " <Reaction EX_etoh_e at 0x22244a5fe20>,\n",
       " <Reaction EX_f6p_e at 0x22244a5ff40>,\n",
       " <Reaction EX_fald_e at 0x22244a5fdc0>,\n",
       " <Reaction EX_fe2_e at 0x22244a5ff70>,\n",
       " <Reaction EX_fe3_e at 0x22244a6d2b0>,\n",
       " <Reaction EX_fe3dcit_e at 0x22244a6d370>,\n",
       " <Reaction EX_fe3dhbzs_e at 0x22244a6d160>,\n",
       " <Reaction EX_fe3hox_e at 0x22244a6d5e0>,\n",
       " <Reaction EX_fe3hox_un_e at 0x22244a6d6a0>,\n",
       " <Reaction EX_fecrm_e at 0x22244a6d700>,\n",
       " <Reaction EX_fecrm_un_e at 0x22244a6d820>,\n",
       " <Reaction EX_feenter_e at 0x22244a6d8e0>,\n",
       " <Reaction EX_feoxam_e at 0x22244a6d9a0>,\n",
       " <Reaction EX_feoxam_un_e at 0x22244a6d580>,\n",
       " <Reaction EX_for_e at 0x22244a6d640>,\n",
       " <Reaction EX_fru_e at 0x22244a6dbe0>,\n",
       " <Reaction EX_frulys_e at 0x22244a6dc40>,\n",
       " <Reaction EX_fruur_e at 0x22244a6dd00>,\n",
       " <Reaction EX_fuc__L_e at 0x22244a6d940>,\n",
       " <Reaction EX_fum_e at 0x22244a6df70>,\n",
       " <Reaction EX_fusa_e at 0x22244a6deb0>,\n",
       " <Reaction EX_g1p_e at 0x22244a6de20>,\n",
       " <Reaction EX_g3pc_e at 0x22244a6df40>,\n",
       " <Reaction EX_g3pe_e at 0x22244a6db20>,\n",
       " <Reaction EX_g3pg_e at 0x22244a6dfd0>,\n",
       " <Reaction EX_g3pi_e at 0x22244a7b2b0>,\n",
       " <Reaction EX_g3ps_e at 0x22244a7b370>,\n",
       " <Reaction EX_g6p_e at 0x22244a7b160>,\n",
       " <Reaction EX_gal_e at 0x22244a7b580>,\n",
       " <Reaction EX_gal_bD_e at 0x22244a7b640>,\n",
       " <Reaction EX_gal1p_e at 0x22244a7b700>,\n",
       " <Reaction EX_galct__D_e at 0x22244a7b7c0>,\n",
       " <Reaction EX_galctn__D_e at 0x22244a7b880>,\n",
       " <Reaction EX_galctn__L_e at 0x22244a7b940>,\n",
       " <Reaction EX_galt_e at 0x22244a7ba00>,\n",
       " <Reaction EX_galur_e at 0x22244a7bac0>,\n",
       " <Reaction EX_gam_e at 0x22244a7bb80>,\n",
       " <Reaction EX_gam6p_e at 0x22244a7bc40>,\n",
       " <Reaction EX_gbbtn_e at 0x22244a7bd00>,\n",
       " <Reaction EX_gdp_e at 0x22244a7bdc0>,\n",
       " <Reaction EX_glc__D_e at 0x22244a7bd60>,\n",
       " <Reaction EX_glcn_e at 0x22244a7bee0>,\n",
       " <Reaction EX_glcr_e at 0x22244a7be20>,\n",
       " <Reaction EX_glcur_e at 0x22244a7bf40>,\n",
       " <Reaction EX_glcur1p_e at 0x22244a7bfa0>,\n",
       " <Reaction EX_gln__L_e at 0x22244a7bf70>,\n",
       " <Reaction EX_glu__L_e at 0x22244a881f0>,\n",
       " <Reaction EX_gly_e at 0x22244a88370>,\n",
       " <Reaction EX_glyald_e at 0x22244a88160>,\n",
       " <Reaction EX_glyb_e at 0x22244a88580>,\n",
       " <Reaction EX_glyc_e at 0x22244a88640>,\n",
       " <Reaction EX_glyc__R_e at 0x22244a88700>,\n",
       " <Reaction EX_glyc2p_e at 0x22244a887c0>,\n",
       " <Reaction EX_glyc3p_e at 0x22244a88880>,\n",
       " <Reaction EX_glyclt_e at 0x22244a88940>,\n",
       " <Reaction EX_gmp_e at 0x22244a88a00>,\n",
       " <Reaction EX_gsn_e at 0x22244a88ac0>,\n",
       " <Reaction EX_gthox_e at 0x22244a88b80>,\n",
       " <Reaction EX_gthrd_e at 0x22244a88c40>,\n",
       " <Reaction EX_gtp_e at 0x22244a88d00>,\n",
       " <Reaction EX_gua_e at 0x22244a88dc0>,\n",
       " <Reaction EX_h_e at 0x22244a88d30>,\n",
       " <Reaction EX_h2_e at 0x22244a88ee0>,\n",
       " <Reaction EX_h2o_e at 0x22244a88e20>,\n",
       " <Reaction EX_h2o2_e at 0x22244a88f40>,\n",
       " <Reaction EX_h2s_e at 0x22244a88fa0>,\n",
       " <Reaction EX_hacolipa_e at 0x22244a88f70>,\n",
       " <Reaction EX_halipa_e at 0x22244a942b0>,\n",
       " <Reaction EX_hdca_e at 0x22244a944c0>,\n",
       " <Reaction EX_hdcea_e at 0x22244a94400>,\n",
       " <Reaction EX_hg2_e at 0x22244a94580>,\n",
       " <Reaction EX_his__L_e at 0x22244a946a0>,\n",
       " <Reaction EX_hom__L_e at 0x22244a94160>,\n",
       " <Reaction EX_hxa_e at 0x22244a947c0>,\n",
       " <Reaction EX_hxan_e at 0x22244a94370>,\n",
       " <Reaction EX_idon__L_e at 0x22244a94940>,\n",
       " <Reaction EX_ile__L_e at 0x22244a94a00>,\n",
       " <Reaction EX_imp_e at 0x22244a94ac0>,\n",
       " <Reaction EX_indole_e at 0x22244a94b80>,\n",
       " <Reaction EX_inost_e at 0x22244a94c40>,\n",
       " <Reaction EX_ins_e at 0x22244a94d00>,\n",
       " <Reaction EX_isetac_e at 0x22244a94dc0>,\n",
       " <Reaction EX_k_e at 0x22244a94d60>,\n",
       " <Reaction EX_kdo2lipid4_e at 0x22244a94ee0>,\n",
       " <Reaction EX_lac__D_e at 0x22244a94e20>,\n",
       " <Reaction EX_lac__L_e at 0x22244a94f40>,\n",
       " <Reaction EX_lcts_e at 0x22244a94fa0>,\n",
       " <Reaction EX_leu__L_e at 0x22244a94f70>,\n",
       " <Reaction EX_lipa_e at 0x22244aa31f0>,\n",
       " <Reaction EX_lipa_cold_e at 0x22244aa3370>,\n",
       " <Reaction EX_lipoate_e at 0x22244aa3160>,\n",
       " <Reaction EX_lys__L_e at 0x22244aa3580>,\n",
       " <Reaction EX_lyx__L_e at 0x22244aa3640>,\n",
       " <Reaction EX_mal__D_e at 0x22244aa3700>,\n",
       " <Reaction EX_mal__L_e at 0x22244aa3820>,\n",
       " <Reaction EX_malt_e at 0x22244aa3880>,\n",
       " <Reaction EX_malthx_e at 0x22244aa3940>,\n",
       " <Reaction EX_maltpt_e at 0x22244aa37c0>,\n",
       " <Reaction EX_malttr_e at 0x22244aa3ac0>,\n",
       " <Reaction EX_maltttr_e at 0x22244aa3b80>,\n",
       " <Reaction EX_man_e at 0x22244aa3c40>,\n",
       " <Reaction EX_man6p_e at 0x22244aa3d00>,\n",
       " <Reaction EX_manglyc_e at 0x22244aa3dc0>,\n",
       " <Reaction EX_melib_e at 0x22244aa3f70>,\n",
       " <Reaction EX_meoh_e at 0x22244aa3ee0>,\n",
       " <Reaction EX_met__D_e at 0x22244aa3e20>,\n",
       " <Reaction EX_met__L_e at 0x22244aa3f40>,\n",
       " <Reaction EX_metsox_R__L_e at 0x22244aa3d60>,\n",
       " <Reaction EX_metsox_S__L_e at 0x22244aa3fd0>,\n",
       " <Reaction EX_mg2_e at 0x22244ab12b0>,\n",
       " <Reaction EX_mincyc_e at 0x22244ab1370>,\n",
       " <Reaction EX_minohp_e at 0x22244ab1160>,\n",
       " <Reaction EX_mmet_e at 0x22244ab1580>,\n",
       " <Reaction EX_mn2_e at 0x22244ab1640>,\n",
       " <Reaction EX_mnl_e at 0x22244ab1700>,\n",
       " <Reaction EX_mobd_e at 0x22244ab17c0>,\n",
       " <Reaction EX_mso3_e at 0x22244ab1880>,\n",
       " <Reaction EX_n2o_e at 0x22244ab1940>,\n",
       " <Reaction EX_na1_e at 0x22244ab1a00>,\n",
       " <Reaction EX_nac_e at 0x22244ab1ac0>,\n",
       " <Reaction EX_nh4_e at 0x22244ab1b80>,\n",
       " <Reaction EX_ni2_e at 0x22244ab1c40>,\n",
       " <Reaction EX_nmn_e at 0x22244ab1d00>,\n",
       " <Reaction EX_no_e at 0x22244ab1dc0>,\n",
       " <Reaction EX_no2_e at 0x22244ab1f70>,\n",
       " <Reaction EX_no3_e at 0x22244ab1ee0>,\n",
       " <Reaction EX_novbcn_e at 0x22244ab1df0>,\n",
       " <Reaction EX_o16a4colipa_e at 0x22244ab1f40>,\n",
       " <Reaction EX_o2_e at 0x22244ab1d60>,\n",
       " <Reaction EX_o2s_e at 0x22244ab1fd0>,\n",
       " <Reaction EX_ocdca_e at 0x22244abf2b0>,\n",
       " <Reaction EX_ocdcea_e at 0x22244abf340>,\n",
       " <Reaction EX_octa_e at 0x22244abf460>,\n",
       " <Reaction EX_orn_e at 0x22244abf580>,\n",
       " <Reaction EX_orot_e at 0x22244abf640>,\n",
       " <Reaction EX_pacald_e at 0x22244abf700>,\n",
       " <Reaction EX_peamn_e at 0x22244abf7c0>,\n",
       " <Reaction EX_phe__L_e at 0x22244abf880>,\n",
       " <Reaction EX_pheme_e at 0x22244abf940>,\n",
       " <Reaction EX_pi_e at 0x22244abfa00>,\n",
       " <Reaction EX_pnto__R_e at 0x22244abfac0>,\n",
       " <Reaction EX_ppa_e at 0x22244abfb80>,\n",
       " <Reaction EX_ppal_e at 0x22244abfc40>,\n",
       " <Reaction EX_pppn_e at 0x22244abfd60>,\n",
       " <Reaction EX_ppt_e at 0x22244abfdc0>,\n",
       " <Reaction EX_pro__L_e at 0x22244abff40>,\n",
       " <Reaction EX_progly_e at 0x22244abfee0>,\n",
       " <Reaction EX_psclys_e at 0x22244abfbe0>,\n",
       " <Reaction EX_pser__L_e at 0x22244abfd00>,\n",
       " <Reaction EX_ptrc_e at 0x22244abffa0>,\n",
       " <Reaction EX_pydam_e at 0x22244abff70>,\n",
       " <Reaction EX_pydx_e at 0x22244acc130>,\n",
       " <Reaction EX_pydxn_e at 0x22244acc370>,\n",
       " <Reaction EX_pyr_e at 0x22244acc160>,\n",
       " <Reaction EX_quin_e at 0x22244acc580>,\n",
       " <Reaction EX_r5p_e at 0x22244acc640>,\n",
       " <Reaction EX_rfamp_e at 0x22244acc700>,\n",
       " <Reaction EX_rib__D_e at 0x22244acc7c0>,\n",
       " <Reaction EX_rmn_e at 0x22244acc880>,\n",
       " <Reaction EX_sbt__D_e at 0x22244acc940>,\n",
       " <Reaction EX_sel_e at 0x22244acca00>,\n",
       " <Reaction EX_ser__D_e at 0x22244accac0>,\n",
       " <Reaction EX_ser__L_e at 0x22244accb80>,\n",
       " <Reaction EX_skm_e at 0x22244accc40>,\n",
       " <Reaction EX_slnt_e at 0x22244accd00>,\n",
       " <Reaction EX_so2_e at 0x22244accdc0>,\n",
       " <Reaction EX_so3_e at 0x22244accf70>,\n",
       " <Reaction EX_so4_e at 0x22244accee0>,\n",
       " <Reaction EX_spmd_e at 0x22244acce20>,\n",
       " <Reaction EX_succ_e at 0x22244accf40>,\n",
       " <Reaction EX_sucr_e at 0x22244accd60>,\n",
       " <Reaction EX_sulfac_e at 0x22244accfd0>,\n",
       " <Reaction EX_tartr__D_e at 0x22244ada310>,\n",
       " <Reaction EX_tartr__L_e at 0x22244ada370>,\n",
       " <Reaction EX_taur_e at 0x22244ada160>,\n",
       " <Reaction EX_tcynt_e at 0x22244ada580>,\n",
       " <Reaction EX_thm_e at 0x22244ada640>,\n",
       " <Reaction EX_thr__L_e at 0x22244ada700>,\n",
       " <Reaction EX_thrp_e at 0x22244ada7c0>,\n",
       " <Reaction EX_thym_e at 0x22244ada880>,\n",
       " <Reaction EX_thymd_e at 0x22244ada940>,\n",
       " <Reaction EX_tma_e at 0x22244adaa00>,\n",
       " <Reaction EX_tmao_e at 0x22244adaac0>,\n",
       " <Reaction EX_tre_e at 0x22244adab80>,\n",
       " <Reaction EX_trp__L_e at 0x22244adac40>,\n",
       " <Reaction EX_tsul_e at 0x22244adad00>,\n",
       " <Reaction EX_ttdca_e at 0x22244adadc0>,\n",
       " <Reaction EX_ttdcea_e at 0x22244adad60>,\n",
       " <Reaction EX_ttrcyc_e at 0x22244adaee0>,\n",
       " <Reaction EX_tungs_e at 0x22244adae20>,\n",
       " <Reaction EX_tym_e at 0x22244adaf40>,\n",
       " <Reaction EX_tyr__L_e at 0x22244adafa0>,\n",
       " <Reaction EX_tyrp_e at 0x22244adaf70>,\n",
       " <Reaction EX_uacgam_e at 0x22244ae72b0>,\n",
       " <Reaction EX_udpacgal_e at 0x22244ae7370>,\n",
       " <Reaction EX_udpg_e at 0x22244ae71f0>,\n",
       " <Reaction EX_udpgal_e at 0x22244ae7580>,\n",
       " <Reaction EX_udpglcur_e at 0x22244ae7640>,\n",
       " <Reaction EX_ump_e at 0x22244ae7700>,\n",
       " <Reaction EX_ura_e at 0x22244ae77c0>,\n",
       " <Reaction EX_urea_e at 0x22244ae7760>,\n",
       " <Reaction EX_uri_e at 0x22244ae7940>,\n",
       " <Reaction EX_val__L_e at 0x22244ae79a0>,\n",
       " <Reaction EX_xan_e at 0x22244ae7af0>,\n",
       " <Reaction EX_xmp_e at 0x22244ae7bb0>,\n",
       " <Reaction EX_xtsn_e at 0x22244ae7c70>,\n",
       " <Reaction EX_xyl__D_e at 0x22244ae7d30>,\n",
       " <Reaction EX_xylu__L_e at 0x22244ae7df0>,\n",
       " <Reaction EX_zn2_e at 0x22244ae7d90>,\n",
       " <Reaction 12DGR120tipp at 0x22244ae7f10>,\n",
       " <Reaction 12DGR140tipp at 0x22244ae7c10>,\n",
       " <Reaction 12DGR141tipp at 0x22244ae7f70>,\n",
       " <Reaction 12DGR160tipp at 0x22244ae7fd0>,\n",
       " <Reaction 12DGR161tipp at 0x22244ae7fa0>,\n",
       " <Reaction 12DGR180tipp at 0x22244af5790>,\n",
       " <Reaction 12DGR181tipp at 0x22244af58e0>,\n",
       " <Reaction 12PPDRtex at 0x22244af5a30>,\n",
       " <Reaction 12PPDRtpp at 0x22244af5b80>,\n",
       " <Reaction 12PPDStex at 0x22244af5f70>,\n",
       " <Reaction 12PPDStpp at 0x22244af5c10>,\n",
       " <Reaction 14GLUCANabcpp at 0x22244af5d90>,\n",
       " <Reaction 14GLUCANtexi at 0x22244af5640>,\n",
       " <Reaction 23CAMPtex at 0x22244af5190>,\n",
       " <Reaction 23CCMPtex at 0x22244af5fa0>,\n",
       " <Reaction 23CGMPtex at 0x22244af5f40>,\n",
       " <Reaction 23CUMPtex at 0x22244af5ca0>,\n",
       " <Reaction 23DAPPAt2pp at 0x22244b00c40>,\n",
       " <Reaction 23DAPPAtex at 0x22244af5ee0>,\n",
       " <Reaction 23PDE2pp at 0x22244af5af0>,\n",
       " <Reaction 23PDE4pp at 0x22244af5e50>,\n",
       " <Reaction 23PDE7pp at 0x22244b00b80>,\n",
       " <Reaction 23PDE9pp at 0x22244b00850>,\n",
       " <Reaction 26DAHtex at 0x22244b0af70>,\n",
       " <Reaction 2AGPA120tipp at 0x22244b00b50>,\n",
       " <Reaction 2AGPA140tipp at 0x22244b0adc0>,\n",
       " <Reaction 2AGPA141tipp at 0x22244b00880>,\n",
       " <Reaction 2AGPA160tipp at 0x22244b00a90>,\n",
       " <Reaction 2AGPA161tipp at 0x22244b00940>,\n",
       " <Reaction 2AGPA180tipp at 0x22244b0aca0>,\n",
       " <Reaction 2AGPA181tipp at 0x22244b00e20>,\n",
       " <Reaction 2AGPE120tipp at 0x22244b00e50>,\n",
       " <Reaction 2AGPE140tipp at 0x22244b17be0>,\n",
       " <Reaction 2AGPE141tipp at 0x22244b17d60>,\n",
       " <Reaction 2AGPE160tipp at 0x22244b17e80>,\n",
       " <Reaction 2AGPE161tipp at 0x22244b17f70>,\n",
       " <Reaction 2AGPE180tipp at 0x22244af59a0>,\n",
       " <Reaction 2AGPE181tipp at 0x22244b0a6a0>,\n",
       " <Reaction 2AGPEAT120 at 0x22244b17ee0>,\n",
       " <Reaction 2AGPEAT140 at 0x22244b17a60>,\n",
       " <Reaction 2AGPEAT141 at 0x22244b00d60>,\n",
       " <Reaction 2AGPEAT160 at 0x22244b0adf0>,\n",
       " <Reaction 2AGPEAT161 at 0x22244b22ac0>,\n",
       " <Reaction 2AGPEAT180 at 0x22244b22e80>,\n",
       " <Reaction 2AGPEAT181 at 0x22244b2ed60>,\n",
       " <Reaction 2AGPG120tipp at 0x22244b226a0>,\n",
       " <Reaction 2AGPG140tipp at 0x22244b22bb0>,\n",
       " <Reaction 2AGPG141tipp at 0x22244b224c0>,\n",
       " <Reaction 2AGPG160tipp at 0x22244b227c0>,\n",
       " <Reaction 2AGPG161tipp at 0x22244b17df0>,\n",
       " <Reaction 2AGPG180tipp at 0x22244b2e640>,\n",
       " <Reaction 2AGPG181tipp at 0x22244b22e20>,\n",
       " <Reaction 2AGPGAT120 at 0x22244b229a0>,\n",
       " <Reaction 2AGPGAT140 at 0x22244b38be0>,\n",
       " <Reaction 2AGPGAT141 at 0x22244b38d00>,\n",
       " <Reaction 2AGPGAT160 at 0x22244b38e80>,\n",
       " <Reaction 2AGPGAT161 at 0x22244b38f70>,\n",
       " <Reaction 2AGPGAT180 at 0x22244b0aaf0>,\n",
       " <Reaction 2AGPGAT181 at 0x22244b38bb0>,\n",
       " <Reaction 2DGULRGx at 0x22244b38ee0>,\n",
       " <Reaction 2DGULRGy at 0x22244b38a60>,\n",
       " <Reaction 2DGULRx at 0x22244b2e9a0>,\n",
       " <Reaction 2DGULRy at 0x22244b41e20>,\n",
       " <Reaction 2MAHMP at 0x22244b41af0>,\n",
       " <Reaction 34dhpactex at 0x22244b41ee0>,\n",
       " <Reaction 3AMACHYD at 0x22244b17a30>,\n",
       " <Reaction 3AMPtex at 0x22244b55b50>,\n",
       " <Reaction 3CMPtex at 0x22244b41eb0>,\n",
       " <Reaction 3GMPtex at 0x22244b55bb0>,\n",
       " <Reaction 3HAD100 at 0x22244b4bd90>,\n",
       " <Reaction 3HAD120 at 0x22244b38d60>,\n",
       " <Reaction 3HAD121 at 0x22244b4b9a0>,\n",
       " <Reaction 3HAD140 at 0x22244b38a30>,\n",
       " <Reaction 3HAD141 at 0x22244b4bd60>,\n",
       " <Reaction 3HAD160 at 0x22244b55be0>,\n",
       " <Reaction 3HAD161 at 0x22244b61eb0>,\n",
       " <Reaction 3HAD180 at 0x22244b619a0>,\n",
       " <Reaction 3HAD181 at 0x22244b61940>,\n",
       " <Reaction 3HAD40 at 0x22244b61d60>,\n",
       " <Reaction 3HAD60 at 0x22244b2edc0>,\n",
       " <Reaction 3HAD80 at 0x22244b6bd90>,\n",
       " <Reaction 3HCINNMH at 0x22244b6bbb0>,\n",
       " <Reaction 3HPPPNH at 0x22244b61d00>,\n",
       " <Reaction 3HPPtex at 0x22244b61fd0>,\n",
       " <Reaction 3HPPtpp at 0x22244b6bf40>,\n",
       " <Reaction 3KGK at 0x22244b6bc10>,\n",
       " <Reaction 3NTD2pp at 0x22244b78c70>,\n",
       " <Reaction 3NTD4pp at 0x22244b6ba00>,\n",
       " <Reaction 3NTD7pp at 0x22244b78bb0>,\n",
       " <Reaction 3NTD9pp at 0x22244b55190>,\n",
       " <Reaction 3OAR100 at 0x22244b61460>,\n",
       " <Reaction 3OAR120 at 0x22244b83790>,\n",
       " <Reaction 3OAR121 at 0x22244b83a60>,\n",
       " <Reaction 3OAR140 at 0x22244b55b80>,\n",
       " <Reaction 3OAR141 at 0x22244b83ca0>,\n",
       " <Reaction 3OAR160 at 0x22244b61a90>,\n",
       " <Reaction 3OAR161 at 0x22244b8d0a0>,\n",
       " <Reaction 3OAR180 at 0x22244b6b4c0>,\n",
       " <Reaction 3OAR181 at 0x22244b61670>,\n",
       " <Reaction 3OAR40 at 0x22244b83f70>,\n",
       " <Reaction 3OAR60 at 0x22244b78f70>,\n",
       " <Reaction 3OAR80 at 0x22244b8d040>,\n",
       " <Reaction 3OAS100 at 0x22244b6b9d0>,\n",
       " <Reaction 3OAS120 at 0x22244b83d30>,\n",
       " <Reaction 3OAS121 at 0x22244b95160>,\n",
       " <Reaction 3OAS140 at 0x22244b8d400>,\n",
       " <Reaction 3OAS141 at 0x22244b95130>,\n",
       " <Reaction 3OAS160 at 0x22244b83a90>,\n",
       " <Reaction 3OAS161 at 0x22244b8dfa0>,\n",
       " <Reaction 3OAS180 at 0x22244ba6f10>,\n",
       " <Reaction 3OAS181 at 0x22244b95d90>,\n",
       " <Reaction 3OAS60 at 0x22244ba6fa0>,\n",
       " <Reaction 3OAS80 at 0x22244b8dd30>,\n",
       " <Reaction 3OXCOAT at 0x22244bb2eb0>,\n",
       " <Reaction 3PEPTabcpp at 0x22244ba6d30>,\n",
       " <Reaction 3PEPTtex at 0x22244bb2fa0>,\n",
       " <Reaction 3UMPtex at 0x22244bb2f70>,\n",
       " <Reaction 42A12BOOXpp at 0x22244ba6fd0>,\n",
       " <Reaction 4HOXPACDtex at 0x22244bbbb50>,\n",
       " <Reaction 4HTHRS at 0x22244bbba90>,\n",
       " <Reaction 4PCP at 0x22244bbbdf0>,\n",
       " <Reaction 4PCPpp at 0x22244b9f0d0>,\n",
       " <Reaction 4PEPTabcpp at 0x22244b9feb0>,\n",
       " <Reaction 4PEPTtex at 0x22244bbb550>,\n",
       " <Reaction 5DGLCNR at 0x22244b95df0>,\n",
       " <Reaction 5DGLCNt2rpp at 0x22244bc5f70>,\n",
       " <Reaction 5DGLCNtex at 0x22244bbb5e0>,\n",
       " <Reaction 5DOAN at 0x22244bbbd60>,\n",
       " <Reaction 5MTRtex at 0x22244bd0cd0>,\n",
       " <Reaction 5MTRtpp at 0x22244bbbf70>,\n",
       " <Reaction A5PISO at 0x22244bbbb80>,\n",
       " <Reaction AACPS1 at 0x22244bd0940>,\n",
       " <Reaction AACPS2 at 0x22244bc5be0>,\n",
       " <Reaction AACPS3 at 0x22244bd0eb0>,\n",
       " <Reaction AACPS4 at 0x22244bd0c10>,\n",
       " <Reaction AACPS5 at 0x22244bbbdc0>,\n",
       " <Reaction AACPS6 at 0x22244bbbaf0>,\n",
       " <Reaction AACPS7 at 0x22244bd0be0>,\n",
       " <Reaction AACPS8 at 0x22244bd0ac0>,\n",
       " <Reaction AACPS9 at 0x22244bdaeb0>,\n",
       " <Reaction AACTOOR at 0x22244bda760>,\n",
       " <Reaction AADDGT at 0x22244bbbfa0>,\n",
       " <Reaction AAMYL at 0x22244bda940>,\n",
       " <Reaction AAMYLpp at 0x22244bdaf40>,\n",
       " <Reaction AB6PGH at 0x22244bdad90>,\n",
       " <Reaction ABTA at 0x22244bda2b0>,\n",
       " <Reaction ABUTD at 0x22244bc58e0>,\n",
       " <Reaction ABUTt2pp at 0x22244bda9a0>,\n",
       " <Reaction ABUTtex at 0x22244bdaf70>,\n",
       " <Reaction ACACCT at 0x22244bda610>,\n",
       " <Reaction ACACT1r at 0x22244bc5b20>,\n",
       " <Reaction ACACT2r at 0x22244bdadc0>,\n",
       " <Reaction ACACT3r at 0x22244bf0e20>,\n",
       " <Reaction ACACT4r at 0x22244bf0d90>,\n",
       " <Reaction ACACT5r at 0x22244bdae20>,\n",
       " <Reaction ACACT6r at 0x22244bf0bb0>,\n",
       " <Reaction ACACT7r at 0x22244bda850>,\n",
       " <Reaction ACACT8r at 0x22244bf0ac0>,\n",
       " <Reaction ACACt2pp at 0x22244bf0f40>,\n",
       " <Reaction ACACtex at 0x22244bf0a90>,\n",
       " <Reaction ACALD at 0x22244bf0fd0>,\n",
       " <Reaction ACALDtex at 0x22244c065b0>,\n",
       " <Reaction ACALDtpp at 0x22244c06d30>,\n",
       " <Reaction ACANTHAT at 0x22244c06eb0>,\n",
       " <Reaction ACBIPGT at 0x22244c06f70>,\n",
       " <Reaction ACCOAC at 0x22244c06fa0>,\n",
       " <Reaction ACCOAL at 0x22244c06b50>,\n",
       " <Reaction ACGAL1PPpp at 0x22244c06fd0>,\n",
       " <Reaction ACGAL1Ptex at 0x22244c06bb0>,\n",
       " <Reaction ACGALtex at 0x22244c06a00>,\n",
       " <Reaction ACGAM1PPpp at 0x22244c06dc0>,\n",
       " <Reaction ACGAM1Ptex at 0x22244c06f40>,\n",
       " <Reaction ACGAMK at 0x22244c19a90>,\n",
       " <Reaction ACGAMT at 0x22244bd0c40>,\n",
       " <Reaction ACGAptspp at 0x22244c19d30>,\n",
       " <Reaction ACGAtex at 0x22244c19e50>,\n",
       " <Reaction ACGK at 0x22244bda1f0>,\n",
       " <Reaction ACGS at 0x22244c19c10>,\n",
       " <Reaction ACHBS at 0x22244c19d60>,\n",
       " <Reaction ACKr at 0x22244c197f0>,\n",
       " <Reaction ACLS at 0x22244c19a00>,\n",
       " <Reaction ACM6PH at 0x22244bf0f10>,\n",
       " <Reaction ACMAMUT at 0x22244c2fd30>,\n",
       " <Reaction ACMANAptspp at 0x22244c2fd90>,\n",
       " <Reaction ACMANAtex at 0x22244c423a0>,\n",
       " <Reaction ACMUMptspp at 0x22244c2faf0>,\n",
       " <Reaction ACMUMtex at 0x22244c2fe50>,\n",
       " <Reaction ACNAMt2pp at 0x22244c42970>,\n",
       " <Reaction ACNAMtex at 0x22244c2fb80>,\n",
       " <Reaction ACNML at 0x22244c2ffa0>,\n",
       " <Reaction ACOAD1f at 0x22244c2ff70>,\n",
       " <Reaction ACOAD2f at 0x22244c427c0>,\n",
       " <Reaction ACOAD3f at 0x22244c42d60>,\n",
       " <Reaction ACOAD4f at 0x22244c2ffd0>,\n",
       " <Reaction ACOAD5f at 0x22244c42790>,\n",
       " <Reaction ACOAD6f at 0x22244c42820>,\n",
       " <Reaction ACOAD7f at 0x22244c42cd0>,\n",
       " <Reaction ACOAD8f at 0x22244c42eb0>,\n",
       " <Reaction ACOATA at 0x22244c42e20>,\n",
       " <Reaction ACODA at 0x22244c42fd0>,\n",
       " <Reaction ACOLIPAabctex at 0x22244c42850>,\n",
       " <Reaction ACONIs at 0x22244c587c0>,\n",
       " <Reaction ACONMT at 0x22244c58cd0>,\n",
       " <Reaction ACONTa at 0x22244c58970>,\n",
       " <Reaction ACONTb at 0x22244c42f70>,\n",
       " <Reaction ACOTA at 0x22244c2fbb0>,\n",
       " <Reaction ACPPAT120 at 0x22244c42f40>,\n",
       " <Reaction ACPPAT140 at 0x22244c58d30>,\n",
       " <Reaction ACPPAT141 at 0x22244c58bb0>,\n",
       " <Reaction ACPPAT160 at 0x22244c58a30>,\n",
       " <Reaction ACPPAT161 at 0x22244c58fa0>,\n",
       " <Reaction ACPPAT180 at 0x22244c58940>,\n",
       " <Reaction ACPPAT181 at 0x22244c58c40>,\n",
       " <Reaction ACPS1 at 0x22244c58f70>,\n",
       " <Reaction ACS at 0x22244c58e80>,\n",
       " <Reaction ACSERtex at 0x22244c6fcd0>,\n",
       " <Reaction ACSERtpp at 0x22244c6fd00>,\n",
       " <Reaction ACt2rpp at 0x22244c6fe80>,\n",
       " <Reaction ACt4pp at 0x22244c58eb0>,\n",
       " <Reaction ACtex at 0x22244c6fbb0>,\n",
       " <Reaction ADA at 0x22244c6ff40>,\n",
       " <Reaction ADCL at 0x22244c6fb80>,\n",
       " <Reaction ADCS at 0x22244c6fb20>,\n",
       " <Reaction ADD at 0x22244c6fe50>,\n",
       " <Reaction ADEt2rpp at 0x22244c6ff10>,\n",
       " <Reaction ADEtex at 0x22244c58910>,\n",
       " <Reaction ADK1 at 0x22244c6fe20>,\n",
       " <Reaction ADK3 at 0x22244c86fa0>,\n",
       " <Reaction ADK4 at 0x22244c86dc0>,\n",
       " <Reaction ADMDC at 0x22244c86a60>,\n",
       " <Reaction ADNCYC at 0x22244c86eb0>,\n",
       " <Reaction ADNK1 at 0x22244c2f0d0>,\n",
       " <Reaction ADNUC at 0x22244c86730>,\n",
       " <Reaction ADNt2pp_copy1 at 0x22244c86ca0>,\n",
       " <Reaction ADNt2pp_copy2 at 0x22244c86c40>,\n",
       " <Reaction ADNtex at 0x22244c869d0>,\n",
       " <Reaction ADOCBIK at 0x22244c86fd0>,\n",
       " <Reaction ADOCBLS at 0x22244c86f70>,\n",
       " <Reaction ADOCBLabcpp at 0x22244c9aca0>,\n",
       " <Reaction ADOCBLtonex at 0x22244c6fc10>,\n",
       " <Reaction ADPRDP at 0x22244c9ae20>,\n",
       " <Reaction ADPT at 0x22244c9af70>,\n",
       " <Reaction ADSK at 0x22244c9ab50>,\n",
       " <Reaction ADSL1r at 0x22244c9ae80>,\n",
       " <Reaction ADSL2r at 0x22244c9a640>,\n",
       " <Reaction ADSS at 0x22244c9a9d0>,\n",
       " <Reaction AGDC at 0x22244c9ad90>,\n",
       " <Reaction AGM3PA at 0x22244c9ad60>,\n",
       " <Reaction AGM3PApp at 0x22244c9afd0>,\n",
       " <Reaction AGM3PH at 0x22244c9af10>,\n",
       " <Reaction AGM3Pt2pp at 0x22244caed00>,\n",
       " <Reaction AGM4PA at 0x22244caea30>,\n",
       " <Reaction AGM4PApp at 0x22244caefd0>,\n",
       " <Reaction AGM4PCP at 0x22244caed90>,\n",
       " <Reaction AGM4PCPpp at 0x22244caeb80>,\n",
       " <Reaction AGM4PH at 0x22244caeca0>,\n",
       " <Reaction AGM4Pt2pp at 0x22244caeee0>,\n",
       " <Reaction AGMH at 0x22244cae940>,\n",
       " <Reaction AGMHE at 0x22244caef10>,\n",
       " <Reaction AGMT at 0x22244bf0550>,\n",
       " <Reaction AGMt2pp at 0x22244c9afa0>,\n",
       " <Reaction AGMtex at 0x22244cc4c10>,\n",
       " <Reaction AGPAT120 at 0x22244caef40>,\n",
       " <Reaction AGPAT140 at 0x22244cc4e50>,\n",
       " <Reaction AGPAT141 at 0x22244cc4dc0>,\n",
       " <Reaction AGPAT160 at 0x22244cc4d90>,\n",
       " <Reaction AGPAT161 at 0x22244cc4fd0>,\n",
       " <Reaction AGPAT180 at 0x22244c9ac10>,\n",
       " <Reaction AGPAT181 at 0x22244cc4eb0>,\n",
       " <Reaction AGPR at 0x22244cc4cd0>,\n",
       " <Reaction AGt3 at 0x22244cc4f40>,\n",
       " <Reaction AHCYSNS at 0x22244c6f9a0>,\n",
       " <Reaction AICART at 0x22244cc4d00>,\n",
       " <Reaction AIRC2 at 0x22244cc49d0>,\n",
       " <Reaction AIRC3 at 0x22244cdba30>,\n",
       " <Reaction AKGDH at 0x22244cdb8e0>,\n",
       " <Reaction AKGt2rpp at 0x22244cdbd90>,\n",
       " <Reaction AKGtex at 0x22244cdbb20>,\n",
       " <Reaction ALAALAD at 0x22244cdbbb0>,\n",
       " <Reaction ALAALAabcpp at 0x22244cdbeb0>,\n",
       " <Reaction ALAALAr at 0x22244cdbf10>,\n",
       " <Reaction ALAALAtex at 0x22244cdbdc0>,\n",
       " <Reaction ALAGLUE at 0x22244cdbee0>,\n",
       " <Reaction ALAR at 0x22244cdbdf0>,\n",
       " <Reaction ALATA_D2 at 0x22244cdbac0>,\n",
       " <Reaction ALATA_L at 0x22244cf0af0>,\n",
       " <Reaction ALATA_L2 at 0x22244cf09a0>,\n",
       " <Reaction ALATRS at 0x22244cf0c40>,\n",
       " <Reaction ALAabcpp at 0x22244cf09d0>,\n",
       " <Reaction ALAt2pp_copy1 at 0x22244cc4f70>,\n",
       " <Reaction ALAt2pp_copy2 at 0x22244cc4ee0>,\n",
       " <Reaction ALAt4pp at 0x22244cc4730>,\n",
       " <Reaction ALAtex at 0x22244d045b0>,\n",
       " <Reaction ALCD19 at 0x22244cdbe50>,\n",
       " <Reaction ALCD2x at 0x22244d04fd0>,\n",
       " <Reaction ALDD19xr at 0x22244d049d0>,\n",
       " <Reaction ALDD2x at 0x22244d04e80>,\n",
       " <Reaction ALDD2y at 0x22244d04c70>,\n",
       " <Reaction ALDD3y at 0x22244cf0fa0>,\n",
       " <Reaction ALDD4 at 0x22244d04e50>,\n",
       " <Reaction ALLK at 0x22244d04eb0>,\n",
       " <Reaction ALLPI at 0x22244cf0bb0>,\n",
       " <Reaction ALLTAMH at 0x22244d04f70>,\n",
       " <Reaction ALLTN at 0x22244d04f40>,\n",
       " <Reaction ALLTNt2rpp at 0x22244d04dc0>,\n",
       " <Reaction ALLTNtex at 0x22244cc4910>,\n",
       " <Reaction ALLULPE at 0x22244d18e50>,\n",
       " <Reaction ALLabcpp at 0x22244d18ee0>,\n",
       " <Reaction ALLtex at 0x22244d04850>,\n",
       " <Reaction ALPATE160pp at 0x22244d18f10>,\n",
       " <Reaction ALPATG160pp at 0x22244d18c10>,\n",
       " <Reaction ALR2 at 0x22244d18fd0>,\n",
       " <Reaction ALR4x at 0x22244d04910>,\n",
       " <Reaction ALTRH at 0x22244d18ac0>,\n",
       " <Reaction AM3PA at 0x22244d18b80>,\n",
       " <Reaction AM4PA at 0x22244d18e20>,\n",
       " <Reaction AM4PCP at 0x22244d18bb0>,\n",
       " <Reaction AMALT1 at 0x22244d30b20>,\n",
       " <Reaction AMALT2 at 0x22244d30df0>,\n",
       " <Reaction AMALT3 at 0x22244d30d30>,\n",
       " <Reaction AMALT4 at 0x22244d30d60>,\n",
       " <Reaction AMANAPEr at 0x22244cf0e80>,\n",
       " <Reaction AMANK at 0x22244d30e20>,\n",
       " <Reaction AMAOTr at 0x22244d306d0>,\n",
       " <Reaction AMMQLT8 at 0x22244d30b50>,\n",
       " <Reaction AMPMS2 at 0x22244d18cd0>,\n",
       " <Reaction AMPN at 0x22244d30f70>,\n",
       " <Reaction AMPTASECG at 0x22244d18be0>,\n",
       " <Reaction AMPTASEPG at 0x22244d30ee0>,\n",
       " <Reaction AMPtex at 0x22244d30fd0>,\n",
       " <Reaction ANHGMtex at 0x22244d46d00>,\n",
       " <Reaction ANHMK at 0x22244d46df0>,\n",
       " <Reaction ANPRT at 0x22244d46400>,\n",
       " <Reaction ANS at 0x22244d46fa0>,\n",
       " <Reaction AOBUTDs at 0x22244d467f0>,\n",
       " <Reaction AOXSr2 at 0x22244d46b80>,\n",
       " <Reaction AP4AH at 0x22244d46ac0>,\n",
       " <Reaction AP4AS at 0x22244d46f40>,\n",
       " <Reaction AP5AH at 0x22244d46730>,\n",
       " <Reaction APCS at 0x22244d5cc70>,\n",
       " <Reaction APG3PAT120 at 0x22244d5cdc0>,\n",
       " <Reaction APG3PAT140 at 0x22244d5ca30>,\n",
       " <Reaction APG3PAT141 at 0x22244d5ce80>,\n",
       " <Reaction APG3PAT160 at 0x22244d46d90>,\n",
       " <Reaction APG3PAT161 at 0x22244d46fd0>,\n",
       " <Reaction APG3PAT180 at 0x22244d5cf10>,\n",
       " <Reaction APG3PAT181 at 0x22244d5cfa0>,\n",
       " <Reaction APH120 at 0x22244d46640>,\n",
       " <Reaction APH140 at 0x22244d46f10>,\n",
       " <Reaction APH141 at 0x22244d5cd60>,\n",
       " <Reaction APH160 at 0x22244d46f70>,\n",
       " <Reaction APH161 at 0x22244d738e0>,\n",
       " <Reaction APH180 at 0x22244d737c0>,\n",
       " <Reaction APH181 at 0x22244d73e50>,\n",
       " <Reaction APPLDHr at 0x22244d73b50>,\n",
       " <Reaction APRAUR at 0x22244d73f70>,\n",
       " <Reaction ARAI at 0x22244d73dc0>,\n",
       " <Reaction ARBTNR1 at 0x22244d73fa0>,\n",
       " <Reaction ARBTNR2 at 0x22244d73f40>,\n",
       " <Reaction ARBTNR3 at 0x22244d5cf70>,\n",
       " <Reaction ARBTNabcpp at 0x22244d18b50>,\n",
       " <Reaction ARBTNexs at 0x22244d73f10>,\n",
       " <Reaction ARBTNtex at 0x22244d73d00>,\n",
       " <Reaction ARBTNtonex at 0x22244d5cc40>,\n",
       " <Reaction ARBTNtpp at 0x22244d73c10>,\n",
       " <Reaction ARBTptspp at 0x22244d88a30>,\n",
       " <Reaction ARBTtex at 0x22244d88f10>,\n",
       " <Reaction ARBabcpp at 0x22244d88c70>,\n",
       " <Reaction ARBt2rpp at 0x22244d88c40>,\n",
       " <Reaction ARBt3ipp at 0x22244d88850>,\n",
       " <Reaction ARBtex at 0x22244d88fd0>,\n",
       " <Reaction ARGAGMt7pp at 0x22244d88e50>,\n",
       " <Reaction ARGDC at 0x22244d73fd0>,\n",
       " <Reaction ARGDCpp at 0x22244d88eb0>,\n",
       " <Reaction ARGORNt7pp at 0x22244d88dc0>,\n",
       " <Reaction ARGSL at 0x22244d88e20>,\n",
       " <Reaction ARGSS at 0x22244d9ef40>,\n",
       " <Reaction ARGTRS at 0x22244d9ebb0>,\n",
       " <Reaction ARGabcpp at 0x22244d9ec10>,\n",
       " <Reaction ARGt3pp at 0x22244d9eeb0>,\n",
       " <Reaction ARGtex at 0x22244d9edf0>,\n",
       " <Reaction ASAD at 0x22244d9e3d0>,\n",
       " <Reaction ASCBPL at 0x22244d9ef10>,\n",
       " <Reaction ASCBptspp at 0x22244d9eb80>,\n",
       " <Reaction ASCBtex at 0x22244d9e910>,\n",
       " <Reaction ASNN at 0x22244d9ec70>,\n",
       " <Reaction ASNNpp at 0x22244db58b0>,\n",
       " <Reaction ASNS1 at 0x22244db5820>,\n",
       " <Reaction ASNS2 at 0x22244db5f10>,\n",
       " <Reaction ASNTRS at 0x22244db5fa0>,\n",
       " <Reaction ASNabcpp at 0x22244db5310>,\n",
       " <Reaction ASNt2rpp at 0x22244db5f70>,\n",
       " <Reaction ASNtex at 0x22244db5e50>,\n",
       " <Reaction ASO3t8pp at 0x22244db5c40>,\n",
       " <Reaction ASO3tex at 0x22244dccf70>,\n",
       " <Reaction ASP1DC at 0x22244dccf40>,\n",
       " <Reaction ASPCT at 0x22244db5d60>,\n",
       " <Reaction ASPK at 0x22244dcc490>,\n",
       " <Reaction ASPO3 at 0x22244dccfa0>,\n",
       " <Reaction ASPO4 at 0x22244d88ca0>,\n",
       " <Reaction ASPO5 at 0x22244dccee0>,\n",
       " <Reaction ASPO6 at 0x22244dccf10>,\n",
       " <Reaction ASPT at 0x22244dccd00>,\n",
       " <Reaction ASPTA at 0x22244d9e310>,\n",
       " <Reaction ASPTRS at 0x22244de7cd0>,\n",
       " <Reaction ASPabcpp at 0x22244de7b20>,\n",
       " <Reaction ASPt2_2pp at 0x22244db5e80>,\n",
       " <Reaction ASPt2_3pp at 0x22244de7ee0>,\n",
       " <Reaction ASPt2pp_copy1 at 0x22244d9eee0>,\n",
       " <Reaction ASPt2pp_copy2 at 0x22244db5850>,\n",
       " <Reaction ASPtex at 0x22244de7b50>,\n",
       " <Reaction ASR at 0x22244de7df0>,\n",
       " <Reaction AST at 0x22244de7c40>,\n",
       " <Reaction ATHRDHr at 0x22244de7d60>,\n",
       " <Reaction ATPHs at 0x22244d88d00>,\n",
       " <Reaction ATPM at 0x22244dfef70>,\n",
       " <Reaction ATPPRT at 0x22244dcce50>,\n",
       " <Reaction ATPS4rpp at 0x22244de7f10>,\n",
       " <Reaction BALAt2pp at 0x22244dfefa0>,\n",
       " <Reaction BALAtex at 0x22244dfefd0>,\n",
       " <Reaction BETALDHx at 0x22244dcccd0>,\n",
       " <Reaction BETALDHy at 0x22244de7eb0>,\n",
       " <Reaction BMOCOS at 0x22244dfee20>,\n",
       " <Reaction BMOGDS1 at 0x22244dfedf0>,\n",
       " <Reaction BMOGDS2 at 0x22244dfee50>,\n",
       " <Reaction BPNT at 0x22244de7dc0>,\n",
       " <Reaction BSORx at 0x22244e12ee0>,\n",
       " <Reaction BSORy at 0x22244e12580>,\n",
       " <Reaction BTNt2ipp at 0x22244e12700>,\n",
       " <Reaction BTNtex at 0x22244e12760>,\n",
       " <Reaction BTS5 at 0x22244de7f40>,\n",
       " <Reaction BUTCT at 0x22244e12e50>,\n",
       " <Reaction BUTSO3abcpp at 0x22244dfea00>,\n",
       " <Reaction BUTSO3tex at 0x22244dfea30>,\n",
       " <Reaction BUTt2rpp at 0x22244e12df0>,\n",
       " <Reaction BUTtex at 0x22244e29cd0>,\n",
       " <Reaction BWCOGDS1 at 0x22244e29670>,\n",
       " <Reaction BWCOGDS2 at 0x22244e12f10>,\n",
       " <Reaction BWCOS at 0x22244e12730>,\n",
       " <Reaction CA2t3pp at 0x22244e29ca0>,\n",
       " <Reaction CA2tex at 0x22244e299a0>,\n",
       " <Reaction CADVtpp at 0x22244e29a90>,\n",
       " <Reaction CAT at 0x22244e29a00>,\n",
       " <Reaction CAt6pp at 0x22244e29ee0>,\n",
       " <Reaction CBIAT at 0x22244e29df0>,\n",
       " <Reaction CBItonex at 0x22244e29b50>,\n",
       " <Reaction CBIuabcpp at 0x22244e29dc0>,\n",
       " <Reaction CBL1abcpp at 0x22244e29e80>,\n",
       " <Reaction CBL1tonex at 0x22244e3ee50>,\n",
       " <Reaction CBLAT at 0x22244e3efd0>,\n",
       " <Reaction CBMD at 0x22244e3e730>,\n",
       " <Reaction CBMKr at 0x22244e3eee0>,\n",
       " <Reaction CBPS at 0x22244e3ef70>,\n",
       " <Reaction CCGS at 0x22244e126d0>,\n",
       " <Reaction CD2abcpp at 0x22244e50eb0>,\n",
       " <Reaction CD2t3pp at 0x22244e50bb0>,\n",
       " <Reaction CD2tex at 0x22244e3efa0>,\n",
       " <Reaction CD2tpp at 0x22244e29c10>,\n",
       " <Reaction CDAPPA120 at 0x22244e12bb0>,\n",
       " <Reaction CDAPPA140 at 0x22244e3ed30>,\n",
       " <Reaction CDAPPA141 at 0x22244e50ee0>,\n",
       " <Reaction CDAPPA160 at 0x22244e3e8e0>,\n",
       " <Reaction CDAPPA161 at 0x22244e509d0>,\n",
       " <Reaction CDAPPA180 at 0x22244e3ea30>,\n",
       " <Reaction CDAPPA181 at 0x22244e50e50>,\n",
       " <Reaction CDGR at 0x22244e50f40>,\n",
       " <Reaction CDGS at 0x22244e68970>,\n",
       " <Reaction CDPMEK at 0x22244e3edf0>,\n",
       " <Reaction CFAS160E at 0x22244e68b50>,\n",
       " <Reaction CFAS160G at 0x22244e68e80>,\n",
       " <Reaction CFAS180E at 0x22244e68d60>,\n",
       " <Reaction CFAS180G at 0x22244e68ee0>,\n",
       " <Reaction CGLYabcpp at 0x22244e68c40>,\n",
       " <Reaction CGLYtex at 0x22244e68850>,\n",
       " <Reaction CHLabcpp at 0x22244e508b0>,\n",
       " <Reaction CHLt2pp at 0x22244e68d90>,\n",
       " <Reaction CHLtex at 0x22244e68fd0>,\n",
       " <Reaction CHOLD at 0x22244e7eeb0>,\n",
       " <Reaction CHORM at 0x22244e7edc0>,\n",
       " <Reaction CHORS at 0x22244e7e7f0>,\n",
       " <Reaction CHRPL at 0x22244e7e940>,\n",
       " <Reaction CHTBSptspp at 0x22244e7eb50>,\n",
       " <Reaction CHTBStex at 0x22244e7efd0>,\n",
       " <Reaction CINNDO at 0x22244e7e6a0>,\n",
       " <Reaction CITL at 0x22244e7ec10>,\n",
       " <Reaction CITt3pp at 0x22244e7e880>,\n",
       " <Reaction CITt7pp at 0x22244e7e9a0>,\n",
       " <Reaction CITtex at 0x22244e29820>,\n",
       " <Reaction CLIPAabctex at 0x22244e7eb80>,\n",
       " <Reaction CLPNH120pp at 0x22244e96f10>,\n",
       " <Reaction CLPNH140pp at 0x22244e68d30>,\n",
       " <Reaction CLPNH141pp at 0x22244e968e0>,\n",
       " <Reaction CLPNH160pp at 0x22244e7ed60>,\n",
       " <Reaction CLPNH161pp at 0x22244e96c70>,\n",
       " <Reaction CLPNH180pp at 0x22244e96ee0>,\n",
       " <Reaction CLPNH181pp at 0x22244e7e280>,\n",
       " <Reaction CLPNS120pp at 0x22244e96e80>,\n",
       " <Reaction CLPNS140pp at 0x22244e12280>,\n",
       " <Reaction CLPNS141pp at 0x22244e96820>,\n",
       " <Reaction CLPNS160pp at 0x22244e96be0>,\n",
       " <Reaction CLPNS161pp at 0x22244e96e20>,\n",
       " <Reaction CLPNS180pp at 0x22244ea8e80>,\n",
       " <Reaction CLPNS181pp at 0x22244ea8e50>,\n",
       " <Reaction CLt3_2pp at 0x22244ea8f40>,\n",
       " <Reaction CLtex at 0x22244ea8a60>,\n",
       " <Reaction CMPN at 0x22244ea8cd0>,\n",
       " <Reaction CMPtex at 0x22244ea8d60>,\n",
       " <Reaction CMtex at 0x22244ea89a0>,\n",
       " <Reaction CMtpp at 0x22244ea8d90>,\n",
       " <Reaction CO2tex at 0x22244ea8d00>,\n",
       " <Reaction CO2tpp at 0x22244ea8f10>,\n",
       " <Reaction COBALT2abcpp at 0x22244ea8eb0>,\n",
       " <Reaction COBALT2t3pp at 0x22244ebeeb0>,\n",
       " <Reaction COBALT2tex at 0x22244ebe7f0>,\n",
       " <Reaction COBALT2tpp at 0x22244ebea60>,\n",
       " <Reaction COLIPAKpp at 0x22244ebef70>,\n",
       " <Reaction COLIPAPabctex at 0x22244ebee50>,\n",
       " <Reaction COLIPAabcpp at 0x22244ebe910>,\n",
       " <Reaction COLIPAabctex at 0x22244ebef10>,\n",
       " <Reaction CPGNR1 at 0x22244ed07f0>,\n",
       " <Reaction CPGNR2 at 0x22244ebe7c0>,\n",
       " <Reaction CPGNR3 at 0x22244ebe880>,\n",
       " <Reaction CPGNUtex at 0x22244ea8fa0>,\n",
       " <Reaction CPGNUtpp at 0x22244ebefd0>,\n",
       " <Reaction CPGNabcpp at 0x22244ed0df0>,\n",
       " <Reaction CPGNexs at 0x22244ed0e20>,\n",
       " <Reaction CPGNtonex at 0x22244ebe490>,\n",
       " <Reaction CPH4S at 0x22244ed0dc0>,\n",
       " <Reaction CPMPS at 0x22244ed0d60>,\n",
       " <Reaction CPPPGO at 0x22244ed0bb0>,\n",
       " <Reaction CPPPGO2 at 0x22244ed0be0>,\n",
       " <Reaction CRNBTCT at 0x22244ebe8b0>,\n",
       " <Reaction CRNCAL2 at 0x22244ee7be0>,\n",
       " <Reaction CRNCAR at 0x22244ee7d30>,\n",
       " <Reaction CRNCBCT at 0x22244ee7640>,\n",
       " <Reaction CRNCDH at 0x22244ee7610>,\n",
       " <Reaction CRNDCAL2 at 0x22244ed08b0>,\n",
       " <Reaction CRNDabcpp at 0x22244ed0d30>,\n",
       " <Reaction CRNDt2rpp at 0x22244ee7eb0>,\n",
       " <Reaction CRNDtex at 0x22244ee7f40>,\n",
       " <Reaction CRNabcpp at 0x22244ed0a00>,\n",
       " <Reaction CRNt2rpp at 0x22244ee7ee0>,\n",
       " <Reaction CRNt7pp at 0x22244ee7fa0>,\n",
       " <Reaction CRNt8pp at 0x22244efea60>,\n",
       " <Reaction CRNtex at 0x22244efe5e0>,\n",
       " <Reaction CS at 0x22244efef10>,\n",
       " <Reaction CSND at 0x22244efef40>,\n",
       " <Reaction CSNt2pp at 0x22244efebb0>,\n",
       " <Reaction CSNtex at 0x22244efefa0>,\n",
       " <Reaction CTBTCAL2 at 0x22244efe760>,\n",
       " <Reaction CTBTabcpp at 0x22244efeac0>,\n",
       " <Reaction CTBTt2rpp at 0x22244efeb80>,\n",
       " <Reaction CTECOAI6 at 0x22244efee50>,\n",
       " <Reaction CTECOAI7 at 0x22244efeb20>,\n",
       " <Reaction CTECOAI8 at 0x22244f13dc0>,\n",
       " <Reaction CTPS2 at 0x22244f13e80>,\n",
       " <Reaction CU1Opp at 0x22244f13ee0>,\n",
       " <Reaction CU1abcpp at 0x22244f13fd0>,\n",
       " <Reaction CU2abcpp at 0x22244ea8be0>,\n",
       " <Reaction CU2tex at 0x22244f13f40>,\n",
       " <Reaction CU2tpp at 0x22244f13970>,\n",
       " <Reaction CUt3 at 0x22244f13730>,\n",
       " <Reaction CUtex at 0x22244efe8b0>,\n",
       " <Reaction CYANST at 0x22244f13fa0>,\n",
       " <Reaction CYANSTpp at 0x22244f29af0>,\n",
       " <Reaction CYANtex at 0x22244f29d60>,\n",
       " <Reaction CYNTAH at 0x22244f29a90>,\n",
       " <Reaction CYNTt2pp at 0x22244f29f10>,\n",
       " <Reaction CYNTtex at 0x22244f29ee0>,\n",
       " <Reaction CYSDDS at 0x22244ee7f70>,\n",
       " <Reaction CYSDS at 0x22244f29730>,\n",
       " <Reaction CYSDabcpp at 0x22244f29dc0>,\n",
       " <Reaction CYSDtex at 0x22244f29fa0>,\n",
       " <Reaction CYSS at 0x22244f29f40>,\n",
       " <Reaction CYSSADS at 0x22244f29d90>,\n",
       " <Reaction CYSTL at 0x22244f3ed30>,\n",
       " <Reaction CYSTRS at 0x22244ee78b0>,\n",
       " <Reaction CYSabc2pp at 0x22244f13df0>,\n",
       " <Reaction CYSabcpp at 0x22244f3ef40>,\n",
       " <Reaction CYStex at 0x22244ee7400>,\n",
       " <Reaction CYStpp at 0x22244f3ea30>,\n",
       " <Reaction CYTBD2pp at 0x22244f3e070>,\n",
       " <Reaction CYTBDpp at 0x22244f3edc0>,\n",
       " <Reaction CYTBO3_4pp at 0x22244f3e550>,\n",
       " <Reaction CYTD at 0x22244f3ec40>,\n",
       " <Reaction CYTDH at 0x22244f3ebe0>,\n",
       " <Reaction CYTDK2 at 0x22244f55b50>,\n",
       " <Reaction CYTDt2pp_copy1 at 0x22244f55ca0>,\n",
       " <Reaction CYTDt2pp_copy2 at 0x22244f55cd0>,\n",
       " <Reaction CYTDtex at 0x22244f55d00>,\n",
       " <Reaction CYTK1 at 0x22244f55c40>,\n",
       " <Reaction CYTK2 at 0x22244f3ed90>,\n",
       " <Reaction D_LACt2pp at 0x22244f55fd0>,\n",
       " <Reaction D_LACtex at 0x22244f55bb0>,\n",
       " <Reaction DAAD at 0x22244f55f10>,\n",
       " <Reaction DADA at 0x22244f6bf70>,\n",
       " <Reaction DADK at 0x22244f6bc70>,\n",
       " <Reaction DADNt2pp at 0x22244f6bee0>,\n",
       " <Reaction DADNtex at 0x22244f6bd00>,\n",
       " <Reaction DAGK120 at 0x22244f6ba00>,\n",
       " <Reaction DAGK140 at 0x22244f6be50>,\n",
       " <Reaction DAGK141 at 0x22244f6bfa0>,\n",
       " <Reaction DAGK160 at 0x22244f6bf10>,\n",
       " <Reaction DAGK161 at 0x22244f3efd0>,\n",
       " <Reaction DAGK180 at 0x22244f6bbb0>,\n",
       " <Reaction DAGK181 at 0x22244f6bdf0>,\n",
       " <Reaction DALAt2pp at 0x22244f55e20>,\n",
       " <Reaction DALAtex at 0x22244f7faf0>,\n",
       " <Reaction DAMPtex at 0x22244f7fc70>,\n",
       " <Reaction DAPAL at 0x22244f7fdc0>,\n",
       " <Reaction DAPDC at 0x22244f7ff70>,\n",
       " <Reaction DAPE at 0x22244f7fd30>,\n",
       " <Reaction DAPabcpp at 0x22244f7fe80>,\n",
       " <Reaction DAPtex at 0x22244f7fe50>,\n",
       " <Reaction DASYN120 at 0x22244f7fbe0>,\n",
       " <Reaction DASYN140 at 0x22244f7ff10>,\n",
       " <Reaction DASYN141 at 0x22244f7ffd0>,\n",
       " <Reaction DASYN160 at 0x22244f55820>,\n",
       " <Reaction DASYN161 at 0x22244f7fa90>,\n",
       " <Reaction DASYN180 at 0x22244f95b50>,\n",
       " <Reaction DASYN181 at 0x22244f95760>,\n",
       " <Reaction DATPHs at 0x22244f3e730>,\n",
       " <Reaction DB4PS at 0x22244f7fb80>,\n",
       " <Reaction DBTS at 0x22244f959d0>,\n",
       " <Reaction DC6PH at 0x22244f95970>,\n",
       " <Reaction DCAtex at 0x22244f95a00>,\n",
       " <Reaction DCMPtex at 0x22244f7fee0>,\n",
       " <Reaction DCTPD at 0x22244f95fa0>,\n",
       " <Reaction DCYTD at 0x22244f95d30>,\n",
       " <Reaction DCYTt2pp at 0x22244f95fd0>,\n",
       " <Reaction DCYTtex at 0x22244f95430>,\n",
       " <Reaction DDCAtexi at 0x22244fabf40>,\n",
       " <Reaction DDGALK at 0x22244fabfa0>,\n",
       " <Reaction DDGLCNt2rpp at 0x22244fabf10>,\n",
       " <Reaction DDGLCNtex at 0x22244fabc10>,\n",
       " <Reaction DDGLK at 0x22244fab970>,\n",
       " <Reaction DDPA at 0x22244fabe20>,\n",
       " <Reaction DDPGALA at 0x22244faba30>,\n",
       " <Reaction DGK1 at 0x22244fab910>,\n",
       " <Reaction DGMPtex at 0x22244fabbe0>,\n",
       " <Reaction DGSNt2pp at 0x22244fab9d0>,\n",
       " <Reaction DGSNtex at 0x22244f139a0>,\n",
       " <Reaction DHACOAH at 0x22244fabf70>,\n",
       " <Reaction DHAD1 at 0x22244fc1dc0>,\n",
       " <Reaction DHAD2 at 0x22244fc1d90>,\n",
       " <Reaction DHAPT at 0x22244fc1b80>,\n",
       " <Reaction DHAtex at 0x22244fd6430>,\n",
       " <Reaction DHAtpp at 0x22244fabb80>,\n",
       " <Reaction DHBD at 0x22244fd6970>,\n",
       " <Reaction DHBS at 0x22244fd66a0>,\n",
       " <Reaction DHBSH at 0x22244fd61c0>,\n",
       " <Reaction DHCIND at 0x22244fd6b20>,\n",
       " <Reaction DHCINDO at 0x22244f95610>,\n",
       " <Reaction DHDPRy at 0x22244fd6670>,\n",
       " <Reaction DHDPS at 0x22244fd6ee0>,\n",
       " <Reaction DHFR at 0x22244fd6f10>,\n",
       " <Reaction DHFS at 0x22244fc1d60>,\n",
       " <Reaction DHMPTR at 0x22244fd65b0>,\n",
       " <Reaction DHNAOT4 at 0x22244fd6a60>,\n",
       " <Reaction DHNCOAS at 0x22244fd6bb0>,\n",
       " <Reaction DHNCOAT at 0x22244fd6a90>,\n",
       " <Reaction DHNPA2r at 0x22244fd6a30>,\n",
       " <Reaction DHNPTE at 0x22244fd68b0>,\n",
       " <Reaction DHORD2 at 0x22244fd6e50>,\n",
       " <Reaction DHORD5 at 0x22244fd6d30>,\n",
       " <Reaction DHORDfum at 0x22244fd6fa0>,\n",
       " <Reaction DHORTS at 0x22244fc1fa0>,\n",
       " <Reaction DHPPD at 0x22244fecd60>,\n",
       " ...]"
      ]
     },
     "execution_count": 56,
     "metadata": {},
     "output_type": "execute_result"
    }
   ],
   "source": [
    "model.reactions"
   ]
  },
  {
   "cell_type": "code",
   "execution_count": 59,
   "id": "8b0a999f",
   "metadata": {},
   "outputs": [
    {
     "name": "stdout",
     "output_type": "stream",
     "text": [
      "1.0*BIOMASS_Ec_iJO1366_core_53p95M - 1.0*BIOMASS_Ec_iJO1366_core_53p95M_reverse_5c8b1\n",
      "max\n"
     ]
    }
   ],
   "source": [
    "model.reactions.EX_glc__D_e.lower_bound = 0\n",
    "model.reactions.EX_succ_e.lower_bound = -20    #changing succinate uptake rate\n",
    "model.reactions.EX_o2_e.lower_bound = -1000\n",
    "print(model.objective.expression)\n",
    "print(model.objective.direction)"
   ]
  },
  {
   "cell_type": "code",
   "execution_count": 60,
   "id": "0599e59c",
   "metadata": {},
   "outputs": [
    {
     "data": {
      "text/html": [
       "<strong><em>Optimal</em> solution with objective value 0.999</strong><br><div>\n",
       "<style scoped>\n",
       "    .dataframe tbody tr th:only-of-type {\n",
       "        vertical-align: middle;\n",
       "    }\n",
       "\n",
       "    .dataframe tbody tr th {\n",
       "        vertical-align: top;\n",
       "    }\n",
       "\n",
       "    .dataframe thead th {\n",
       "        text-align: right;\n",
       "    }\n",
       "</style>\n",
       "<table border=\"1\" class=\"dataframe\">\n",
       "  <thead>\n",
       "    <tr style=\"text-align: right;\">\n",
       "      <th></th>\n",
       "      <th>fluxes</th>\n",
       "      <th>reduced_costs</th>\n",
       "    </tr>\n",
       "  </thead>\n",
       "  <tbody>\n",
       "    <tr>\n",
       "      <th>DM_4crsol_c</th>\n",
       "      <td>0.000223</td>\n",
       "      <td>0.000000e+00</td>\n",
       "    </tr>\n",
       "    <tr>\n",
       "      <th>DM_5drib_c</th>\n",
       "      <td>0.000225</td>\n",
       "      <td>0.000000e+00</td>\n",
       "    </tr>\n",
       "    <tr>\n",
       "      <th>DM_aacald_c</th>\n",
       "      <td>0.000000</td>\n",
       "      <td>0.000000e+00</td>\n",
       "    </tr>\n",
       "    <tr>\n",
       "      <th>DM_amob_c</th>\n",
       "      <td>0.000002</td>\n",
       "      <td>0.000000e+00</td>\n",
       "    </tr>\n",
       "    <tr>\n",
       "      <th>DM_mththf_c</th>\n",
       "      <td>0.000447</td>\n",
       "      <td>0.000000e+00</td>\n",
       "    </tr>\n",
       "    <tr>\n",
       "      <th>...</th>\n",
       "      <td>...</td>\n",
       "      <td>...</td>\n",
       "    </tr>\n",
       "    <tr>\n",
       "      <th>ZN2abcpp</th>\n",
       "      <td>0.000000</td>\n",
       "      <td>-8.613629e-03</td>\n",
       "    </tr>\n",
       "    <tr>\n",
       "      <th>ZN2t3pp</th>\n",
       "      <td>0.000000</td>\n",
       "      <td>-2.153407e-03</td>\n",
       "    </tr>\n",
       "    <tr>\n",
       "      <th>ZN2tpp</th>\n",
       "      <td>0.000341</td>\n",
       "      <td>8.998201e-13</td>\n",
       "    </tr>\n",
       "    <tr>\n",
       "      <th>ZNabcpp</th>\n",
       "      <td>0.000000</td>\n",
       "      <td>-8.613629e-03</td>\n",
       "    </tr>\n",
       "    <tr>\n",
       "      <th>Zn2tex</th>\n",
       "      <td>0.000341</td>\n",
       "      <td>0.000000e+00</td>\n",
       "    </tr>\n",
       "  </tbody>\n",
       "</table>\n",
       "<p>2583 rows × 2 columns</p>\n",
       "</div>"
      ],
      "text/plain": [
       "<Solution 0.999 at 0x22246b2d880>"
      ]
     },
     "execution_count": 60,
     "metadata": {},
     "output_type": "execute_result"
    }
   ],
   "source": [
    "model.optimize()"
   ]
  },
  {
   "cell_type": "code",
   "execution_count": 61,
   "id": "f9ec9242",
   "metadata": {},
   "outputs": [
    {
     "data": {
      "text/html": [
       "<strong><em>infeasible</em> solution</strong>"
      ],
      "text/plain": [
       "<Solution infeasible at 0x22246b349a0>"
      ]
     },
     "execution_count": 61,
     "metadata": {},
     "output_type": "execute_result"
    }
   ],
   "source": [
    "model.reactions.EX_o2_e.lower_bound = 0 #anaerobic condition\n",
    "model.optimize()"
   ]
  },
  {
   "cell_type": "markdown",
   "id": "6909c794",
   "metadata": {},
   "source": [
    "# Production of cofactors and biomass precursors"
   ]
  },
  {
   "cell_type": "code",
   "execution_count": 65,
   "id": "7eabc356",
   "metadata": {},
   "outputs": [
    {
     "data": {
      "text/html": [
       "<strong><em>Optimal</em> solution with objective value 23.500</strong><br><div>\n",
       "<style scoped>\n",
       "    .dataframe tbody tr th:only-of-type {\n",
       "        vertical-align: middle;\n",
       "    }\n",
       "\n",
       "    .dataframe tbody tr th {\n",
       "        vertical-align: top;\n",
       "    }\n",
       "\n",
       "    .dataframe thead th {\n",
       "        text-align: right;\n",
       "    }\n",
       "</style>\n",
       "<table border=\"1\" class=\"dataframe\">\n",
       "  <thead>\n",
       "    <tr style=\"text-align: right;\">\n",
       "      <th></th>\n",
       "      <th>fluxes</th>\n",
       "      <th>reduced_costs</th>\n",
       "    </tr>\n",
       "  </thead>\n",
       "  <tbody>\n",
       "    <tr>\n",
       "      <th>DM_4crsol_c</th>\n",
       "      <td>0.0</td>\n",
       "      <td>0.0</td>\n",
       "    </tr>\n",
       "    <tr>\n",
       "      <th>DM_5drib_c</th>\n",
       "      <td>0.0</td>\n",
       "      <td>0.0</td>\n",
       "    </tr>\n",
       "    <tr>\n",
       "      <th>DM_aacald_c</th>\n",
       "      <td>0.0</td>\n",
       "      <td>0.0</td>\n",
       "    </tr>\n",
       "    <tr>\n",
       "      <th>DM_amob_c</th>\n",
       "      <td>0.0</td>\n",
       "      <td>0.0</td>\n",
       "    </tr>\n",
       "    <tr>\n",
       "      <th>DM_mththf_c</th>\n",
       "      <td>0.0</td>\n",
       "      <td>0.0</td>\n",
       "    </tr>\n",
       "    <tr>\n",
       "      <th>...</th>\n",
       "      <td>...</td>\n",
       "      <td>...</td>\n",
       "    </tr>\n",
       "    <tr>\n",
       "      <th>ZN2abcpp</th>\n",
       "      <td>0.0</td>\n",
       "      <td>-2.0</td>\n",
       "    </tr>\n",
       "    <tr>\n",
       "      <th>ZN2t3pp</th>\n",
       "      <td>0.0</td>\n",
       "      <td>-0.5</td>\n",
       "    </tr>\n",
       "    <tr>\n",
       "      <th>ZN2tpp</th>\n",
       "      <td>0.0</td>\n",
       "      <td>0.0</td>\n",
       "    </tr>\n",
       "    <tr>\n",
       "      <th>ZNabcpp</th>\n",
       "      <td>0.0</td>\n",
       "      <td>-2.0</td>\n",
       "    </tr>\n",
       "    <tr>\n",
       "      <th>Zn2tex</th>\n",
       "      <td>0.0</td>\n",
       "      <td>0.0</td>\n",
       "    </tr>\n",
       "  </tbody>\n",
       "</table>\n",
       "<p>2583 rows × 2 columns</p>\n",
       "</div>"
      ],
      "text/plain": [
       "<Solution 23.500 at 0x22246becd60>"
      ]
     },
     "execution_count": 65,
     "metadata": {},
     "output_type": "execute_result"
    }
   ],
   "source": [
    "model.reactions.EX_glc__D_e.bounds = -1,-1\n",
    "model.reactions.EX_o2_e.lower_bound = -1000\n",
    "model.reactions.EX_succ_e.lower_bound = 0\n",
    "model.objective = \"ATPM\"\n",
    "model.reactions.ATPM.lower_bound = 0\n",
    "model.optimize()"
   ]
  },
  {
   "cell_type": "markdown",
   "id": "3445ebc9",
   "metadata": {},
   "source": [
    "# Alternate Optimal Solutions"
   ]
  },
  {
   "cell_type": "code",
   "execution_count": 79,
   "id": "72ba9604",
   "metadata": {},
   "outputs": [],
   "source": [
    "from cobra.test import create_test_model\n",
    "new_model=create_test_model(\"ecoli\")\n",
    "new_model.reactions.EX_glc__D_e.lower_bound = 0\n",
    "new_model.reactions.EX_succ_e.lower_bound = -20\n",
    "sol = new_model.optimize().objective_value\n",
    "new_model.reactions.BIOMASS_Ec_iJO1366_core_53p95M.bounds = sol,sol\n"
   ]
  },
  {
   "cell_type": "code",
   "execution_count": 80,
   "id": "44a90679",
   "metadata": {},
   "outputs": [],
   "source": [
    "new_model.objective = \"ME1\"\n",
    "solmin = new_model.optimize(objective_sense = \"minimize\").objective_value\n",
    "solmax = new_model.optimize().objective_value"
   ]
  },
  {
   "cell_type": "code",
   "execution_count": 81,
   "id": "7f703cc2",
   "metadata": {},
   "outputs": [
    {
     "name": "stdout",
     "output_type": "stream",
     "text": [
      "0.0\n",
      "4.853892438889972\n"
     ]
    }
   ],
   "source": [
    "print(solmin)\n",
    "print(solmax)"
   ]
  },
  {
   "cell_type": "code",
   "execution_count": 77,
   "id": "c2ce413d",
   "metadata": {},
   "outputs": [
    {
     "data": {
      "text/html": [
       "<div>\n",
       "<style scoped>\n",
       "    .dataframe tbody tr th:only-of-type {\n",
       "        vertical-align: middle;\n",
       "    }\n",
       "\n",
       "    .dataframe tbody tr th {\n",
       "        vertical-align: top;\n",
       "    }\n",
       "\n",
       "    .dataframe thead th {\n",
       "        text-align: right;\n",
       "    }\n",
       "</style>\n",
       "<table border=\"1\" class=\"dataframe\">\n",
       "  <thead>\n",
       "    <tr style=\"text-align: right;\">\n",
       "      <th></th>\n",
       "      <th>minimum</th>\n",
       "      <th>maximum</th>\n",
       "    </tr>\n",
       "  </thead>\n",
       "  <tbody>\n",
       "    <tr>\n",
       "      <th>ME1</th>\n",
       "      <td>0.0</td>\n",
       "      <td>4.853892</td>\n",
       "    </tr>\n",
       "  </tbody>\n",
       "</table>\n",
       "</div>"
      ],
      "text/plain": [
       "     minimum   maximum\n",
       "ME1      0.0  4.853892"
      ]
     },
     "execution_count": 77,
     "metadata": {},
     "output_type": "execute_result"
    }
   ],
   "source": [
    "##using inbuilt fva\n",
    "from cobra.test import create_test_model\n",
    "new_model=create_test_model(\"ecoli\")\n",
    "new_model.reactions.EX_glc__D_e.lower_bound = 0\n",
    "new_model.reactions.EX_succ_e.lower_bound = -20\n",
    "from cobra.flux_analysis import flux_variability_analysis\n",
    "flux_variability_analysis(new_model, new_model.reactions.get_by_id(\"ME1\"))"
   ]
  },
  {
   "cell_type": "code",
   "execution_count": 78,
   "id": "c9d1c4d8",
   "metadata": {},
   "outputs": [
    {
     "data": {
      "text/html": [
       "<div>\n",
       "<style scoped>\n",
       "    .dataframe tbody tr th:only-of-type {\n",
       "        vertical-align: middle;\n",
       "    }\n",
       "\n",
       "    .dataframe tbody tr th {\n",
       "        vertical-align: top;\n",
       "    }\n",
       "\n",
       "    .dataframe thead th {\n",
       "        text-align: right;\n",
       "    }\n",
       "</style>\n",
       "<table border=\"1\" class=\"dataframe\">\n",
       "  <thead>\n",
       "    <tr style=\"text-align: right;\">\n",
       "      <th></th>\n",
       "      <th>minimum</th>\n",
       "      <th>maximum</th>\n",
       "    </tr>\n",
       "  </thead>\n",
       "  <tbody>\n",
       "    <tr>\n",
       "      <th>DM_4crsol_c</th>\n",
       "      <td>0.000223</td>\n",
       "      <td>2.226733e-04</td>\n",
       "    </tr>\n",
       "    <tr>\n",
       "      <th>DM_5drib_c</th>\n",
       "      <td>0.000225</td>\n",
       "      <td>2.246704e-04</td>\n",
       "    </tr>\n",
       "    <tr>\n",
       "      <th>DM_aacald_c</th>\n",
       "      <td>0.000000</td>\n",
       "      <td>0.000000e+00</td>\n",
       "    </tr>\n",
       "    <tr>\n",
       "      <th>DM_amob_c</th>\n",
       "      <td>0.000002</td>\n",
       "      <td>1.997070e-06</td>\n",
       "    </tr>\n",
       "    <tr>\n",
       "      <th>DM_mththf_c</th>\n",
       "      <td>0.000447</td>\n",
       "      <td>4.473436e-04</td>\n",
       "    </tr>\n",
       "    <tr>\n",
       "      <th>...</th>\n",
       "      <td>...</td>\n",
       "      <td>...</td>\n",
       "    </tr>\n",
       "    <tr>\n",
       "      <th>ZN2abcpp</th>\n",
       "      <td>0.000000</td>\n",
       "      <td>2.596794e-11</td>\n",
       "    </tr>\n",
       "    <tr>\n",
       "      <th>ZN2t3pp</th>\n",
       "      <td>0.000000</td>\n",
       "      <td>1.038718e-10</td>\n",
       "    </tr>\n",
       "    <tr>\n",
       "      <th>ZN2tpp</th>\n",
       "      <td>0.000341</td>\n",
       "      <td>3.405005e-04</td>\n",
       "    </tr>\n",
       "    <tr>\n",
       "      <th>ZNabcpp</th>\n",
       "      <td>0.000000</td>\n",
       "      <td>2.596794e-11</td>\n",
       "    </tr>\n",
       "    <tr>\n",
       "      <th>Zn2tex</th>\n",
       "      <td>0.000341</td>\n",
       "      <td>3.405004e-04</td>\n",
       "    </tr>\n",
       "  </tbody>\n",
       "</table>\n",
       "<p>2583 rows × 2 columns</p>\n",
       "</div>"
      ],
      "text/plain": [
       "              minimum       maximum\n",
       "DM_4crsol_c  0.000223  2.226733e-04\n",
       "DM_5drib_c   0.000225  2.246704e-04\n",
       "DM_aacald_c  0.000000  0.000000e+00\n",
       "DM_amob_c    0.000002  1.997070e-06\n",
       "DM_mththf_c  0.000447  4.473436e-04\n",
       "...               ...           ...\n",
       "ZN2abcpp     0.000000  2.596794e-11\n",
       "ZN2t3pp      0.000000  1.038718e-10\n",
       "ZN2tpp       0.000341  3.405005e-04\n",
       "ZNabcpp      0.000000  2.596794e-11\n",
       "Zn2tex       0.000341  3.405004e-04\n",
       "\n",
       "[2583 rows x 2 columns]"
      ]
     },
     "execution_count": 78,
     "metadata": {},
     "output_type": "execute_result"
    }
   ],
   "source": [
    "##using inbuilt fva\n",
    "from cobra.test import create_test_model\n",
    "new_model=create_test_model(\"ecoli\")\n",
    "new_model.reactions.EX_glc__D_e.lower_bound = 0\n",
    "new_model.reactions.EX_succ_e.lower_bound = -20\n",
    "from cobra.flux_analysis import flux_variability_analysis\n",
    "flux_variability_analysis(new_model, new_model.reactions)"
   ]
  },
  {
   "cell_type": "markdown",
   "id": "0196deb7",
   "metadata": {},
   "source": [
    "# Robustness Analysis"
   ]
  },
  {
   "cell_type": "code",
   "execution_count": 91,
   "id": "9e84ea36",
   "metadata": {},
   "outputs": [
    {
     "name": "stderr",
     "output_type": "stream",
     "text": [
      "C:\\Users\\koush\\anaconda3\\envs\\FBA\\lib\\site-packages\\cobra\\util\\solver.py:508: UserWarning: Solver status is 'infeasible'.\n",
      "  warn(f\"Solver status is '{status}'.\", UserWarning)\n"
     ]
    }
   ],
   "source": [
    "from cobra.test import create_test_model\n",
    "new_model=create_test_model(\"ecoli\")\n",
    "new_model.reactions.EX_o2_e.lower_bound = -17\n",
    "growthRates = []\n",
    "for i in range(0,20):\n",
    "    new_model.reactions.EX_glc__D_e.bounds = -i,-i\n",
    "    growthRates.append(new_model.optimize().objective_value)"
   ]
  },
  {
   "cell_type": "code",
   "execution_count": 92,
   "id": "fe262585",
   "metadata": {},
   "outputs": [
    {
     "name": "stdout",
     "output_type": "stream",
     "text": [
      "[0.0, 0.08647858262764409, 0.1860222748609032, 0.2855659670941628, 0.3851096593274222, 0.48465335156068196, 0.5841970437939411, 0.6837407360272, 0.78328442826046, 0.8828281204937167, 0.9637306400155236, 1.0083937489760801, 1.0530568579366364, 1.0977199668971913, 1.1362232745195753, 1.1681247235000038, 1.2000261724804304, 1.2319276214608426, 1.2638290704412893, 1.2957305194217068]\n"
     ]
    }
   ],
   "source": [
    "print(growthRates)"
   ]
  },
  {
   "cell_type": "code",
   "execution_count": 96,
   "id": "0e3faeba",
   "metadata": {},
   "outputs": [
    {
     "data": {
      "image/png": "[encoded data removed]",
      "text/plain": [
       "<Figure size 432x288 with 1 Axes>"
      ]
     },
     "metadata": {
      "needs_background": "light"
     },
     "output_type": "display_data"
    }
   ],
   "source": [
    "import matplotlib.pyplot as plt\n",
    "plt.plot([0,1,2,3,4,5,6,7,8,9,10,11,12,13,14,15,16,17,18,19],growthRates)\n",
    "plt.xlabel(\"glucose uptake rate\")\n",
    "plt.ylabel(\"growth rate\")\n",
    "plt.show()"
   ]
  },
  {
   "cell_type": "code",
   "execution_count": 98,
   "id": "9547478b",
   "metadata": {},
   "outputs": [
    {
     "data": {
      "image/png": "[encoded data removed]",
      "text/plain": [
       "<Figure size 432x288 with 1 Axes>"
      ]
     },
     "metadata": {
      "needs_background": "light"
     },
     "output_type": "display_data"
    }
   ],
   "source": [
    "from cobra.test import create_test_model\n",
    "new_model=create_test_model(\"ecoli\")\n",
    "new_model.reactions.EX_glc__D_e.lower_bound = -10\n",
    "growthRates = []\n",
    "for i in range(0,25):\n",
    "    new_model.reactions.EX_o2_e.bounds = -i,-i\n",
    "    growthRates.append(new_model.optimize().objective_value)\n",
    "import matplotlib.pyplot as plt\n",
    "plt.plot([0,1,2,3,4,5,6,7,8,9,10,11,12,13,14,15,16,17,18,19,20,21,22,23,24],growthRates)\n",
    "plt.xlabel(\"oxygen uptake rate\")\n",
    "plt.ylabel(\"growth rate\")\n",
    "plt.show()"
   ]
  },
  {
   "cell_type": "markdown",
   "id": "5941ecce",
   "metadata": {},
   "source": [
    "# Phenotypic Phase Planes"
   ]
  },
  {
   "cell_type": "code",
   "execution_count": 101,
   "id": "56d85db7",
   "metadata": {},
   "outputs": [],
   "source": [
    "from cobra.test import create_test_model\n",
    "new_model=create_test_model(\"ecoli\")\n",
    "w, h = 20, 20;\n",
    "growthRates = [[0 for x in range(w)] for y in range(h)] \n",
    "for i in range(0,20):\n",
    "    for j in range(0,20):\n",
    "        new_model.reactions.EX_glc__D_e.bounds = -i,-i\n",
    "        new_model.reactions.EX_o2_e.bounds = -j,-j\n",
    "        growthRates[i][j] = new_model.optimize().objective_value"
   ]
  },
  {
   "cell_type": "code",
   "execution_count": 102,
   "id": "e0817423",
   "metadata": {},
   "outputs": [
    {
     "name": "stdout",
     "output_type": "stream",
     "text": [
      "[[0.0, 0.0, 0.0, 0.0, 0.0, 0.0, 0.0, 0.0, 0.0, 0.0, 0.0, 0.0, 0.0, 0.0, 0.0, 0.0, 0.0, 0.0, 0.0, 0.0], [0.0, 0.040940192858216394, 0.07791231229785656, 0.08647858262764228, 0.08647858262764027, 0.08647858262764072, 0.08647858262764131, 0.08647858262764212, 0.08647858262763733, 0.0864785826276386, 0.08647858262764443, 0.08647858262765104, 0.08647858262764604, 0.08647858262764126, 0.0864785826276471, 0.08647858262764269, 0.08647858262764836, 0.08647858262764231, 0.08647858262763743, 0.0864785826276441], [0.020447500257655887, 0.07037906853942595, 0.11537690714587898, 0.15483211106325684, 0.18602227486090372, 0.18602227486090298, 0.1860222748609025, 0.18602227486090406, 0.1860222748609036, 0.18602227486090328, 0.18602227486090184, 0.18602227486090225, 0.1860222748609041, 0.1860222748609042, 0.18602227486090547, 0.1860222748609052, 0.18602227486090483, 0.1860222748609022, 0.18602227486090464, 0.18602227486090142], [0.04807925736259531, 0.09808736323959476, 0.14727835612551954, 0.18981362143354705, 0.23175190982865776, 0.2640085996335039, 0.2855659670941652, 0.28556596709416454, 0.2855659670941621, 0.2855659670941639, 0.2855659670941628, 0.2855659670941611, 0.2855659670941653, 0.2855659670941643, 0.28556596709416543, 0.28556596709416027, 0.28556596709416265, 0.2855659670941613, 0.28556596709415993, 0.28556596709415843], [0.07571101446753623, 0.1257956579405519, 0.17567058840156424, 0.2217150704139729, 0.2642503357212091, 0.30678560102844715, 0.3409283983988981, 0.3731850882037421, 0.385109659327419, 0.3851096593274187, 0.38510965932741903, 0.3851096593274204, 0.38510965932742025, 0.3851096593274186, 0.38510965932742025, 0.3851096593274188, 0.38510965932742075, 0.3851096593274199, 0.38510965932741714, 0.3851096593274175], [0.10334277157073132, 0.15350395264111447, 0.20337888310212665, 0.253253813563138, 0.2961517847016402, 0.33868705000887783, 0.3812223153161172, 0.41784819716430277, 0.45010488696914874, 0.48236157677399505, 0.4846533515606815, 0.48465335156068456, 0.4846533515606793, 0.4846533515606853, 0.4846533515606835, 0.4846533515606857, 0.4846533515606859, 0.4846533515606885, 0.48465335156068035, 0.48465335156068245], [0.13097452867691398, 0.18121224734167884, 0.2310871778026911, 0.2809621082637013, 0.32805323368206835, 0.37058849898930685, 0.4131237642965425, 0.45565902960378174, 0.4947679959297021, 0.5270246857345471, 0.5592813755393916, 0.5841970437939444, 0.5841970437939424, 0.5841970437939458, 0.5841970437939412, 0.5841970437939432, 0.5841970437939447, 0.584197043793944, 0.5841970437939422, 0.5841970437939441], [0.15860628578235728, 0.2089205420422438, 0.25879547250325347, 0.30867040296426707, 0.3585453334252794, 0.4024899479697378, 0.44502521327697614, 0.48756047858421553, 0.5300957438914505, 0.5716877946951099, 0.6039444844999572, 0.6362011743047997, 0.6684578641096479, 0.6837407360272177, 0.6837407360272166, 0.6837407360272224, 0.6837407360272095, 0.6837407360272122, 0.6837407360272102, 0.6837407360272209], [0.18623804288960585, 0.2366288367428035, 0.2865037672038159, 0.3363786976648268, 0.3862536281258396, 0.4343913969501588, 0.4769266622573985, 0.5194619275646358, 0.5619971928718741, 0.6045324581791097, 0.6470677234863463, 0.6808642832653459, 0.7131209730701946, 0.745377662875038, 0.7776343526798779, 0.7832844282604601, 0.7832844282604593, 0.7832844282604599, 0.783284428260461, 0.7832844282604646], [0.21386979999223565, 0.264337131443364, 0.314212061904376, 0.36408699236538805, 0.4139619228264005, 0.4638368532874157, 0.5088281112378311, 0.5513633765450687, 0.5938986418523061, 0.6364339071595473, 0.6789691724667798, 0.7215044377740137, 0.7577840820307558, 0.7900407718355964, 0.8222974616404388, 0.8545541514452863, 0.8828281204937225, 0.8828281204937238, 0.8828281204937148, 0.8828281204937226], [0.24150155709708263, 0.29204542614392764, 0.34192035660493997, 0.3917952870659507, 0.441670217526963, 0.4915451479879757, 0.5407295602182544, 0.5832648255254881, 0.6258000908327251, 0.6683353561399618, 0.7108706214471994, 0.7534058867544385, 0.795941152061672, 0.8347038807961642, 0.8669605706010078, 0.8992172604058527, 0.9314739502106987, 0.9637306400155324, 0.9823718127270136, 0.982371812726979], [0.26913331420073544, 0.3197537208444898, 0.3696286513055017, 0.4195035817665134, 0.46937851222752636, 0.5192534426885391, 0.5691283731495508, 0.6151662745059188, 0.6577015398131556, 0.7002368051203941, 0.7427720704276324, 0.7853073357348732, 0.8278426010421027, 0.870377866349339, 0.9116236795615478, 0.9438803693663932, 0.9761370591712307, 1.0083937489760764, 1.040650438780921, 1.0729071285857756], [0.2967650713070136, 0.34746201554505257, 0.3973369460060653, 0.44721187646707705, 0.49708680692808993, 0.5469617373891018, 0.5968366678501136, 0.6467115983111262, 0.6896029887935863, 0.7321382541008232, 0.7746735194080613, 0.8172087847152983, 0.8597440500225357, 0.9022793153297727, 0.944814580637011, 0.9873498459442481, 1.020800168131793, 1.0530568579366386, 1.085313547741485, 1.1175702375463281], [0.3243968284120537, 0.3751703102456133, 0.42504524070662625, 0.4749201711676401, 0.524795101628651, 0.5746700320896627, 0.6245449625506766, 0.6744198930116888, 0.7215044377740133, 0.7640397030812512, 0.8065749683884872, 0.8491102336957242, 0.8916454990029647, 0.9341807643102006, 0.9767160296174373, 1.019251294924673, 1.0617865602319128, 1.0977199668972, 1.1299766567020448, 1.1622333465068915], [0.3520285855169423, 0.4028786049461753, 0.4527535354071885, 0.5026284658682006, 0.5525033963292133, 0.6023783267902251, 0.6522532572512397, 0.7021281877122514, 0.7520031181732639, 0.7959411520616774, 0.8384764173689168, 0.881011682676154, 0.9235469479833907, 0.9660822132906284, 1.0086174785978654, 1.0511527439051058, 1.0936880092123407, 1.1362232745195795, 1.1746397656625926, 1.206896455467442], [0.3796603426218742, 0.4305868996467392, 0.48046183010775134, 0.5303367605687638, 0.5802116910297758, 0.6300866214907872, 0.6799615519517992, 0.729836482412812, 0.7797114128738238, 0.8278426010421049, 0.8703778663493433, 0.9129131316565816, 0.9554483969638177, 0.9979836622710566, 1.0405189275782951, 1.0830541928855308, 1.1255894581927672, 1.1681247235000047, 1.2106599888072438, 1.2515595644279902], [0.40729209972681857, 0.458295194347303, 0.5081701248083154, 0.5580450552693277, 0.6079199857303462, 0.6577949161913551, 0.707669846652367, 0.7575447771133811, 0.8074197075743949, 0.857294638035406, 0.9022793153297783, 0.9448145806370128, 0.98734984594425, 1.0298851112514882, 1.0724203765587228, 1.1149556418659645, 1.1574909071732, 1.2000261724804384, 1.2425614377876721, 1.2850967030949108], [0.4349238568317612, 0.4860034890478631, 0.5358784195088779, 0.5857533499698895, 0.6356282804309009, 0.6855032108919138, 0.7353781413529263, 0.7852530718139372, 0.8351280022749519, 0.8850029327359618, 0.9341807643101996, 0.9767160296174378, 1.0192512949246726, 1.0617865602319123, 1.104321825539149, 1.1468570908463869, 1.1893923561536226, 1.23192762146086, 1.274462886768097, 1.3169981520753342], [0.4625556139366979, 0.5137117837484267, 0.5635867142094396, 0.613461644670452, 0.6633365751314647, 0.7132115055924786, 0.7630864360534889, 0.8129613665145036, 0.862836296975512, 0.9127112274365301, 0.9625861578975393, 1.0086174785978714, 1.051152743905109, 1.0936880092123435, 1.136223274519585, 1.178758539826815, 1.2212938051340614, 1.2638290704413, 1.3063643357485286, 1.3488996010557752], [0.4901873710416394, 0.5414200784489885, 0.59129500891, 0.641169939371012, 0.6910448698320235, 0.7409198002930372, 0.7907947307540467, 0.84066966121506, 0.8905445916760714, 0.9404195221370816, 0.9902944525980962, 1.0401693830591099, 1.0830541928855262, 1.125589458192761, 1.1681247235000007, 1.2106599888072345, 1.2531952541144709, 1.2957305194217064, 1.3382657847289463, 1.3808010500361811]]\n"
     ]
    }
   ],
   "source": [
    "print(growthRates)"
   ]
  },
  {
   "cell_type": "code",
   "execution_count": 106,
   "id": "89f962bf",
   "metadata": {},
   "outputs": [
    {
     "data": {
      "image/png": "[encoded data removed]",
      "text/plain": [
       "<Figure size 1008x648 with 1 Axes>"
      ]
     },
     "metadata": {
      "needs_background": "light"
     },
     "output_type": "display_data"
    }
   ],
   "source": [
    "from mpl_toolkits import mplot3d\n",
    "import numpy as np\n",
    "import matplotlib.pyplot as plt\n",
    "# Creating figyre\n",
    "fig = plt.figure(figsize =(14, 9))\n",
    "ax = plt.axes(projection ='3d')\n",
    "x = [0,1,2,3,4,5,6,7,8,9,10,11,12,13,14,15,16,17,18,19]\n",
    "y = [0,1,2,3,4,5,6,7,8,9,10,11,12,13,14,15,16,17,18,19]\n",
    "\n",
    "# Creating plot\n",
    "ax.plot_surface(np.array(x), np.array(y), np.array(growthRates))\n",
    "plt.xlabel(\"glucose uptake rate\") \n",
    "plt.ylabel(\"oxygen uptake rate\")\n",
    "#plt.zlabel(\"growth rate\") \n",
    "# show plot\n",
    "plt.show()"
   ]
  },
  {
   "cell_type": "code",
   "execution_count": null,
   "id": "30933c12",
   "metadata": {},
   "outputs": [],
   "source": []
  }
 ],
 "metadata": {
  "kernelspec": {
   "display_name": "Python 3",
   "language": "python",
   "name": "python3"
  },
  "language_info": {
   "codemirror_mode": {
    "name": "ipython",
    "version": 3
   },
   "file_extension": ".py",
   "mimetype": "text/x-python",
   "name": "python",
   "nbconvert_exporter": "python",
   "pygments_lexer": "ipython3",
   "version": "3.8.8"
  }
 },
 "nbformat": 4,
 "nbformat_minor": 5
}
